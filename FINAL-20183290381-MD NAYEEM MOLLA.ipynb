
  },
  {
   "cell_type": "code",
   "execution_count": 1,
   "metadata": {
    "collapsed": false
   },
   "outputs": [],
   "source": [
    "import pandas as pd\r\n",
    "import numpy as np\r\n",
    "import seaborn as sns\r\n",
    "import matplotlib.pyplot as plt\r\n",
    "from sklearn.model_selection import train_test_split\r\n",
    "from pandas.plotting import parallel_coordinates\r\n",
    "from sklearn.tree import DecisionTreeClassifier, plot_tree\r\n",
    "from sklearn import metrics\r\n",
    "from sklearn.naive_bayes import GaussianNB\r\n",
    "from sklearn.discriminant_analysis import LinearDiscriminantAnalysis, QuadraticDiscriminantAnalysis\r\n",
    "from sklearn.neighbors import KNeighborsClassifier\r\n",
    "from sklearn.svm import SVC\r\n",
    "from sklearn.linear_model import LogisticRegression"
   ]
  },
  {
   "cell_type": "code",
   "execution_count": 2,
   "metadata": {
    "collapsed": false
   },
   "outputs": [],
   "source": [
    "# load through url\r\n",
    "url = 'http://archive.ics.uci.edu/ml/machine-learning-databases/iris/iris.data'\r\n",
    "attributes = [\"sepal_length\", \"sepal_width\", \"petal_length\", \"petal_width\", \"class\"]\r\n",
    "dataset = pd.read_csv(url, names = attributes)\r\n",
    "dataset.columns = attributes"
   ]
  },
  {
   "cell_type": "code",
   "execution_count": 3,
   "metadata": {
    "collapsed": false
   },
   "outputs": [
    {
     "data": {
      "text/html": [
       "<div>\n",
       "<style scoped>\n",
       "    .dataframe tbody tr th:only-of-type {\n",
       "        vertical-align: middle;\n",
       "    }\n",
       "\n",
       "    .dataframe tbody tr th {\n",
       "        vertical-align: top;\n",
       "    }\n",
       "\n",
       "    .dataframe thead th {\n",
       "        text-align: right;\n",
       "    }\n",
       "</style>\n",
       "<table border=\"1\" class=\"dataframe\">\n",
       "  <thead>\n",
       "    <tr style=\"text-align: right;\">\n",
       "      <th></th>\n",
       "      <th>sepal_length</th>\n",
       "      <th>sepal_width</th>\n",
       "      <th>petal_length</th>\n",
       "      <th>petal_width</th>\n",
       "      <th>class</th>\n",
       "    </tr>\n",
       "  </thead>\n",
       "  <tbody>\n",
       "    <tr>\n",
       "      <th>0</th>\n",
       "      <td>5.1</td>\n",
       "      <td>3.5</td>\n",
       "      <td>1.4</td>\n",
       "      <td>0.2</td>\n",
       "      <td>Iris-setosa</td>\n",
       "    </tr>\n",
       "    <tr>\n",
       "      <th>1</th>\n",
       "      <td>4.9</td>\n",
       "      <td>3.0</td>\n",
       "      <td>1.4</td>\n",
       "      <td>0.2</td>\n",
       "      <td>Iris-setosa</td>\n",
       "    </tr>\n",
       "    <tr>\n",
       "      <th>2</th>\n",
       "      <td>4.7</td>\n",
       "      <td>3.2</td>\n",
       "      <td>1.3</td>\n",
       "      <td>0.2</td>\n",
       "      <td>Iris-setosa</td>\n",
       "    </tr>\n",
       "    <tr>\n",
       "      <th>3</th>\n",
       "      <td>4.6</td>\n",
       "      <td>3.1</td>\n",
       "      <td>1.5</td>\n",
       "      <td>0.2</td>\n",
       "      <td>Iris-setosa</td>\n",
       "    </tr>\n",
       "    <tr>\n",
       "      <th>4</th>\n",
       "      <td>5.0</td>\n",
       "      <td>3.6</td>\n",
       "      <td>1.4</td>\n",
       "      <td>0.2</td>\n",
       "      <td>Iris-setosa</td>\n",
       "    </tr>\n",
       "    <tr>\n",
       "      <th>...</th>\n",
       "      <td>...</td>\n",
       "      <td>...</td>\n",
       "      <td>...</td>\n",
       "      <td>...</td>\n",
       "      <td>...</td>\n",
       "    </tr>\n",
       "    <tr>\n",
       "      <th>145</th>\n",
       "      <td>6.7</td>\n",
       "      <td>3.0</td>\n",
       "      <td>5.2</td>\n",
       "      <td>2.3</td>\n",
       "      <td>Iris-virginica</td>\n",
       "    </tr>\n",
       "    <tr>\n",
       "      <th>146</th>\n",
       "      <td>6.3</td>\n",
       "      <td>2.5</td>\n",
       "      <td>5.0</td>\n",
       "      <td>1.9</td>\n",
       "      <td>Iris-virginica</td>\n",
       "    </tr>\n",
       "    <tr>\n",
       "      <th>147</th>\n",
       "      <td>6.5</td>\n",
       "      <td>3.0</td>\n",
       "      <td>5.2</td>\n",
       "      <td>2.0</td>\n",
       "      <td>Iris-virginica</td>\n",
       "    </tr>\n",
       "    <tr>\n",
       "      <th>148</th>\n",
       "      <td>6.2</td>\n",
       "      <td>3.4</td>\n",
       "      <td>5.4</td>\n",
       "      <td>2.3</td>\n",
       "      <td>Iris-virginica</td>\n",
       "    </tr>\n",
       "    <tr>\n",
       "      <th>149</th>\n",
       "      <td>5.9</td>\n",
       "      <td>3.0</td>\n",
       "      <td>5.1</td>\n",
       "      <td>1.8</td>\n",
       "      <td>Iris-virginica</td>\n",
       "    </tr>\n",
       "  </tbody>\n",
       "</table>\n",
       "<p>150 rows × 5 columns</p>\n",
       "</div>"
      ],
      "text/plain": [
       "     sepal_length  sepal_width  petal_length  petal_width           class\n",
       "0             5.1          3.5           1.4          0.2     Iris-setosa\n",
       "1             4.9          3.0           1.4          0.2     Iris-setosa\n",
       "2             4.7          3.2           1.3          0.2     Iris-setosa\n",
       "3             4.6          3.1           1.5          0.2     Iris-setosa\n",
       "4             5.0          3.6           1.4          0.2     Iris-setosa\n",
       "..            ...          ...           ...          ...             ...\n",
       "145           6.7          3.0           5.2          2.3  Iris-virginica\n",
       "146           6.3          2.5           5.0          1.9  Iris-virginica\n",
       "147           6.5          3.0           5.2          2.0  Iris-virginica\n",
       "148           6.2          3.4           5.4          2.3  Iris-virginica\n",
       "149           5.9          3.0           5.1          1.8  Iris-virginica\n",
       "\n",
       "[150 rows x 5 columns]"
      ]
     },
     "execution_count": 3,
     "metadata": {},
     "output_type": "execute_result"
    }
   ],
   "source": [
    "dataset"
   ]
  },
  {
   "cell_type": "code",
   "execution_count": 4,
   "metadata": {
    "collapsed": false
   },
   "outputs": [],
   "source": [
    "# or load through local csv\r\n",
    "data = pd.read_csv('data/data.csv')"
   ]
  },
  {
   "cell_type": "code",
   "execution_count": 5,
   "metadata": {
    "collapsed": false
   },
   "outputs": [
    {
     "data": {
      "text/html": [
       "<div>\n",
       "<style scoped>\n",
       "    .dataframe tbody tr th:only-of-type {\n",
       "        vertical-align: middle;\n",
       "    }\n",
       "\n",
       "    .dataframe tbody tr th {\n",
       "        vertical-align: top;\n",
       "    }\n",
       "\n",
       "    .dataframe thead th {\n",
       "        text-align: right;\n",
       "    }\n",
       "</style>\n",
       "<table border=\"1\" class=\"dataframe\">\n",
       "  <thead>\n",
       "    <tr style=\"text-align: right;\">\n",
       "      <th></th>\n",
       "      <th>sepal_length</th>\n",
       "      <th>sepal_width</th>\n",
       "      <th>petal_length</th>\n",
       "      <th>petal_width</th>\n",
       "      <th>species</th>\n",
       "    </tr>\n",
       "  </thead>\n",
       "  <tbody>\n",
       "    <tr>\n",
       "      <th>0</th>\n",
       "      <td>5.1</td>\n",
       "      <td>3.5</td>\n",
       "      <td>1.4</td>\n",
       "      <td>0.2</td>\n",
       "      <td>setosa</td>\n",
       "    </tr>\n",
       "    <tr>\n",
       "      <th>1</th>\n",
       "      <td>4.9</td>\n",
       "      <td>3.0</td>\n",
       "      <td>1.4</td>\n",
       "      <td>0.2</td>\n",
       "      <td>setosa</td>\n",
       "    </tr>\n",
       "    <tr>\n",
       "      <th>2</th>\n",
       "      <td>4.7</td>\n",
       "      <td>3.2</td>\n",
       "      <td>1.3</td>\n",
       "      <td>0.2</td>\n",
       "      <td>setosa</td>\n",
       "    </tr>\n",
       "    <tr>\n",
       "      <th>3</th>\n",
       "      <td>4.6</td>\n",
       "      <td>3.1</td>\n",
       "      <td>1.5</td>\n",
       "      <td>0.2</td>\n",
       "      <td>setosa</td>\n",
       "    </tr>\n",
       "    <tr>\n",
       "      <th>4</th>\n",
       "      <td>5.0</td>\n",
       "      <td>3.6</td>\n",
       "      <td>1.4</td>\n",
       "      <td>0.2</td>\n",
       "      <td>setosa</td>\n",
       "    </tr>\n",
       "  </tbody>\n",
       "</table>\n",
       "</div>"
      ],
      "text/plain": [
       "   sepal_length  sepal_width  petal_length  petal_width species\n",
       "0           5.1          3.5           1.4          0.2  setosa\n",
       "1           4.9          3.0           1.4          0.2  setosa\n",
       "2           4.7          3.2           1.3          0.2  setosa\n",
       "3           4.6          3.1           1.5          0.2  setosa\n",
       "4           5.0          3.6           1.4          0.2  setosa"
      ]
     },
     "execution_count": 5,
     "metadata": {},
     "output_type": "execute_result"
    }
   ],
   "source": [
    "data.head(5)"
   ]
  },
  {
   "cell_type": "code",
   "execution_count": 6,
   "metadata": {
    "collapsed": false
   },
   "outputs": [
    {
     "data": {
      "text/plain": [
       "sepal_length    float64\n",
       "sepal_width     float64\n",
       "petal_length    float64\n",
       "petal_width     float64\n",
       "species          object\n",
       "dtype: object"
      ]
     },
     "execution_count": 6,
     "metadata": {},
     "output_type": "execute_result"
    }
   ],
   "source": [
    "data.dtypes"
   ]
  },
  {
   "cell_type": "code",
   "execution_count": 7,
   "metadata": {
    "collapsed": false
   },
   "outputs": [
    {
     "data": {
      "text/plain": [
       "species\n",
       "setosa        50\n",
       "versicolor    50\n",
       "virginica     50\n",
       "dtype: int64"
      ]
     },
     "execution_count": 7,
     "metadata": {},
     "output_type": "execute_result"
    }
   ],
   "source": [
    "# number of instances in each class\r\n",
    "data.groupby('species').size()"
   ]
  },
  {
   "cell_type": "code",
   "execution_count": 8,
   "metadata": {
    "collapsed": false
   },
   "outputs": [],
   "source": [
    "# Take out a test set\r\n",
    "train, test = train_test_split(data, test_size = 0.4, stratify = data['species'], random_state = 42)"
   ]
  },
  {
   "cell_type": "code",
   "execution_count": 9,
   "metadata": {
    "collapsed": false
   },
   "outputs": [
    {
     "data": {
      "text/plain": [
       "species\n",
       "setosa        30\n",
       "versicolor    30\n",
       "virginica     30\n",
       "dtype: int64"
      ]
     },
     "execution_count": 9,
     "metadata": {},
     "output_type": "execute_result"
    }
   ],
   "source": [
    "# number of instances in each class in training data\r\n",
    "train.groupby('species').size()"
   ]
  },
  {
   "cell_type": "code",
   "execution_count": 10,
   "metadata": {
    "collapsed": false
   },
   "outputs": [
    {
     "data": {
      "image/png": "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\n",
      "text/plain": [
       "<Figure size 432x288 with 4 Axes>"
      ]
     },
     "metadata": {},
     "output_type": "display_data"
    }
   ],
   "source": [
    "# histograms\r\n",
    "n_bins = 10\r\n",
    "fig, axs = plt.subplots(2, 2)\r\n",
    "axs[0,0].hist(train['sepal_length'], bins = n_bins);\r\n",
    "axs[0,0].set_title('Sepal Length');\r\n",
    "axs[0,1].hist(train['sepal_width'], bins = n_bins);\r\n",
    "axs[0,1].set_title('Sepal Width');\r\n",
    "axs[1,0].hist(train['petal_length'], bins = n_bins);\r\n",
    "axs[1,0].set_title('Petal Length');\r\n",
    "axs[1,1].hist(train['petal_width'], bins = n_bins);\r\n",
    "axs[1,1].set_title('Petal Width');\r\n",
    "\r\n",
    "# add some spacing between subplots\r\n",
    "fig.tight_layout(pad=1.0);"
   ]
  },
  {
   "cell_type": "code",
   "execution_count": 11,
   "metadata": {
    "collapsed": false
   },
   "outputs": [
    {
     "data": {
      "image/png": "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\n",
      "text/plain": [
       "<Figure size 432x288 with 4 Axes>"
      ]
     },
     "metadata": {},
     "output_type": "display_data"
    }
   ],
   "source": [
    "# boxplots using seaborn\r\n",
    "fig, axs = plt.subplots(2, 2)\r\n",
    "fn = [\"sepal_length\", \"sepal_width\", \"petal_length\", \"petal_width\"]\r\n",
    "cn = ['setosa', 'versicolor', 'virginica']\r\n",
    "sns.boxplot(x = 'species', y = 'sepal_length', data = train, order = cn, ax = axs[0,0]);\r\n",
    "sns.boxplot(x = 'species', y = 'sepal_width', data = train, order = cn, ax = axs[0,1]);\r\n",
    "sns.boxplot(x = 'species', y = 'petal_length', data = train, order = cn, ax = axs[1,0]);\r\n",
    "sns.boxplot(x = 'species', y = 'petal_width', data = train,  order = cn, ax = axs[1,1]);\r\n",
    "# add some spacing between subplots\r\n",
    "fig.tight_layout(pad=1.0);"
   ]
  },
  {
   "cell_type": "code",
   "execution_count": 12,
   "metadata": {
    "collapsed": false
   },
   "outputs": [
    {
     "data": {
      "image/png": "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\n",
      "text/plain": [
       "<Figure size 720x288 with 2 Axes>"
      ]
     },
     "metadata": {},
     "output_type": "display_data"
    }
   ],
   "source": [
    "\r\n",
    "# right off the bat, we see that petal length/width can separate setosa from the others\r\n",
    "# histogram by species\r\n",
    "setosa_pl = train.loc[train.species=='setosa', 'petal_length']\r\n",
    "versicolor_pl = train.loc[train.species=='versicolor', 'petal_length']\r\n",
    "virginica_pl = train.loc[train.species=='virginica', 'petal_length']\r\n",
    "setosa_pw = train.loc[train.species=='setosa', 'petal_width']\r\n",
    "versicolor_pw = train.loc[train.species=='versicolor', 'petal_width']\r\n",
    "virginica_pw = train.loc[train.species=='virginica', 'petal_width']\r\n",
    "\r\n",
    "fig, axs = plt.subplots(1, 2)\r\n",
    "# set figure size\r\n",
    "fig.set_size_inches(10,4)\r\n",
    "ax1 = sns.distplot(setosa_pl, color=\"blue\", label=\"Setosa\", ax = axs[0]);\r\n",
    "ax1.set_title('Petal Length By Species')\r\n",
    "ax1 = sns.distplot(versicolor_pl, color=\"red\", label=\"Versicolor\", ax = axs[0]);\r\n",
    "ax1 = sns.distplot(virginica_pl, color=\"green\", label=\"Virginica\", ax = axs[0]);\r\n",
    "\r\n",
    "ax2 = sns.distplot(setosa_pw, color=\"blue\", label=\"Setosa\", ax = axs[1]);\r\n",
    "ax2.set_title('Petal Width By Species')\r\n",
    "ax2 = sns.distplot(versicolor_pw, color=\"red\", label=\"Versicolor\", ax = axs[1]);\r\n",
    "ax2 = sns.distplot(virginica_pw, color=\"green\", label=\"Virginica\", ax = axs[1]);\r\n",
    "\r\n",
    "plt.legend();"
   ]
  },
  {
   "cell_type": "code",
   "execution_count": 13,
   "metadata": {
    "collapsed": false
   },
   "outputs": [
    {
     "data": {
      "image/png": "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\n",
      "text/plain": [
       "<Figure size 432x288 with 1 Axes>"
      ]
     },
     "metadata": {},
     "output_type": "display_data"
    }
   ],
   "source": [
    "sns.violinplot(x=\"species\", y=\"petal_length\", data=train, size=5, order = cn, palette = 'colorblind');"
   ]
  },
  {
   "cell_type": "code",
   "execution_count": 14,
   "metadata": {
    "collapsed": false
   },
   "outputs": [
    {
     "data": {
      "image/png": "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\n",
      "text/plain": [
       "<Figure size 660.75x576 with 20 Axes>"
      ]
     },
     "metadata": {},
     "output_type": "display_data"
    }
   ],
   "source": [
    "# bivariate relationship\r\n",
    "# scatterplot matrix\r\n",
    "sns.pairplot(train, hue=\"species\", height = 2, palette = 'colorblind');"
   ]
  },
  {
   "cell_type": "code",
   "execution_count": 15,
   "metadata": {
    "collapsed": false
   },
   "outputs": [
    {
     "data": {
      "image/png": "iVBORw0KGgoAAAANSUhEUgAAAWkAAAEyCAYAAAA4MiF6AAAABHNCSVQICAgIfAhkiAAAAAlwSFlzAAALEgAACxIB0t1+/AAAADl0RVh0U29mdHdhcmUAbWF0cGxvdGxpYiB2ZXJzaW9uIDIuMi4zLCBodHRwOi8vbWF0cGxvdGxpYi5vcmcvIxREBQAAIABJREFUeJzt3Xd8FWXWwPHfIRQpUkILVRFBpSgdRdSAUhURxV0byoovCrbV1RWVVewi1rXQFRRlVRBFioAKIkWaIE1BwEaNdBAIJPe8f8wkJJCQG+5NZu7kfP3cD5mZ586cMcnJc88884yoKsYYY/ypkNcBGGOMyZ4laWOM8TFL0sYY42OWpI0xxscsSRtjjI9ZkjbGGB+zJG2MMWEQkbdFJElEVmazXUTkvyKyTkSWi0iTaBzXkrQxxoRnFNDxBNs7AXXcV29gcDQOaknaGGPCoKqzgZ0naNIVeFcd3wFlRaRKpMe1JG2MMdFRDfgjw/JGd11ECke6g4LqyPYNgbyf/qam93sdQp4YPa6H1yHkCd21zesQ8kzx9n0l0n3k5ve0aMXat+OUKdIMU9VhkcYQKUvSxpjgCqWG3dRNyJEk5U1AjQzL1d11EbFyhzEmuDQU/ityE4Gb3VEe5wN7VHVLpDu1nrQxJrhCUUm+AIjIWCARqCAiG4HHgSIAqjoEmAJ0BtYBB4B/ROO4lqSNMYGlqSnR25fq9TlsV+DOqB3QZUnaGBNc0SljeMqStDEmuHJx4dCvLEkbY4LLetLGGONjUbxw6BVL0saYwFLrSRtjjI9FcXSHVyxJG2OCyy4cGmOMj1m5wxhjfMwuHBpjjI9ZT9oYY3zMetLGGONfGjridQgRsyRtjAku60kbY4yPWU3aGGN8zMZJG2OMj1lP2hhjfMxuCzd5qf+zLzN77kLiy5Xl0zFDvA4nLD0H3EbjNk1JPpjM4Af+yy8rNxzXplaD2vR96R6KnlKUpTOXMGrACAC6//M6Lr2+HXt37AVg7KAxLJu5JP195atW4OUvX+fjV//HpGGf5c8JHWPuD2sZ+N4kQqEQ3RKb0+vKSzJt37J9N/2Hfsy+A4cIhZR7/96BixqdxZGUVJ4Y8Qk//rqZ1FCILq0b0+vKRE/OITtzV//KC+O/IRRSul1Qn1vbN8+0fcvOvfxnzAz2HUwmFApxz5UXclH9Wsz/6Tf+O3EeR1JSKVI4jvu6tqbFWTWyOUo+swuHJi9d1bkdN1xzJY889aLXoYSlUZumJNSqwr2X9KFO47r0evoO+l/17+Pa3fbM7Qzr9yY/L11Lv9H/oVFiE5bN+h6AySMnZpuAb/7PrentvJAaCvHs6IkM7XcrleNLc8Njb5HY9GxqV6uc3mb4ZzPp0LIhf7vsfNZv2sZdg0Yz9dV/M2PhCg6npDD++Xs5mHyYqx96lY4XnEe1iuU8O5+MUkMhnvt4FkPu7EblsqW4cdD/uKThGdSuUj69zfBpi2jfuA5/u+hc1m/ZwV1DPmPqE7UoV7I4r93ehUplSrFu83b6vPUpM56+zcOzySAASdrTp4WLSKKITDrB9p4i8kYeHLeniFTNsPyriFSI9nEi1axRQ8qUPtXrMMLWvF0LZo+fBcDPS9dSsnRJylbKnITKVipH8VIl+HnpWgBmj59F8/Ytc9x3s/YtSfpjG3+s/SPqcYdr5fqN1KhcnuqV4ilSuDAdzz+XWUt+PK7d/oPJzr8HkqlYrjQAgnAw+QgpqakkH06hcOE4ShUvlq/xn8jK37ZRo0IZqlcoQ5HCcXRoWpdZKzJ/ChKBvw4dBmD/ocNULFMKgLNrVKKS+3XtKuVJPpLC4SP+KDOopob98quC2pPuCawENnscR6CUS4hnx+bt6cs7tu4gvnI8u5N2pa+LrxzPzq070pd3btlBuYT49OUON1/OxVe3YcOKdbz31Dv8tfcvipU4ha59uvH0jQPo0vuq/DmZLCTt2kNCfJn05UrxZVixPvMfjT5XX8odA99h7PT5HEw+zLCHewFwWYsGzPx+NZfd9RwHDx/hwRsvp0ypEvka/4kk7d5PQrmjHYLKZUux4tetmdrc0el8+rw5gbGzf+Bg8hGG3tXtuP18uWwd51SvRNEiPkktBaEnLSIlRWSyiPwgIitF5O8i0lREvhGRJSIyTUSquG1nichrIrLMbdvCXd9CROaLyFIRmSciZ+U2UBGpKCLjRWSR+7rQXT9ARN52j71BRO7J8J7/iMgaEZkjImNF5AER6Q40A9534yzuNr9bRL4XkRUicnZu4zORmzFmKvdcfAcPdbqPXUm76PGffwBw7X3XMXnE5yQfOORxhDmbOn85V17chBmv9+PNB3vy6OCPCIVCrNywkbhChZjx+sNMeflB3p0yh41JO70ON1e+WLKGK1vWY/pTvXijT1f6vzedUEjTt6/bsoPXJs6l/3VtPYzyGBoK/+VT4ZQ7OgKbVfU8VW0AfAG8DnRX1abA28AzGdqXUNVGQF93G8BPwEWq2hh4DHj2JGJ9DXhFVZsD1wAjMmw7G+gAtAAeF5EiIpLW7jygE05iRlXHAYuBG1W1kaoedPexXVWbAIOBB7IKQER6i8hiEVk84t2xJ3EKwdP+5k4MnPIKA6e8wu6kXZSverRqVD6hPDu3ZU5EO7ftJD7haJ0zvkp5dm112uzZvgcNhVBVvh47gzPPqwPAmY3qcuPDt/D6nGF0vrUL3e7sTodbOufD2WVWqVwZtu7ck76ctHMPld1yRpoJ3yymQ8uGAJxXpybJR1LYte8AU+cto9W5dSlSOI7yZUrRqO5prNqwMV/jP5FKZUuxdde+9OVtu/dTqWypTG0mzF9F+ybO9+S8WlVIPpLC7r+cX59tu/Zx//BJPNWjPTUqls2/wHOSmhL+y6fC+UyyAnhJRAYCk4BdQANghogAxAFbMrQfC6Cqs0WktIiUBU4FRotIHUCBIicR62VAPfeYAKVFJO2naLKqJgPJIpIEVAYuBD5T1UPAIRH5PIf9f+L+uwS4OqsGqjoMGAZwZPsGzapNQTP93alMf3cqAI3bNqXDLZ2ZN/Fb6jSuy4F9f2UqdQDsTtrFwf0HqNO4Lj8vXcvF1yTyxagpgFOvTmvfvENL/ljzOwADrn0k/f3d/3kdhw4cZNroKflxepnUP6Mav2/dzsaknVSOL80X3y3nub5/z9SmSvmyLFi1nq4XN2XDpiQOH0khvnRJEsqXZeGq9XRp3ZgDhw6zYt3v3NSxVb6fQ3bq16zM73/uZtP2PVQqW4ppS9bybM+OmdpUKXcqC9b8Qdfz67Fh604OH0mlXKni7D2QzN1DJnLvlRfS+Iyq2RzBI1Eud4hIR5wOYxwwQlWfP2Z7TWA0UNZt009VI/phzTFJq+paEWkCdAaeBr4GVqnqBdm9JYvlp4CZqtpNRE4HZp1ErIWA892km85N2skZVqVycrX2tH2c7Puj7sHHn2fR0uXs3r2XS6+6ib69enBNlw5eh5WtpV8voXGbprw2ewiH3SF4aQZOeYWHOt8HwMj+Q+n70j0UOaUYy2YtSR9md+PDt3B6vVqoKn9uTGL4I4M9OY/sFI6L4+FbrqTPC+8QCilXXdKUM6tX5s1xM6hfqzqJTc/hXzd24skRExjzxVwE4cnbuyMiXNfufB4bNp5uD70KqnS9uCl1a1bx+pTSFY4rRL9rE+nz1qeEVOl6fj3OrFKetybPp17NyiQ2PIP7u13Ek2O/4v2ZS0HgiZvaISJ8OPsHft++m6FfLGDoFwsAGHJnN+JP9UHNPYplDBGJA94E2gEbgUUiMlFVV2do1h/4SFUHi0g9YApwekTHVT1xh9AdBbFTVQ+JyBU4ZYy6QA9VnS8iRYC6qrpKRGYBP6nqHSLSGhisqg1FZAIwRlXHi8gAoKeqni4iicADqnpFNsfuCTRT1btE5ANgqaoOcrc1UtVl7v72q+qL7vqVwBVARWAo0Aon6X4PDFPVF91e9cuqOtN9z6/ucbaLSDPgRVVNPNH/l6D2pG9qer/XIeSJ0eN6eB1CntBd27wOIc8Ub99Xcm51Ygen/jfs39Pine454fFE5AJggKp2cJcfBlDV5zK0GQpsUNWBbvuXVDWij0zh9BgbAoNEJAQcAfoAKcB/RaSMu49XgVVu+0MishSnpHGru+4FnHJHf2DyScZ6D/CmiCx3jzkbuCO7xqq6SEQmAsuBbThlm7SC4ihgiIgcBLL7RGCMiXXRLXdUAzIO59kIHDt+dAAwXUTuBkrilGkjEk65YxowLYtNF2fzljGq+s9j9jEfp/edpr+7fhYnKH2o6iichIqqbgf+nkWbAccsN8iw+KKqDhCREjhJfYnbZjwwPkO70zO8fzGQmF1MxpgYkotyh4j0BnpnWDXMvQ6VG9cDo1T1Jbcn/Z6INFA9+bqLL2qveWiYWxc6BRitqt7drmaMyX+5GLWRcWBANjYBGe93r+6uy6gXzog43HLwKUAFICnsQI4R1SSdUx03OyLyD+DeY1bPVdU7I4znhkjeb4yJcdEtdywC6ohILZzkfB1wbI75HbgUGCUi5+B0EP+M5KC+6Emr6jvAO17HYYwJmCiO7lDVFBG5C6f8Gwe87Q6YeBJYrKoTgX8Bw0XkPpyRbT01p9EZOfBFkjbGmDwR5XHS7pjnKceseyzD16tx7tGIGkvSxpjgCsDcHZakjTHBlerf2e3CZUnaGBNc1pM2xhgf8/HsduGyJG2MCS7rSRtjjI9FNvrNFyxJG2OCy3rSxhjjYz6ezD9clqSNMYGlISt3GGOMf1m5wxhjfMyG4BljjI9ZucMYY3wsxS4cGmOMf9k4aWOM8TG7cGiMMT5mNWljjPExG91RcN3U9H6vQ8gTY5a87HUIeaJ41Yu8DiFPlChSzOsQ8szev/pGvhPrSRtjjH9pik36b4wx/mXlDmOM8TErdxhjjI/ZEDxjjPGxAPSkC3kdgDHG5BkNhf8Kg4h0FJE1IrJORPpl0+ZvIrJaRFaJyAeRnoL1pI0xgRXN0R0iEge8CbQDNgKLRGSiqq7O0KYO8DBwoaruEpFKkR7XetLGmOAKafivnLUA1qnqBlU9DPwP6HpMm/8D3lTVXQCqmhTpKViSNsYEV3STdDXgjwzLG911GdUF6orIXBH5TkQ6RnoKVu4wxgRXLsZJi0hvoHeGVcNUdVguj1gYqAMkAtWB2SLSUFV353I/mXZojDHBlIvRHW5CPlFS3gTUyLBc3V2X0UZggaoeAX4RkbU4SXtR2IEcw8odxpjA0pRQ2K8wLALqiEgtESkKXAdMPKbNpzi9aESkAk75Y0Mk52A9aWNMcEXxZhZVTRGRu4BpQBzwtqquEpEngcWqOtHd1l5EVgOpwIOquiOS41qSNsYEV5RvZlHVKcCUY9Y9luFrBe53X1FhSdoYE1wBuOPQkrQxJrDUnnFojDE+Zj1pY4zxrzBHbfiaJWljTHBZT9oYY3ws9jvSlqSNMcGl1pM2xhgfC0CSttvCPdBzwG289s1gXvjiVWo1OCPLNrUa1GbQtNd47ZvB9BxwW/r67v+8jsELRjJwyisMnPIKjdo0zfS+8lUrMHr1WK7ofewMiv7R/9mXufjy67jqpju8DuWkvPLyk/y0eg7fL5lB40YNsmwz+fMxLFk8gx+Wfc2bbzxPoUJHf9Xu7PsPVq74hh+Wfc3zzz2aX2GH5YVBj7Fs+dfMWzCF8xrVz7LNJ5++w9zvJrNg0Re88trT6ed2VbdOLFj0Bbv3raNx44b5GXb2Qrl4+ZQl6XzWqE1TEmpV4d5L+jD84bfo9XTWieq2Z25nWL83ufeSPiTUqkKjxCbp2yaPnMhDne/joc73sWzmkkzvu/k/t7Js1vd5eg6RuqpzO4a8/LTXYZyUTh3bUufMWpxdrzV9+jzEm288l2W76264g6bN2nFeo7ZUrBhP9+5XAJB4SSuu7NKBJk2dbS+9PCQ/wz+h9h0SqX3m6TQ6ty333vUIr7z6VJbtbulxNxeefzktm3ekQoV4ul3dGYDVq9dy4w19mDtnYX6GfUKaomG//MpXSVpEEkVkUgTvbyYi/81m268iUkFEyopI32gdM7eat2vB7PGzAPh56VpKli5J2UrlMrUpW6kcxUuV4OelawGYPX4Wzdu3zHHfzdq3JOmPbfyx9o8c23qpWaOGlCl9qtdhnJQuXTrw3vvjAFiw8HvKlC1DQsLxD9/Yt28/AIULF6Zo0aKk3VNx++0388KgNzl8+DAAf/4Z0bQOUdX58ssY+8EEABYtWkaZMqWpnFDxuHaZz61I+g0ja9esZ93Pv+RfwGHQkIb98itfJelIqepiVb0nh2Zlgb45tMkz5RLi2bF5e/ryjq07iK8cn6lNfOV4dm49+su7c8sOyiUcbdPh5st54YtXuWPQXZQsXRKAYiVOoWufbox79cM8PoOCrVrVBDb+sTl9edPGLVSrmpBl2ymT3mfLph/Yt28/48c7/YA6dc6gdesWzJvzOV9/OY5mTc/Ll7jDUbVqAhs3bklf3rR5K1WrZH1uEz4bxfpfF7F//198OmFqfoWYewWx3CEiJUVksoj8ICIrReTvItJURL4RkSUiMk1EqrhtZ4nIayKyzG3bwl3fQkTmi8hSEZknImeFeewVbk9YRGSHiNzsrn9XRNpl7BWLSHkRme4+DHIEIO5ungdquzENcteVEpFxIvKTiLwvInL80Z1JwUVksYgsXr//19z+r4uKGWOmcs/Fd/BQp/vYlbSLHv/5BwDX3ncdk0d8TvKBQ57EZY7X+YobqV6zCcWKFaVtmwsBKFw4jnLlytKqdRce6vc0Yz/wT7kjN7p17Und2i0pWrQolyS28jqcbEX5ObSeOJmedEdgs6qep6oNgC+A14HuqtoUeBt4JkP7EqraCKf3+ra77ifgIlVtDDwGPBvmsecCFwL1ceZovchdfwEw75i2jwNzVLU+MAGo6a7vB6xX1Uaq+qC7rjHwT6AecIZ7jOOo6jBVbaaqzWqXOj3MkKH9zZ3SL/TtTtpF+aoV0reVTyjPzm07M7XfuW0n8Qnl05fjq5Rn11anzZ7te9BQCFXl67EzOPO8OgCc2aguNz58C6/PGUbnW7vQ7c7udLilc9gxmuz1ueMWFi+azuJF09mydRvVa1RN31atehU2bd6a7XuTk5OZ+Pl0unTpADg9708/dXqeixYvIxQKUaFCfLbvz2v/17sHc+ZPYs78SWzdmkT16lXSt1WrmsDmLSc6t8NMmTyDyy+/LD9CPTkB6EmfzBC8FcBLIjIQmATsAhoAM9wOaBywJUP7sQCqOltESotIWeBUYLT7ZF0FioR57G+Bi4HfgMFAbxGpBuxS1b+O6QBfDFztHnuyiOw6wX4XqupGABFZBpwOzAkzphxNf3cq0991fjEbt21Kh1s6M2/it9RpXJcD+/5id1Lm0HYn7eLg/gPUaVyXn5eu5eJrEvlilDM7YtlK5dLbN+/Qkj/W/A7AgGsfSX9/939ex6EDB5k2OtOMiuYkDR4ymsFDRgPQudOl9O3Tkw8//IyWLZqwd89etm7N/KzRkiVLcOqppdi6NYm4uDg6d7qUOXMWAPDZxGkkJrZi1jfzqFPnDIoWLcr27TuPO2Z+GT7sPYYPew+ADh3a0PuOHoz7+HOaN2/E3r372Lb1z0ztS5YsQalTS7Jt65/ExcXRvkMb5s876YeO5DlN8TqCyOU6SavqWhFpAnQGnga+Blap6gXZvSWL5aeAmaraTUROB2aFefjZwJ04veJHgW5Ad5zkHYnkDF+nkofjx5d+vYTGbZry2uwhHD6YzOAHjl7nHDjlFR7qfB8AI/sPpe9L91DklGIsm7UkfRTHjQ/fwun1aqGq/LkxieGPDM6rUPPMg48/z6Kly9m9ey+XXnUTfXv14Bq3p+l3U6Z+RceObVnz41wOHDzIbbcdnTZ48aLpNGvenpIlSzDhk3coVqwohQoVYtaseQx1E+E7o/7HiOEvsWzpVxw+fIRbe/3Tq1M5zrRpM2nfIZEfVszkwMFD9L393+nb5syfROsLrqBEyRJ8+NFwihYrSqFCwrfffMfIER8AcEWX9gx66XEqVIjn409GsmL5arp17enR2Tj8XMYIl+R2Kj8RqQrsVNVDInIFThmjLtBDVeeLSBGgrvvEglnAT6p6h4i0BgarakMRmQCMUdXxIjIA6Kmqp4tIIvCAql5xguOvBfaqajMReQi4C7hLVT/L+H53lEeSqj4tIp1wJuquiPNH4ntVPc3dX6ZjisgbOE9ZGHWi/w9/P+0q/14OjsCYJS97HUKeKF71opwbxaASRYp5HUKe2fvXhiyvDeVG0qWXhP17WumrbyI+Xl44mR5jQ2CQiISAI0AfIAX4r4iUcff5KrDKbX9IRJbilDRudde9gFPu6A9MzuXxF+CUVMDpQT9H1qWJJ4CxIrIKp179O4Cq7nAft74SmHoSxzfGxIgC2ZPO1c6dnvQDqro4zw7iEetJxxbrSceeaPSktyUmhv17WnnWrMD0pI0xJiYEoSedp0laVRNP5n0i8g/g3mNWz1XVOyMOyhhTYIRSfNk5zhVf9qRV9R3gHa/jMMbENlVL0sYY41tBKHcEau4OY4zJSEMS9iscItJRRNaIyDoR6XeCdteIiIpIs0jPwZK0MSawVMN/5URE4oA3gU44U0hcLyL1smh3Ks41tQXROAdL0saYwIpyT7oFsE5VN6jqYeB/QFZP13gKGAhEZbYzS9LGmMAKpUrYrzBUAzJO1r7RXZfOnTKjhqpG7SY5u3BojAmscGvN4ExFDPTOsGqYqg7LxfsLAS8DPcM+aBgsSRtjAis3Q/DchHyipLwJqJFhubq7Ls2pODOCznJn5EwAJorIlZHcdW1J2hgTWFEegrcIqCMitXCS83XADenHUt0DpE8WH61pMSxJG2MCKxTFm1lUNUVE7gKm4Uzy9rY72+eTODNnTozawTKwJG2MCaxQanTHRqjqFJxpjzOueyybtonROKYlaWNMYOXhJJ/5xpK0MSawcjO6w68sSRtjAiuaNWmvWJI2xgSWzYJnjDE+ZjVpY4zxsdRQ7M98YUnaGBNY1pMuwEaP6+F1CHkiqA9sPbj5W69DyBN6cJ/XIfiaXTg0xhgfswuHxhjjY9aTNsYYHwtASdqStDEmuGx0hzHG+FgAHhZuSdoYE1yK1aSNMca3QgEoSluSNsYEVsh60sYY41+plqSNMca/rCZtjDE+ZqM7jDHGxyxJG2OMj1m5wxhjfCwAjzi0JG2MCa4gjO6I/RvbjTEmG6FcvMIhIh1FZI2IrBORfllsv19EVovIchH5SkROi/QcLEkbYwIrJBL2KyciEge8CXQC6gHXi0i9Y5otBZqp6rnAOOCFSM/BkrQxJrA0F68wtADWqeoGVT0M/A/omul4qjNV9YC7+B1QPdJzsCRtjAmsKJc7qgF/ZFje6K7LTi9gai5DPo5dODTGBFZKGGWMNCLSG+idYdUwVR12MscVkZuAZsAlJ/P+jCxJG2MCKzeT4LkJ+URJeRNQI8NydXddJiJyGfAocImqJucihCxZkjbGBFaUx0kvAuqISC2c5HwdcEPGBiLSGBgKdFTVpGgc1JK0x+b+sJaB700iFArRLbE5va7M/Oloy/bd9B/6MfsOHCIUUu79ewcuanQWR1JSeWLEJ/z462ZSQyG6tG5MrysTvTmJbLzy8pN06tiWAwcP0qvXfSxdtvK4NpM/H0NClcoULhzHnDkLufueRwiFnArhnX3/QZ8+PUlNTWXq1K/o9/Az+X0Kudb/2ZeZPXch8eXK8umYIV6HkytzFi5j4FvvkBoKcXWnS7nt+qsybd+87U8ee3EwO3fvpcyppXju4btJqFiehctW8sLg0entfvl9My/0v5dLL2yR36dwnGjeFq6qKSJyFzANiAPeVtVVIvIksFhVJwKDgFLAx+KUWn5X1SsjOa4laQ+lhkI8O3oiQ/vdSuX40tzw2FskNj2b2tUqp7cZ/tlMOrRsyN8uO5/1m7Zx16DRTH3138xYuILDKSmMf/5eDiYf5uqHXqXjBedRrWI5D8/oqE4d21LnzFqcXa81LVs04c03nqNV6y7HtbvuhjvYt28/AB99OIzu3a/go48mknhJK67s0oEmTdtx+PBhKlYsn9+ncFKu6tyOG665kkeeetHrUHIlNTXEM6+PZNjA/iRULM91dz5Mm1bNqH3a0cEJLw59jy7tLqZr+0QWLF3JayM/4Ll+d9OiUQPGDR0EwJ69++l8y920anqeV6eSSbTn/FfVKcCUY9Y9luHry6J8yLwZ3SEiPUWkahjtRolI9xNsnyUizaIcW1kR6ZthOVFEJkXzGOFauX4jNSqXp3qleIoULkzH889l1pIfj2u3/6BT1tp/IJmK5UoDIAgHk4+QkppK8uEUCheOo1TxYvka/4l06dKB994fB8CChd9TpmwZEhIqHdcuLUEXLlyYokWLou5v1e2338wLg97k8OHDAPz55478CTxCzRo1pEzpU70OI9dWrFlHzaoJ1KhamSJFCtMpsRUz5y7K1GbDbxtp2agBAC0a1WfmvMXH7Wf67O9o3bwxxU/xx89iSMJ/+VVeDcHrCeSYpD1SFuibY6t8kLRrDwnxZdKXK8WXYduuvZna9Ln6UibPXUa7u5/nzkGj6Hez0xu9rEUDihcrwmV3PUeHfw7kls4XUaZUiXyN/0SqVU1g4x+b05c3bdxCtaoJWbadMul9tmz6gX379jN+vPP3sk6dM2jdugXz5nzO11+Oo5lPemZBlbR9JwmVjn5aqVyxPNt27MzUpu4Zp/HlnIUAfDVnIX8dOMjuPfsytfli1lw6t70w7wMOU0ouXn4VVpIWkdNF5CcReV9EfhSRcSJSQkSaisg3IrJERKaJSBW3Z9wMeF9ElolIcRF5TEQWichKERkmkotxMUdjaC8i80XkexH5WERKuet/FZEn3PUrRORsd31FEZkhIqtEZISI/CYiFYDngdpubIPc3ZdyzyntHH3zd3Xq/OVceXETZrzejzcf7Mmjgz8iFAqxcsNG4goVYsbrDzPl5Qd5d8ocNibtzHmHPtT5ihupXrMJxYoVpW0b5xe8cOE4ypUrS6vWXXio39OM/SC26rtB9MDtPVi8fDXX3v5vFi9fTaUK8RS8pF/BAAAdX0lEQVSKO5pC/tyxi59/+Z1WzfzzB1Ul/Jdf5aYnfRbwlqqeA+wF7gReB7qralPgbeAZVR0HLAZuVNVGqnoQeENVm6tqA6A4cEVugnSTa3/gMlVt4u7//gxNtrvrBwMPuOseB75W1fo4t2fWdNf3A9a7sT3ormsM/BPnVs8zgCy7AiLSW0QWi8jikRNm5OYUslSpXBm27tyTvpy0cw+V3XJGmgnfLKZDy4YAnFenJslHUti17wBT5y2j1bl1KVI4jvJlStGo7mms2rAx4pgi0eeOW1i8aDqLF01ny9ZtVK9x9MNUtepV2LR5a7bvTU5OZuLn0+nSpQPg9Lw//dS5D2DR4mWEQiEqVIjP2xMowCpViGdr0tGS0rY/d1C5fPxxbV4d8AAfD32Be269HoDSpUqmb5/2zXzaXtiCIoX9c6kr2nN3eCE3SfoPVZ3rfj0G6AA0AGaIyDKcJJrdLZBtRGSBiKwA2gL1cxnn+TgJdK57rFuAjBOXfOL+uwQ43f26Nc5tm6jqF8CuE+x/oapuVNUQsCzDPjJR1WGq2kxVm/Xq1i6Xp3C8+mdU4/et29mYtJMjKSl88d1yLmlyTqY2VcqXZcGq9QBs2JTE4SMpxJcuSUL5six01x84dJgV636nVtWKEccUicFDRtOseXuaNW/PxInT6HGjc7mhZYsm7N2zl61bM49IKlmyRHqdOi4ujs6dLmXNmnUAfDZxGomJrQCn9FG0aFG2b4/NTwqxoMFZtflt0xY2bkniyJEUps6aR2KrzJeDdu3Zmz7yZsTYCXTr2CbT9qlf+6vUAcFI0rn5k3fshdJ9wCpVveBEbxKRU4C3cCYd+UNEBgCn5CpKEGCGql6fzfa0AeOpnNyIlYwDzk92H7lWOC6Oh2+5kj4vvEMopFx1SVPOrF6ZN8fNoH6t6iQ2PYd/3diJJ0dMYMwXcxGEJ2/vjohwXbvzeWzYeLo99Cqo0vXiptStWSU/wg7LlKlf0bFjW9b8OJcDBw9y221HP/gsXjSdZs3bU7JkCSZ88g7FihWlUKFCzJo1j6HD3gPgnVH/Y8Twl1i29CsOHz7Crb3+6dWp5MqDjz/PoqXL2b17L5dedRN9e/XgGvfTgZ8Vjovjkbtv5Y5+z5AaCtGtYxvOPL0Gb4z6kPp1a9OmVTMW/bCa10Z+gCA0PfccHr27V/r7N21NYuuf22l27rHzDXkr2qM7vCCqOZ+GiJwO/AK0UtX5IjIC+Bn4P6CHu64IUNcdN/g58LKqzhSRssAanN5pHM6kI+NUdYCIjAImuSWSrI47C6d88RtOL7mtqq4TkZJANVVdKyK/4vwB2O6OBHlRVRNF5E2cMYoDRaQ9ztjGijjft+9V9TT3GInAA6p6hbv8Bs6Yx1En+n9yaNH4IHz/j1Pqwnu8DiFPHNz8rdch5Ak9uC/nRjGqaI3zIq4Uv1bzprB/T+/9fYwvK9O5KXesAe4UkR+Bcrj1aGCgiPyAUyZo5bYdBQxxSxPJwHBgJU6iXEQuqeqfOCNGxorIcmA+cHYOb3sCaC8iK4Frga3APlXdgVM2WZnhwqExJoCCMLojNz3pSe6Fv5ggIsWAVPcuoQuAwaraKFr7t550bLGedOyJRk/6xVz0pB/waU/aP5dho68m8JGIFAIO45RmjDEFiJ9vUglXWElaVX/FGcmRJ0RkAlDrmNUPqeq0k92nqv6MM7TOGFNA+XnURrh80ZNW1W5ex2CMCZ4g1CR9kaSNMSYvpAQgTVuSNsYEVuynaEvSxpgAs5q0Mcb4WIEZ3WGMMbEoFICChyVpY0xgxX6KtiRtjAkwG91hjDE+Fvsp2pK0MSbAbHSHMcb4mF04NMYYH4v9FJ13Tws3xhjPRfvxWSLSUUTWiMg6EemXxfZiIvKhu32BO81zRCxJG2MCKxUN+5UTEYkD3gQ64Txz9XoROfZ5Yb2AXap6JvAKMDDSc7AkbYwJrBAa9isMLYB1qrpBVQ/jPOi66zFtugKj3a/HAZeKSET3PVqSNsYElubiFYZqwB8Zlje667Jso6opwB6g/EmGD1iSNsYEWG560iLSW0QWZ3j19jp+sNEdxpgAy804aVUdBgw7QZNNQI0My9XddVm12SgihYEywI5chHEcS9InSXdt8zqEPFGiSDGvQ8gTQX1gqxQ/1esQfC2cC4K5sAioIyK1cJLxdcANx7SZCNwCzAe6A19rOE/7PgFL0saYwNIoJmlVTRGRu4BpQBzwtqquEpEngcWqOhEYCbwnIuuAnTiJPCKWpI0xgRXt28JVdQow5Zh1j2X4+hBwbTSPaUnaGBNYocgqDb5gSdoYE1ixn6ItSRtjAswmWDLGGB+L8ugOT1iSNsYElvWkjTHGx6I5BM8rlqSNMYFlT2Yxxhgfi/BmP1+wJG2MCSyrSRtjjI/Z6A5jjPEx60kbY4yPWU3aGGN8zEZ3GGOMj9k4aWOM8bFUjf2+tCVpY0xg2YVDY4zxMSt3GGOMj9mk/8YY42Oxn6ItSRtjAsxq0iZic1f/ygvjvyEUUrpdUJ9b2zfPtH3Lzr38Z8wM9h1MJhQKcc+VF3JR/VrM/+k3/jtxHkdSUilSOI77uramxVk1PDqLrL0w6DHad0jkwMFD9Ln9QX5Ytuq4Np98+g6VEypROC6OefMW86/7HiMUCnFVt048/Mi9nHX2mbS5uBtLl67w4AyON2fhMga+9Q6poRBXd7qU266/KtP2zdv+5LEXB7Nz917KnFqK5x6+m4SK5Vm4bCUvDB6d3u6X3zfzQv97ufTCFvl9Ciel/7MvM3vuQuLLleXTMUO8DidsQRjdUcjrAAqy1FCI5z6exZt9ruKTR3vwxZK1rN+yI1Ob4dMW0b5xHT586Aae79mJZz+aCUC5ksV57fYujHvkJp66qR2PvjfNi1PIVvsOidQ+83QanduWe+96hFdefSrLdrf0uJsLz7+cls07UqFCPN2u7gzA6tVrufGGPsydszA/wz6h1NQQz7w+kreefYTPRr7C1JlzWf/bxkxtXhz6Hl3aXcwnw1/kjh7deW3kBwC0aNSAcUMHMW7oIEYOepxTTilKq6bneXEaJ+Wqzu0Y8vLTXoeRayE07Jdf5VuSFpGeIlI1jHajRKR7BMd5UkQuy2J9oohMyvB1q2gd82St/G0bNSqUoXqFMhQpHEeHpnWZtWJDpjYi8NehwwDsP3SYimVKAXB2jUpUcr+uXaU8yUdSOHwkJX9P4AQ6X34ZYz+YAMCiRcsoU6Y0lRMqHtdu3779ABQuXJiiRYuk38a7ds161v38S/4FHIYVa9ZRs2oCNapWpkiRwnRKbMXMuYsytdnw20ZaNmoAQItG9Zk5b/Fx+5k++ztaN29M8VOK5Uvc0dCsUUPKlD7V6zByTXPxn1/lZ0+6J5Bjko6Uqj6mql/m0CwRaJVDmzyXtHs/CeWO/uBXLluKpN37M7W5o9P5TF70E+3/M5K7Bn9Gv+6XHLefL5et45zqlShaxD/Vq6pVE9i4cUv68qbNW6laJSHLthM+G8X6Xxexf/9ffDphan6FmGtJ23eSUKl8+nLliuXZtmNnpjZ1zziNL93e/1dzFvLXgYPs3rMvU5svZs2lc9sL8z5gg6qG/fKrk07SInK6iPwkIu+LyI8iMk5ESohIUxH5RkSWiMg0Eani9lKbAe+LyDIRKS4ij4nIIhFZKSLDRETCOGZzEfnE/bqriBwUkaIicoqIbHDXp/eKRaSjG+P3wNVpcQN3APe5sVzk7v5iEZknIhu86FVn54sla7iyZT2mP9WLN/p0pf970wmFjv5Arduyg9cmzqX/dW09jDIy3br2pG7tlhQtWpRLEj3/2xmRB27vweLlq7n29n+zePlqKlWIp1Dc0V+zP3fs4udffqdVs9gpdcSy/Cp3iEi8iMwQkZ/df8tl0aaRiMwXkVUislxE/h7OviPtSZ8FvKWq5wB7gTuB14HuqtoUeBt4RlXHAYuBG1W1kaoeBN5Q1eaq2gAoDlwRxvGWAo3cry8CVgLNgZbAgowNReQUYDjQBWgKJACo6q/AEOAVN5Zv3bdUAVq7cTyf1cFFpLeILBaRxSOnzAkj3BOrVLYUW3cd7WVt272fSmVLZWozYf4q2jepA8B5taqQfCSF3X8ddNrv2sf9wyfxVI/21KhYNuJ4IvV/vXswZ/4k5syfxNatSVSvXiV9W7WqCWzesjXb9yYnH2bK5BlcfvlxlSrfqFQhnq1JR68ZbPtzB5XLxx/X5tUBD/Dx0Be459brAShdqmT69mnfzKfthS0oUtg/n3qCLFVDYb8i1A/4SlXrAF+5y8c6ANysqvWBjsCrIpLjL26kSfoPVZ3rfj0G6AA0AGaIyDKgP1A9m/e2EZEFIrICaAvUz+lgqpoCrBeRc4AWwMvAxTgJ+9tjmp8N/KKqP6vzWWZMDrv/VFVDqroaqJzN8YepajNVbdarc+ucws1R/ZqV+f3P3WzavocjKalMW7KWSxqekalNlXKnsmDNHwBs2LqTw0dSKVeqOHsPJHP3kInce+WFND4jz6tIYRk+7D1aX3AFrS+4gsmfz+D6G7oB0Lx5I/bu3ce2rX9mal+yZIn0OnVcXBztO7Rh7dr1+R53uBqcVZvfNm1h45YkjhxJYeqseSS2apapza49ewmFnF/4EWMn0K1jm0zbp35tpY78lI816a5A2vCd0cBVxzZQ1bWq+rP79WYgCTj+Qs0xIv1zfuyZ7QNWqeoFJ3qT28t9C2imqn+IyADglDCPORvoBBwBvgRGAXHAg+GHnaXkjCFGuK+wFI4rRL9rE+nz1qeEVOl6fj3OrFKetybPp17NyiQ2PIP7u13Ek2O/4v2ZS0HgiZvaISJ8OPsHft++m6FfLGDoF86HiCF3diP+1BL5EXqOpk2bSfsOifywYiYHDh6i7+3/Tt82Z/4kWl9wBSVKluDDj4ZTtFhRChUSvv3mO0aOcEZDXNGlPYNeepwKFeL5+JORrFi+mm5de3p0No7CcXE8cvet3NHvGVJDIbp1bMOZp9fgjVEfUr9ubdq0asaiH1bz2sgPEISm557Do3f3Sn//pq1JbP1zO83OrefhWZycBx9/nkVLl7N7914uveom+vbqwTVdOngdVo5yc8ehiPQGemdYNUxVh4X59sqqmnYRZivZdPQyHKsFUBTIsVciJ1swd2u7vwCtVHW+iIwAfgb+D+jhrisC1FXVVSLyOfCyqs50u/hrgNNxEux3wDhVHSAio4BJbokkq+MmAu8C76pqfxH5Dud/yBmqqmnvd19rgTaqul5ExgKnquoVIvIvoLSqPu7uM9MxRWS/qpY69tgZHZz+ln+vNESgcrcXvQ4hT2z/aYLXIeQJKR57Iy7CVaTCGRF3lupXbhn27+mqbQtOeDwR+RK3bHqMR4HRqlo2Q9tdqnpcXdrdVgWYBdyiqt/lFFekPek1wJ0i8jawGqcePQ34r4iUcff/KrAKp8c7REQOAhfg1ItX4vzVWXT8rrO1ACcpz3aXlwMJesxfG1U95P5lnCwiB3DKIWk/0Z8D40SkK3B3rs7YGBMzojl3h6pme8FERLaJSBVV3eIm4aRs2pUGJgOPhpOgIfKe9CT3wl+BYz3p2GI96dgTjZ702ZWah/17+lPSopM+nogMAnao6vMi0g+IV9V/H9OmKDAV+FxVXw1333bHoTEmsPJxdMfzQDsR+Rm4zF1GRJq5pWCAv+EMdOjpDv9dJiKNst7dUSdd7nCHsuVZL1pEJgC1jln9kKr66/5nY4xv5ddUpaq6A7g0i/WLgdvcr8eQ8yiz4/h2sKaqdvM6BmNMbPPz7d7h8m2SNsaYSGkAZsGzJG2MCSw/z24XLkvSxpjA8vPESeGyJG2MCawgTPpvSdoYE1j2IFpjjPExG91hjDE+ZjVpY4zxMRvdYYwxPpYasguHxhjjW1buMMYYH7NyhzHG+Jj1pI0xxsdsnLQxxviYjZM2xhgfs9EdxhjjY9aTNsYYH7MLh8YY42NBSNIn/bRwk39EpLeqDvM6jmgL6nlBcM8tqOflZ/a08NjQ2+sA8khQzwuCe25BPS/fsiRtjDE+ZknaGGN8zJJ0bAhqDTCo5wXBPbegnpdv2YVDY4zxMetJG2OMj1mSNsYYH7MkbYwxPmZJ2hhjfMxuC/cpEakLPAicRobvk6q29SyoKBGRVsDpZD6vdz0LKIqCfG7GG5ak/etjYAgwHEj1OJaoEZH3gNrAMo6elwIxn8iCem4icjUwEKgEiPtSVS3taWAFhA3B8ykRWaKqTb2OI9pE5EegngbwBy+o5yYi64Auqvqj17EURFaT9hkRiReReOBzEekrIlXS1rnrY91KIMHrIPJIUM9tmyVo71hP2mdE5Becj8iSxWZV1TPyOaSoEJHPcc7rVKARsBBITtuuqld6FFrEgnpubpkD4BKcPz6fkvm8PvEiroLGkrRPicgpqnoop3WxQkQuOdF2Vf0mv2KJtqCem4i8c4LNqqq35lswBZglaZ8Ske9VtUlO62KNiAxU1YdyWheLgnpuInKhqs7NaZ3JG1aT9hkRSRCRpkBxEWksIk3cVyJQwuPwoqFdFus65XsUeSOo5/Z6mOtMHrAheP7TAegJVAdezrB+H/CIFwFFg4j0AfoCZ4jI8gybTgViukcW1HMTkQuAVkBFEbk/w6bSQJw3URU8Vu7wKRG5RlXHex1HtIhIGaAc8BzQL8Omfaq605uooiOo5+bW2hOBO3DG7KfZB3yuqj97EVdBY0nap47puaTZAyxR1WX5HU+kcho+GMvJLE0257hPVY/kezBRJCKnqepvXsdRUFmS9ikR+QBoBnzurroCWI5zy/HHqvqCR6GdlGOGFtYEdrlflwV+V9VaHoYXFSLyK1CDzOe2FdgG/J+qLvEuutzLMLQwS7E6tDDW2IVD/6oONFHVf6nqv4CmOLflXoxTs44pqlrLHeP9Jc7daxVUtTzOH5/p3kYXNTOAzhnOrRMwCade/ZankZ2cF4GXgF+AgzhTFAwH9gPrPYyrQLGetE+JyE9Aw7SPyiJSDPhBVc8WkaWq2tjbCE+OiKxQ1YY5rYtF2ZzbclU9V0SWqWojr2KLhIgsVtVmOa0zecNGd/jX+8ACEfnMXe4CfCAiJYHV3oUVsc0i0h8Y4y7fCGz2MJ5o2iIiDwH/c5f/DmwTkTgg5F1YESspImeo6gYAEakFlPQ4pgLDetI+JiLNcYZAAcxV1cVexhMN7sW1x3HKNgCzgScCcuGwAs65tXZXzQWewLngW1NV13kVWyREpCPOA2g34NTaTwNuV9VpngZWQFiS9jG3B1aZzHMT/+5dRKagcsttZ7uLP6lq8onam+ixJO1TInI3Tq9sG87cxGlz+J7raWAnSUReVdV/ZjdiIAgjBdwHNTzA8ZP+x+SDGkSkrap+nWGipUxsgqX8YTVp/7oXOEtVd3gdSJS85/77oqdR5K20BzWMIBgPargE+BrnesixFLAknQ+sJ+1TIjITaKeqKV7HEk0icikwT1UPeh1LtAX1QQ3GW5akfUpERgJnAZPJPIfvy9m+KQaIyGjgAmAn8C3OhcM5qrrL08CiQEQGAEnABDJ/z2L6oqiIrAe+w/l+fauqqzwOqUCxJO1TIvJ4VutV9Yn8jiUviEhVoDtODbeqqsZ86c29q/JYMfughjTuRcOWwEXAhTidh+Wq2s3TwAqImP/FCKq0ZCwiJVT1gNfxRIuI3ITzy94Q2A68gdNDi3lBuLU9G6nAEfffEM6nhSRPIypArCftU+40kSOBUqpaU0TOwxmb2tfj0CIiIttxbikeAsxU1V+9jSh6RKQEcD/OmOjeIlIH5+LvJI9Di4iIHABW4Eyd+2WALmbHBEvSPiUiC3DKARPTbgEXkZWq2sDbyCInIvVxbmZpDdQB1qhqD2+jipyIfAgsAW5W1QZu0p4Xq7eDpxGRrjjfqxbAYWAeMFtVv/I0sALCJljyMVX945hVMT+sS0RK48yCdxrOeOIyxPYt0xnVdmcnPALglqmyeqBwTFHVz1T1QeB2YArOBF8x/ekgllhN2r/+EJFWgIpIEZxx0z96HFM0zMnwekNVN3ocTzQdFpHiuDfriEhtMozyiFUiMh44D6dMNRu4GVjgaVAFiJU7fMqdB+I14DKc3th04N6g1wNF5HVVvdvrOE6GiLQD+gP1cL5fFwI9VXWWl3FFSkSaAUtVNctPciLSTlVn5HNYBYYlaeMrsf5EdBEpD5yP84f1O1Xd7nFIeS7Wv2d+Z+UOnxGR1znx0zDuycdwTBhE5NgEtcX9t6aI1FTV7/M7pnwW83V3P7Mk7T8xPx1pAfTSCbYpEJMTLOWCfRzPQ5akfUZVR4fTLpZrtzmIuV6ZqrYJp53Vbs3JsCF4setCrwPII695HUAeGuh1AHnkV68DCDLrSZt8Ee6Tp1V1VH7F5IGY+pSQ3TzSadLmk1bVE7YzkbEkbfJLkOeRDles1W6zmkc6jc0nnU8sSceumOqVqeo3XsdgckdV/+F1DMaSdCyLydqtO+nQczg3fJyStj7Wp/MM069eB3CyRORyoD6Zv2dPehdRwWFJ2mcKQO32HZxnN74CtAH+QYxfwA567VZEhgAlcL5fI3Am/lroaVAFiN1x6DMicsmJtsd62SDtEVMiskJVG2Zc53VsJ0tE3jnBZlXVW/MtmDwgIstV9dwM/5YCpqrqRV7HVhBYT9pnYj0JhyFZRAoBP4vIXcAmoJTHMUWkANRu055HecB9os4OoIqH8RQolqR9KsC123txPjrfAzyFczfeLZ5GFEUBrd1OEpGywCDge5xy3AhvQyo4rNzhUyIyh6O12y64tVtVfczTwKLEnVdaVXWf17FES3a1W1Xt5WlgERKRYqqanPY1zh+gQ2nrTN6K6Qs2AVfcffKFqOpvqjoAuNzjmCImIs1EZAWwHFghIj+ISMzWo4/RSlVvBna5z6i8AKjrcUzRMD/tC1VNVtU9GdeZvGXlDv8KXO3W9TbQV1W/BRCR1jgjPs71NKroCFTtVkQSgGpAcRFpzNGx+aVxPjGYfGBJ2r+CWrtNTUvQAKo6R0RSvAwoioJWu+2A86is6jgPoU2zF3jEi4AKIqtJ+1zQarci8ipQHBiLk8T+DhwCxgDE8tzLQa3disg1qjre6zgKKkvSPuU+sugd4FR31R7gVlVd4l1UkRORmSfYrKoas3MvZ/WEkiA8tcQtezwDVFXVTiJSD7hAVUd6HFqBYOUO/wpk7TbcuZdjSQGo3b7jvh51l9cCHwKWpPOBJWn/CmTtVkQqA88SrF5Z0Gu3FVT1IxF5GEBVU0Qky4fSmuizJO1f34jIUDLXbmelPU8vhmu3owhYr8x9ms7oANdu/3IfsKsAInI+TvnN5AOrSftUUGu3IrJIVZuLyFJVbeyuW6aqjbyOLVJBrd26HYPXce6kXAVUBLqr6nJPAysgrCftU0Gs3bqC3CsLau12NTABOADsAz7FOTeTD+yOQ58SkcoiMlJEprrL9UQkpm8vdt0PTARqi8hc4F0gKA/UraCqHwEhcGq3QBBqt+8CZ+NcS3gd5y7K9zyNqACxnrR/jSKYvbLaQCegBnAN0JLg/BwG9VNCA1Wtl2F5pois9iyaAsZ60v4V1F7Zf1R1L1AOZyKit4DB3oYUNWmfEs4I2KeE790/OACISEtgsYfxFChB6cEEUVB7ZWl/aC4HhqvqZBF52suAoiiotdumwDwR+d1drgmscSfKUlWN6bH7fmejO3wqwxX1BsBKAnJFXUQm4UwW1Q5ogjMp0UJVPc/TwKJARD7CGRv9vrvqBqCsql7rXVSRE5HTTrRdVX/Lr1gKIutJ+1dQa7d/AzoCL6rqbhGpAjzocUzREsjarSVhb1lN2r8CWbtV1QOq+omq/uwub1HV6V7HFSVWuzVRZ0nav46r3QJFPYzH5CytdvuriPyKMzF+cxFZISIxXaYy3gnCx+eg2uTeFt4OGOhOfWl/VP2to9cBmOCxC4c+JSIlcH7pV6jqz27ttmGASgPGmDBYkjbGGB+zj8/GGONjlqSNMcbHLEkbY4yPWZI2xhgfsyRtjDE+9v+onC2JRRYpLwAAAABJRU5ErkJggg==\n",
      "text/plain": [
       "<Figure size 432x288 with 2 Axes>"
      ]
     },
     "metadata": {},
     "output_type": "display_data"
    }
   ],
   "source": [
    "# correlation matrix\r\n",
    "corrmat = train.corr()\r\n",
    "sns.heatmap(corrmat, annot = True, square = True);"
   ]
  },
  {
   "cell_type": "code",
   "execution_count": 16,
   "metadata": {
    "collapsed": false
   },
   "outputs": [
    {
     "data": {
      "image/png": "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\n",
      "text/plain": [
       "<Figure size 432x288 with 1 Axes>"
      ]
     },
     "metadata": {},
     "output_type": "display_data"
    }
   ],
   "source": [
    "# parallel coordinates\r\n",
    "parallel_coordinates(train, \"species\", color = ['blue', 'red', 'green']);"
   ]
  },
  {
   "cell_type": "code",
   "execution_count": 7,
   "metadata": {
    "collapsed": false
   },
   "outputs": [],
   "source": []
  },
  {
   "cell_type": "code",
   "execution_count": 18,
   "metadata": {
    "collapsed": false
   },
   "outputs": [
    {
     "name": "stdout",
     "output_type": "stream",
     "text": [
      "The accuracy of the Decision Tree is 0.983\n"
     ]
    }
   ],
   "source": [
    "# first try decision tree\r\n",
    "mod_dt = DecisionTreeClassifier(max_depth = 3, random_state = 1)\r\n",
    "mod_dt.fit(X_train,y_train)\r\n",
    "prediction=mod_dt.predict(X_test)\r\n",
    "print('The accuracy of the Decision Tree is',\"{:.3f}\".format(metrics.accuracy_score(prediction,y_test)))"
   ]
  },
  {
   "cell_type": "code",
   "execution_count": 19,
   "metadata": {
    "collapsed": false
   },
   "outputs": [
    {
     "data": {
      "text/plain": [
       "array([0.        , 0.        , 0.42430866, 0.57569134])"
      ]
     },
     "execution_count": 19,
     "metadata": {},
     "output_type": "execute_result"
    }
   ],
   "source": [
    "mod_dt.feature_importances_"
   ]
  },
  {
   "cell_type": "code",
   "execution_count": 20,
   "metadata": {
    "collapsed": false
   },
   "outputs": [
    {
     "data": {
      "image/png": "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\n",
      "text/plain": [
       "<Figure size 720x576 with 1 Axes>"
      ]
     },
     "metadata": {},
     "output_type": "display_data"
    }
   ],
   "source": [
    "# set figure size\r\n",
    "plt.figure(figsize = (10,8))\r\n",
    "plot_tree(mod_dt, feature_names = fn, class_names = cn, filled = True);"
   ]
  },
  {
   "cell_type": "code",
   "execution_count": 21,
   "metadata": {
    "collapsed": false
   },
   "outputs": [
    {
     "data": {
      "image/png": "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\n",
      "text/plain": [
       "<Figure size 432x288 with 1 Axes>"
      ]
     },
     "metadata": {},
     "output_type": "display_data"
    }
   ],
   "source": [
    "# plot decision boundary for pedal width vs pedal length\r\n",
    "plot_step = 0.01\r\n",
    "plot_colors = \"ryb\"\r\n",
    "xx, yy = np.meshgrid(np.arange(0, 7, plot_step), np.arange(0, 3, plot_step))\r\n",
    "plt.tight_layout(h_pad=1, w_pad=1, pad=2.5)\r\n",
    "\r\n",
    "selected_predictors = [\"petal_length\", \"petal_width\"]\r\n",
    "mod_dt_1 = DecisionTreeClassifier(max_depth = 3, random_state = 1)\r\n",
    "y_train_en = y_train.replace({'setosa':0,'versicolor':1,'virginica':2}).copy()\r\n",
    "mod_dt_1.fit(X_train[selected_predictors],y_train_en)\r\n",
    "\r\n",
    "pred_all = mod_dt_1.predict(np.c_[xx.ravel(), yy.ravel()])\r\n",
    "pred_all = pred_all.reshape(xx.shape)\r\n",
    "\r\n",
    "graph = plt.contourf(xx, yy, pred_all, cmap=plt.cm.RdYlBu)\r\n",
    "\r\n",
    "plt.xlabel(selected_predictors[0])\r\n",
    "plt.ylabel(selected_predictors[1])\r\n",
    "\r\n",
    "# plot test data points\r\n",
    "n_class = 3\r\n",
    "for i, color in zip(cn, plot_colors):\r\n",
    "    temp = np.where(y_test == i)\r\n",
    "    idx = [elem for elems in temp for elem in elems]\r\n",
    "    plt.scatter(X_test.iloc[idx, 2], X_test.iloc[idx, 3], c=color, \r\n",
    "                label=y_test, cmap=plt.cm.RdYlBu, edgecolor='black', s=20)\r\n",
    "\r\n",
    "plt.suptitle(\"Decision Boundary Shown in 2D with Test Data\")\r\n",
    "plt.axis(\"tight\");"
   ]
  },
  {
   "cell_type": "code",
   "execution_count": 22,
   "metadata": {
    "collapsed": false
   },
   "outputs": [
    {
     "data": {
      "image/png": "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\n",
      "text/plain": [
       "<Figure size 432x288 with 2 Axes>"
      ]
     },
     "metadata": {},
     "output_type": "display_data"
    }
   ],
   "source": [
    "# confusion matrix\r\n",
    "# one versicolor misclassified\r\n",
    "disp = metrics.plot_confusion_matrix(mod_dt, X_test, y_test,\r\n",
    "                                 display_labels=cn,\r\n",
    "                                 cmap=plt.cm.Blues,\r\n",
    "                                 normalize=None)\r\n",
    "disp.ax_.set_title('Decision Tree Confusion matrix, without normalization');"
   ]
  },
  {
   "cell_type": "code",
   "execution_count": 23,
   "metadata": {
    "collapsed": false
   },
   "outputs": [
    {
     "name": "stdout",
     "output_type": "stream",
     "text": [
      "The accuracy of the Guassian Naive Bayes Classifier on test data is 0.933\n"
     ]
    }
   ],
   "source": [
    "# Guassian Naive Bayes Classifier\r\n",
    "mod_gnb_all = GaussianNB()\r\n",
    "y_pred = mod_gnb_all.fit(X_train, y_train).predict(X_test)\r\n",
    "print('The accuracy of the Guassian Naive Bayes Classifier on test data is',\"{:.3f}\".format(metrics.accuracy_score(y_pred,y_test)))"
   ]
  },
  {
   "cell_type": "code",
   "execution_count": 24,
   "metadata": {
    "collapsed": false
   },
   "outputs": [
    {
     "name": "stdout",
     "output_type": "stream",
     "text": [
      "The accuracy of the Guassian Naive Bayes Classifier with 2 predictors on test data is 0.950\n"
     ]
    }
   ],
   "source": [
    "# Guassian Naive Bayes Classifier with two predictors\r\n",
    "mod_gnb = GaussianNB()\r\n",
    "y_pred = mod_gnb.fit(X_train[selected_predictors], y_train).predict(X_test[selected_predictors])\r\n",
    "print('The accuracy of the Guassian Naive Bayes Classifier with 2 predictors on test data is',\"{:.3f}\".format(metrics.accuracy_score(y_pred,y_test)))"
   ]
  },
  {
   "cell_type": "code",
   "execution_count": 25,
   "metadata": {
    "collapsed": false
   },
   "outputs": [
    {
     "name": "stdout",
     "output_type": "stream",
     "text": [
      "The accuracy of the LDA Classifier on test data is 0.983\n"
     ]
    }
   ],
   "source": [
    "# LDA Classifier\r\n",
    "mod_lda_all = LinearDiscriminantAnalysis()\r\n",
    "y_pred = mod_lda_all.fit(X_train, y_train).predict(X_test)\r\n",
    "print('The accuracy of the LDA Classifier on test data is',\"{:.3f}\".format(metrics.accuracy_score(y_pred,y_test)))"
   ]
  },
  {
   "cell_type": "code",
   "execution_count": 26,
   "metadata": {
    "collapsed": false
   },
   "outputs": [
    {
     "name": "stdout",
     "output_type": "stream",
     "text": [
      "The accuracy of the LDA Classifier with two predictors on test data is 0.933\n"
     ]
    }
   ],
   "source": [
    "# LDA Classifier with two predictors\r\n",
    "mod_lda = LinearDiscriminantAnalysis()\r\n",
    "y_pred = mod_lda.fit(X_train[selected_predictors], y_train).predict(X_test[selected_predictors])\r\n",
    "print('The accuracy of the LDA Classifier with two predictors on test data is',\"{:.3f}\".format(metrics.accuracy_score(y_pred,y_test)))"
   ]
  },
  {
   "cell_type": "code",
   "execution_count": 27,
   "metadata": {
    "collapsed": false
   },
   "outputs": [
    {
     "data": {
      "image/png": "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\n",
      "text/plain": [
       "<Figure size 444.75x360 with 1 Axes>"
      ]
     },
     "metadata": {},
     "output_type": "display_data"
    }
   ],
   "source": [
    "# LDA with 2 predictors\r\n",
    "mod_lda_1 = LinearDiscriminantAnalysis()\r\n",
    "y_pred = mod_lda_1.fit(X_train[selected_predictors], y_train_en).predict(X_test[selected_predictors])\r\n",
    "\r\n",
    "N = 300\r\n",
    "X = np.linspace(0, 7, N)\r\n",
    "Y = np.linspace(0, 3, N)\r\n",
    "X, Y = np.meshgrid(X, Y)\r\n",
    "\r\n",
    "g = sns.FacetGrid(test, hue=\"species\", height=5, palette = 'colorblind').map(plt.scatter,\"petal_length\", \"petal_width\", ).add_legend()\r\n",
    "my_ax = g.ax\r\n",
    "\r\n",
    "zz = np.array([mod_lda_1.predict(np.array([[xx,yy]])) for xx, yy in zip(np.ravel(X), np.ravel(Y)) ] )\r\n",
    "Z = zz.reshape(X.shape)\r\n",
    "\r\n",
    "#Plot the filled and boundary contours\r\n",
    "my_ax.contourf( X, Y, Z, 2, alpha = .1, colors = ('blue','green','red'))\r\n",
    "my_ax.contour( X, Y, Z, 2, alpha = 1, colors = ('blue','green','red'))\r\n",
    "\r\n",
    "# Add axis and title\r\n",
    "my_ax.set_xlabel('Petal Length')\r\n",
    "my_ax.set_ylabel('Petal Width')\r\n",
    "my_ax.set_title('LDA Decision Boundaries with Test Data');"
   ]
  },
  {
   "cell_type": "code",
   "execution_count": 28,
   "metadata": {
    "collapsed": false
   },
   "outputs": [
    {
     "name": "stdout",
     "output_type": "stream",
     "text": [
      "The accuracy of the QDA Classifier is 0.983\n"
     ]
    }
   ],
   "source": [
    "# QDA Classifier\r\n",
    "mod_qda_all = QuadraticDiscriminantAnalysis()\r\n",
    "y_pred = mod_qda_all.fit(X_train, y_train).predict(X_test)\r\n",
    "print('The accuracy of the QDA Classifier is',\"{:.3f}\".format(metrics.accuracy_score(y_pred,y_test)))"
   ]
  },
  {
   "cell_type": "code",
   "execution_count": 29,
   "metadata": {
    "collapsed": false
   },
   "outputs": [
    {
     "name": "stdout",
     "output_type": "stream",
     "text": [
      "The accuracy of the QDA Classifier with two predictors is 0.967\n"
     ]
    }
   ],
   "source": [
    "# QDA Classifier with two predictors\r\n",
    "mod_qda = QuadraticDiscriminantAnalysis()\r\n",
    "y_pred = mod_qda.fit(X_train[selected_predictors], y_train).predict(X_test[selected_predictors])\r\n",
    "print('The accuracy of the QDA Classifier with two predictors is',\"{:.3f}\".format(metrics.accuracy_score(y_pred,y_test)))"
   ]
  },
  {
   "cell_type": "code",
   "execution_count": 30,
   "metadata": {
    "collapsed": false
   },
   "outputs": [
    {
     "data": {
      "image/png": "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\n",
      "text/plain": [
       "<Figure size 444.75x360 with 1 Axes>"
      ]
     },
     "metadata": {},
     "output_type": "display_data"
    }
   ],
   "source": [
    "# QDA with 2 predictors\r\n",
    "mod_qda_1 = QuadraticDiscriminantAnalysis()\r\n",
    "y_pred = mod_qda_1.fit(X_train.iloc[:,2:4], y_train_en).predict(X_test.iloc[:,2:4])\r\n",
    "\r\n",
    "N = 300\r\n",
    "X = np.linspace(0, 7, N)\r\n",
    "Y = np.linspace(0, 3, N)\r\n",
    "X, Y = np.meshgrid(X, Y)\r\n",
    "\r\n",
    "g = sns.FacetGrid(test, hue=\"species\", height=5, palette = 'colorblind').map(plt.scatter,\"petal_length\", \"petal_width\", ).add_legend()\r\n",
    "my_ax = g.ax\r\n",
    "\r\n",
    "zz = np.array([mod_qda_1.predict(np.array([[xx,yy]])) for xx, yy in zip(np.ravel(X), np.ravel(Y)) ] )\r\n",
    "Z = zz.reshape(X.shape)\r\n",
    "\r\n",
    "#Plot the filled and boundary contours\r\n",
    "my_ax.contourf( X, Y, Z, 2, alpha = .1, colors = ('blue','green','red'))\r\n",
    "my_ax.contour( X, Y, Z, 2, alpha = 1, colors = ('blue','green','red'))\r\n",
    "\r\n",
    "# Addd axis and title\r\n",
    "my_ax.set_xlabel('Petal Length')\r\n",
    "my_ax.set_ylabel('Petal Width')\r\n",
    "my_ax.set_title('QDA Decision Boundaries with Test Data');"
   ]
  },
  {
   "cell_type": "code",
   "execution_count": 31,
   "metadata": {
    "collapsed": false
   },
   "outputs": [
    {
     "name": "stdout",
     "output_type": "stream",
     "text": [
      "The accuracy of the 5NN Classifier is 0.933\n"
     ]
    }
   ],
   "source": [
    "# KNN, first try 5\r\n",
    "mod_5nn=KNeighborsClassifier(n_neighbors=5) \r\n",
    "mod_5nn.fit(X_train,y_train)\r\n",
    "prediction=mod_5nn.predict(X_test)\r\n",
    "print('The accuracy of the 5NN Classifier is',\"{:.3f}\".format(metrics.accuracy_score(prediction,y_test)))"
   ]
  },
  {
   "cell_type": "code",
   "execution_count": 32,
   "metadata": {
    "collapsed": false
   },
   "outputs": [
    {
     "name": "stderr",
     "output_type": "stream",
     "text": [
      "/opt/conda/envs/python35-paddle120-env/lib/python3.7/site-packages/matplotlib/cbook/__init__.py:2064: FutureWarning: Support for multi-dimensional indexing (e.g. `obj[:, None]`) is deprecated and will be removed in a future version.  Convert to a numpy array before indexing instead.\n",
      "  x[:, None]\n",
      "/opt/conda/envs/python35-paddle120-env/lib/python3.7/site-packages/matplotlib/axes/_base.py:250: FutureWarning: Support for multi-dimensional indexing (e.g. `obj[:, None]`) is deprecated and will be removed in a future version.  Convert to a numpy array before indexing instead.\n",
      "  y = y[:, np.newaxis]\n"
     ]
    },
    {
     "data": {
      "image/png": "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\n",
      "text/plain": [
       "<Figure size 432x288 with 1 Axes>"
      ]
     },
     "metadata": {},
     "output_type": "display_data"
    }
   ],
   "source": [
    "# try different k\r\n",
    "acc_s = pd.Series(dtype = 'float')\r\n",
    "for i in list(range(1,11)):\r\n",
    "    mod_knn=KNeighborsClassifier(n_neighbors=i) \r\n",
    "    mod_knn.fit(X_train,y_train)\r\n",
    "    prediction=mod_knn.predict(X_test)\r\n",
    "    acc_s = acc_s.append(pd.Series(metrics.accuracy_score(prediction,y_test)))\r\n",
    "    \r\n",
    "plt.plot(list(range(1,11)), acc_s)\r\n",
    "plt.suptitle(\"Test Accuracy vs K\")\r\n",
    "plt.xticks(list(range(1,11)))\r\n",
    "plt.ylim(0.9,0.98);"
   ]
  },
  {
   "cell_type": "code",
   "execution_count": null,
   "metadata": {
    "collapsed": false
   },
   "outputs": [],
   "source": []
  },
  {
   "cell_type": "code",
   "execution_count": 33,
   "metadata": {
    "collapsed": false
   },
   "outputs": [
    {
     "name": "stdout",
     "output_type": "stream",
     "text": [
      "The accuracy of the linear SVC is 1.000\n"
     ]
    }
   ],
   "source": [
    "# SVC with linear kernel\r\n",
    "# for SVC, may be impractical beyond tens of thousands of samples\r\n",
    "linear_svc = SVC(kernel='linear').fit(X_train, y_train)\r\n",
    "prediction=linear_svc.predict(X_test)\r\n",
    "print('The accuracy of the linear SVC is',\"{:.3f}\".format(metrics.accuracy_score(prediction,y_test)))"
   ]
  },
  {
   "cell_type": "code",
   "execution_count": 34,
   "metadata": {
    "collapsed": false
   },
   "outputs": [
    {
     "name": "stdout",
     "output_type": "stream",
     "text": [
      "The accuracy of the Poly SVC is 0.933\n"
     ]
    }
   ],
   "source": [
    "# SVC with polynomial kernel\r\n",
    "poly_svc = SVC(kernel='poly', degree = 4).fit(X_train, y_train)\r\n",
    "prediction=poly_svc.predict(X_test)\r\n",
    "print('The accuracy of the Poly SVC is',\"{:.3f}\".format(metrics.accuracy_score(prediction,y_test)))"
   ]
  },
  {
   "cell_type": "code",
   "execution_count": 35,
   "metadata": {
    "collapsed": false
   },
   "outputs": [
    {
     "name": "stdout",
     "output_type": "stream",
     "text": [
      "The accuracy of the Logistic Regression is 0.950\n"
     ]
    }
   ],
   "source": [
    "# Logistic regression\r\n",
    "mod_lr = LogisticRegression(solver = 'newton-cg').fit(X_train, y_train)\r\n",
    "prediction=mod_lr.predict(X_test)\r\n",
    "print('The accuracy of the Logistic Regression is',\"{:.3f}\".format(metrics.accuracy_score(prediction,y_test)))"
   ]
  },
  {
   "cell_type": "markdown",
   "metadata": {
    "collapsed": false
   },
   "source": [
    "# 2、Use SVM and Random Forest, respectively."
   ]
  },
  {
   "cell_type": "code",
   "execution_count": 12,
   "metadata": {
    "collapsed": false
   },
   "outputs": [],
   "source": [
    "#Import scikit-learn dataset library\r\n",
    "from sklearn import datasets\r\n",
    "\r\n",
    "#Load dataset\r\n",
    "iris = datasets.load_iris()"
   ]
  },
  {
   "cell_type": "code",
   "execution_count": 13,
   "metadata": {
    "collapsed": false
   },
   "outputs": [
    {
     "name": "stdout",
     "output_type": "stream",
     "text": [
      "['setosa' 'versicolor' 'virginica']\n",
      "['sepal length (cm)', 'sepal width (cm)', 'petal length (cm)', 'petal width (cm)']\n"
     ]
    }
   ],
   "source": [
    "# print the label species(setosa, versicolor,virginica)\r\n",
    "print(iris.target_names)\r\n",
    "\r\n",
    "# print the names of the four features\r\n",
    "print(iris.feature_names)"
   ]
  },
  {
   "cell_type": "code",
   "execution_count": 14,
   "metadata": {
    "collapsed": false
   },
   "outputs": [
    {
     "name": "stdout",
     "output_type": "stream",
     "text": [
      "[[5.1 3.5 1.4 0.2]\n",
      " [4.9 3.  1.4 0.2]\n",
      " [4.7 3.2 1.3 0.2]\n",
      " [4.6 3.1 1.5 0.2]\n",
      " [5.  3.6 1.4 0.2]]\n",
      "[0 0 0 0 0 0 0 0 0 0 0 0 0 0 0 0 0 0 0 0 0 0 0 0 0 0 0 0 0 0 0 0 0 0 0 0 0\n",
      " 0 0 0 0 0 0 0 0 0 0 0 0 0 1 1 1 1 1 1 1 1 1 1 1 1 1 1 1 1 1 1 1 1 1 1 1 1\n",
      " 1 1 1 1 1 1 1 1 1 1 1 1 1 1 1 1 1 1 1 1 1 1 1 1 1 1 2 2 2 2 2 2 2 2 2 2 2\n",
      " 2 2 2 2 2 2 2 2 2 2 2 2 2 2 2 2 2 2 2 2 2 2 2 2 2 2 2 2 2 2 2 2 2 2 2 2 2\n",
      " 2 2]\n"
     ]
    }
   ],
   "source": [
    "# print the iris data (top 5 records)\r\n",
    "print(iris.data[0:5])\r\n",
    "\r\n",
    "# print the iris labels (0:setosa, 1:versicolor, 2:virginica)\r\n",
    "print(iris.target)"
   ]
  },
  {
   "cell_type": "code",
   "execution_count": 15,
   "metadata": {
    "collapsed": false
   },
   "outputs": [
    {
     "data": {
      "text/html": [
       "<div>\n",
       "<style scoped>\n",
       "    .dataframe tbody tr th:only-of-type {\n",
       "        vertical-align: middle;\n",
       "    }\n",
       "\n",
       "    .dataframe tbody tr th {\n",
       "        vertical-align: top;\n",
       "    }\n",
       "\n",
       "    .dataframe thead th {\n",
       "        text-align: right;\n",
       "    }\n",
       "</style>\n",
       "<table border=\"1\" class=\"dataframe\">\n",
       "  <thead>\n",
       "    <tr style=\"text-align: right;\">\n",
       "      <th></th>\n",
       "      <th>sepal length</th>\n",
       "      <th>sepal width</th>\n",
       "      <th>petal length</th>\n",
       "      <th>petal width</th>\n",
       "      <th>species</th>\n",
       "    </tr>\n",
       "  </thead>\n",
       "  <tbody>\n",
       "    <tr>\n",
       "      <th>0</th>\n",
       "      <td>5.1</td>\n",
       "      <td>3.5</td>\n",
       "      <td>1.4</td>\n",
       "      <td>0.2</td>\n",
       "      <td>0</td>\n",
       "    </tr>\n",
       "    <tr>\n",
       "      <th>1</th>\n",
       "      <td>4.9</td>\n",
       "      <td>3.0</td>\n",
       "      <td>1.4</td>\n",
       "      <td>0.2</td>\n",
       "      <td>0</td>\n",
       "    </tr>\n",
       "    <tr>\n",
       "      <th>2</th>\n",
       "      <td>4.7</td>\n",
       "      <td>3.2</td>\n",
       "      <td>1.3</td>\n",
       "      <td>0.2</td>\n",
       "      <td>0</td>\n",
       "    </tr>\n",
       "    <tr>\n",
       "      <th>3</th>\n",
       "      <td>4.6</td>\n",
       "      <td>3.1</td>\n",
       "      <td>1.5</td>\n",
       "      <td>0.2</td>\n",
       "      <td>0</td>\n",
       "    </tr>\n",
       "    <tr>\n",
       "      <th>4</th>\n",
       "      <td>5.0</td>\n",
       "      <td>3.6</td>\n",
       "      <td>1.4</td>\n",
       "      <td>0.2</td>\n",
       "      <td>0</td>\n",
       "    </tr>\n",
       "  </tbody>\n",
       "</table>\n",
       "</div>"
      ],
      "text/plain": [
       "   sepal length  sepal width  petal length  petal width  species\n",
       "0           5.1          3.5           1.4          0.2        0\n",
       "1           4.9          3.0           1.4          0.2        0\n",
       "2           4.7          3.2           1.3          0.2        0\n",
       "3           4.6          3.1           1.5          0.2        0\n",
       "4           5.0          3.6           1.4          0.2        0"
      ]
     },
     "execution_count": 15,
     "metadata": {},
     "output_type": "execute_result"
    }
   ],
   "source": [
    "# Creating a DataFrame of given iris dataset.\r\n",
    "import pandas as pd\r\n",
    "data=pd.DataFrame({\r\n",
    "    'sepal length':iris.data[:,0],\r\n",
    "    'sepal width':iris.data[:,1],\r\n",
    "    'petal length':iris.data[:,2],\r\n",
    "    'petal width':iris.data[:,3],\r\n",
    "    'species':iris.target\r\n",
    "})\r\n",
    "data.head()"
   ]
  },
  {
   "cell_type": "code",
   "execution_count": 16,
   "metadata": {
    "collapsed": false
   },
   "outputs": [],
   "source": [
    "# Import train_test_split function\r\n",
    "from sklearn.model_selection import train_test_split\r\n",
    "\r\n",
    "X=data[['sepal length', 'sepal width', 'petal length', 'petal width']]  # Features\r\n",
    "y=data['species']  # Labels\r\n",
    "\r\n",
    "# Split dataset into training set and test set\r\n",
    "X_train, X_test, y_train, y_test = train_test_split(X, y, test_size=0.3) # 70% training and 30% test"
   ]
  },
  {
   "cell_type": "code",
   "execution_count": 17,
   "metadata": {
    "collapsed": false
   },
   "outputs": [],
   "source": [
    "#Import Random Forest Model\r\n",
    "from sklearn.ensemble import RandomForestClassifier\r\n",
    "\r\n",
    "#Create a Gaussian Classifier\r\n",
    "clf=RandomForestClassifier(n_estimators=100)\r\n",
    "\r\n",
    "#Train the model using the training sets y_pred=clf.predict(X_test)\r\n",
    "clf.fit(X_train,y_train)\r\n",
    "\r\n",
    "y_pred=clf.predict(X_test)"
   ]
  },
  {
   "cell_type": "code",
   "execution_count": 18,
   "metadata": {
    "collapsed": false
   },
   "outputs": [
    {
     "name": "stdout",
     "output_type": "stream",
     "text": [
      "Accuracy: 0.9555555555555556\n"
     ]
    }
   ],
   "source": [
    "#Import scikit-learn metrics module for accuracy calculation\r\n",
    "from sklearn import metrics\r\n",
    "# Model Accuracy, how often is the classifier correct?\r\n",
    "print(\"Accuracy:\",metrics.accuracy_score(y_test, y_pred))"
   ]
  },
  {
   "cell_type": "code",
   "execution_count": 19,
   "metadata": {
    "collapsed": false
   },
   "outputs": [
    {
     "name": "stdout",
     "output_type": "stream",
     "text": [
      "Accuracy: 0.9555555555555556\n"
     ]
    }
   ],
   "source": [
    "#Import scikit-learn metrics module for accuracy calculation\r\n",
    "from sklearn import metrics\r\n",
    "# Model Accuracy, how often is the classifier correct?\r\n",
    "print(\"Accuracy:\",metrics.accuracy_score(y_test, y_pred))"
   ]
  },
  {
   "cell_type": "code",
   "execution_count": 20,
   "metadata": {
    "collapsed": false
   },
   "outputs": [
    {
     "data": {
      "text/plain": [
       "RandomForestClassifier(bootstrap=True, ccp_alpha=0.0, class_weight=None,\n",
       "                       criterion='gini', max_depth=None, max_features='auto',\n",
       "                       max_leaf_nodes=None, max_samples=None,\n",
       "                       min_impurity_decrease=0.0, min_impurity_split=None,\n",
       "                       min_samples_leaf=1, min_samples_split=2,\n",
       "                       min_weight_fraction_leaf=0.0, n_estimators=100,\n",
       "                       n_jobs=None, oob_score=False, random_state=None,\n",
       "                       verbose=0, warm_start=False)"
      ]
     },
     "execution_count": 20,
     "metadata": {},
     "output_type": "execute_result"
    }
   ],
   "source": [
    "from sklearn.ensemble import RandomForestClassifier\r\n",
    "\r\n",
    "#Create a Gaussian Classifier\r\n",
    "clf=RandomForestClassifier(n_estimators=100)\r\n",
    "\r\n",
    "#Train the model using the training sets y_pred=clf.predict(X_test)\r\n",
    "clf.fit(X_train,y_train)"
   ]
  },
  {
   "cell_type": "code",
   "execution_count": 21,
   "metadata": {
    "collapsed": false
   },
   "outputs": [
    {
     "data": {
      "text/plain": [
       "RandomForestClassifier(bootstrap=True, ccp_alpha=0.0, class_weight=None,\n",
       "                       criterion='gini', max_depth=None, max_features='auto',\n",
       "                       max_leaf_nodes=None, max_samples=None,\n",
       "                       min_impurity_decrease=0.0, min_impurity_split=None,\n",
       "                       min_samples_leaf=1, min_samples_split=2,\n",
       "                       min_weight_fraction_leaf=0.0, n_estimators=100, n_jobs=1,\n",
       "                       oob_score=False, random_state=None, verbose=0,\n",
       "                       warm_start=False)"
      ]
     },
     "execution_count": 21,
     "metadata": {},
     "output_type": "execute_result"
    }
   ],
   "source": [
    "RandomForestClassifier(bootstrap=True, class_weight=None, criterion='gini',\r\n",
    "            max_depth=None, max_features='auto', max_leaf_nodes=None,\r\n",
    "            min_impurity_decrease=0.0, min_impurity_split=None,\r\n",
    "            min_samples_leaf=1, min_samples_split=2,\r\n",
    "            min_weight_fraction_leaf=0.0, n_estimators=100, n_jobs=1,\r\n",
    "            oob_score=False, random_state=None, verbose=0,\r\n",
    "            warm_start=False)"
   ]
  },
  {
   "cell_type": "code",
   "execution_count": 22,
   "metadata": {
    "collapsed": false
   },
   "outputs": [
    {
     "name": "stdout",
     "output_type": "stream",
     "text": [
      "Accuracy: 0.9555555555555556\n"
     ]
    }
   ],
   "source": [
    "from sklearn.ensemble import RandomForestClassifier\r\n",
    "\r\n",
    "#Create a Gaussian Classifier\r\n",
    "clf=RandomForestClassifier(n_estimators=100)\r\n",
    "\r\n",
    "#Train the model using the training sets y_pred=clf.predict(X_test)\r\n",
    "clf.fit(X_train,y_train)\r\n",
    "\r\n",
    "# prediction on test set\r\n",
    "y_pred=clf.predict(X_test)\r\n",
    "\r\n",
    "#Import scikit-learn metrics module for accuracy calculation\r\n",
    "from sklearn import metrics\r\n",
    "# Model Accuracy, how often is the classifier correct?\r\n",
    "print(\"Accuracy:\",metrics.accuracy_score(y_test, y_pred))"
   ]
  },
  {
   "cell_type": "code",
   "execution_count": 36,
   "metadata": {
    "collapsed": false
   },
   "outputs": [],
   "source": [
    "import pandas as pd\r\n",
    "import numpy as np\r\n",
    "import matplotlib.pyplot as plt\r\n",
    "import seaborn as sns\r\n",
    "from sklearn.datasets import load_iris"
   ]
  },
  {
   "cell_type": "code",
   "execution_count": 37,
   "metadata": {
    "collapsed": false
   },
   "outputs": [
    {
     "data": {
      "text/html": [
       "<div>\n",
       "<style scoped>\n",
       "    .dataframe tbody tr th:only-of-type {\n",
       "        vertical-align: middle;\n",
       "    }\n",
       "\n",
       "    .dataframe tbody tr th {\n",
       "        vertical-align: top;\n",
       "    }\n",
       "\n",
       "    .dataframe thead th {\n",
       "        text-align: right;\n",
       "    }\n",
       "</style>\n",
       "<table border=\"1\" class=\"dataframe\">\n",
       "  <thead>\n",
       "    <tr style=\"text-align: right;\">\n",
       "      <th></th>\n",
       "      <th>SepalLengthCm</th>\n",
       "      <th>SepalWidthCm</th>\n",
       "      <th>PetalLengthCm</th>\n",
       "      <th>PetalWidthCm</th>\n",
       "      <th>Species</th>\n",
       "    </tr>\n",
       "  </thead>\n",
       "  <tbody>\n",
       "    <tr>\n",
       "      <th>0</th>\n",
       "      <td>5.1</td>\n",
       "      <td>3.5</td>\n",
       "      <td>1.4</td>\n",
       "      <td>0.2</td>\n",
       "      <td>0.0</td>\n",
       "    </tr>\n",
       "    <tr>\n",
       "      <th>1</th>\n",
       "      <td>4.9</td>\n",
       "      <td>3.0</td>\n",
       "      <td>1.4</td>\n",
       "      <td>0.2</td>\n",
       "      <td>0.0</td>\n",
       "    </tr>\n",
       "    <tr>\n",
       "      <th>2</th>\n",
       "      <td>4.7</td>\n",
       "      <td>3.2</td>\n",
       "      <td>1.3</td>\n",
       "      <td>0.2</td>\n",
       "      <td>0.0</td>\n",
       "    </tr>\n",
       "    <tr>\n",
       "      <th>3</th>\n",
       "      <td>4.6</td>\n",
       "      <td>3.1</td>\n",
       "      <td>1.5</td>\n",
       "      <td>0.2</td>\n",
       "      <td>0.0</td>\n",
       "    </tr>\n",
       "    <tr>\n",
       "      <th>4</th>\n",
       "      <td>5.0</td>\n",
       "      <td>3.6</td>\n",
       "      <td>1.4</td>\n",
       "      <td>0.2</td>\n",
       "      <td>0.0</td>\n",
       "    </tr>\n",
       "    <tr>\n",
       "      <th>...</th>\n",
       "      <td>...</td>\n",
       "      <td>...</td>\n",
       "      <td>...</td>\n",
       "      <td>...</td>\n",
       "      <td>...</td>\n",
       "    </tr>\n",
       "    <tr>\n",
       "      <th>145</th>\n",
       "      <td>6.7</td>\n",
       "      <td>3.0</td>\n",
       "      <td>5.2</td>\n",
       "      <td>2.3</td>\n",
       "      <td>2.0</td>\n",
       "    </tr>\n",
       "    <tr>\n",
       "      <th>146</th>\n",
       "      <td>6.3</td>\n",
       "      <td>2.5</td>\n",
       "      <td>5.0</td>\n",
       "      <td>1.9</td>\n",
       "      <td>2.0</td>\n",
       "    </tr>\n",
       "    <tr>\n",
       "      <th>147</th>\n",
       "      <td>6.5</td>\n",
       "      <td>3.0</td>\n",
       "      <td>5.2</td>\n",
       "      <td>2.0</td>\n",
       "      <td>2.0</td>\n",
       "    </tr>\n",
       "    <tr>\n",
       "      <th>148</th>\n",
       "      <td>6.2</td>\n",
       "      <td>3.4</td>\n",
       "      <td>5.4</td>\n",
       "      <td>2.3</td>\n",
       "      <td>2.0</td>\n",
       "    </tr>\n",
       "    <tr>\n",
       "      <th>149</th>\n",
       "      <td>5.9</td>\n",
       "      <td>3.0</td>\n",
       "      <td>5.1</td>\n",
       "      <td>1.8</td>\n",
       "      <td>2.0</td>\n",
       "    </tr>\n",
       "  </tbody>\n",
       "</table>\n",
       "<p>150 rows × 5 columns</p>\n",
       "</div>"
      ],
      "text/plain": [
       "     SepalLengthCm  SepalWidthCm  PetalLengthCm  PetalWidthCm  Species\n",
       "0              5.1           3.5            1.4           0.2      0.0\n",
       "1              4.9           3.0            1.4           0.2      0.0\n",
       "2              4.7           3.2            1.3           0.2      0.0\n",
       "3              4.6           3.1            1.5           0.2      0.0\n",
       "4              5.0           3.6            1.4           0.2      0.0\n",
       "..             ...           ...            ...           ...      ...\n",
       "145            6.7           3.0            5.2           2.3      2.0\n",
       "146            6.3           2.5            5.0           1.9      2.0\n",
       "147            6.5           3.0            5.2           2.0      2.0\n",
       "148            6.2           3.4            5.4           2.3      2.0\n",
       "149            5.9           3.0            5.1           1.8      2.0\n",
       "\n",
       "[150 rows x 5 columns]"
      ]
     },
     "execution_count": 37,
     "metadata": {},
     "output_type": "execute_result"
    }
   ],
   "source": [
    "iris = load_iris()\r\n",
    "df_data = pd.DataFrame(data= np.c_[iris['data'], iris['target']],\r\n",
    "                     columns= ['SepalLengthCm','SepalWidthCm','PetalLengthCm','PetalWidthCm','Species'])\r\n",
    "df_data"
   ]
  },
  {
   "cell_type": "code",
   "execution_count": 38,
   "metadata": {
    "collapsed": false
   },
   "outputs": [
    {
     "name": "stdout",
     "output_type": "stream",
     "text": [
      "train shape: (105, 4)\n",
      "test shape: (45, 4)\n"
     ]
    }
   ],
   "source": [
    "from sklearn.model_selection import train_test_split\r\n",
    "X = df_data.drop(labels=['Species'],axis=1).values\r\n",
    "y = df_data['Species'].values\r\n",
    "X_train, X_test, y_train, y_test = train_test_split(X, y, test_size=0.3, random_state=42, stratify=y)\r\n",
    "\r\n",
    "print('train shape:', X_train.shape)\r\n",
    "print('test shape:', X_test.shape)"
   ]
  },
  {
   "cell_type": "code",
   "execution_count": 39,
   "metadata": {
    "collapsed": false
   },
   "outputs": [],
   "source": [
    "def make_meshgrid(x, y, h=.02):\r\n",
    "    \"\"\"Create a mesh of points to plot in\r\n",
    "\r\n",
    "    Parameters\r\n",
    "    ----------\r\n",
    "    x: data to base x-axis meshgrid on\r\n",
    "    y: data to base y-axis meshgrid on\r\n",
    "    h: stepsize for meshgrid, optional\r\n",
    "\r\n",
    "    Returns\r\n",
    "    -------\r\n",
    "    xx, yy : ndarray\r\n",
    "    \"\"\"\r\n",
    "    x_min, x_max = x.min() - 1, x.max() + 1\r\n",
    "    y_min, y_max = y.min() - 1, y.max() + 1\r\n",
    "    xx, yy = np.meshgrid(np.arange(x_min, x_max, h),\r\n",
    "                         np.arange(y_min, y_max, h))\r\n",
    "    return xx, yy\r\n",
    "\r\n",
    "\r\n",
    "def plot_contours(ax, clf, xx, yy, **params):\r\n",
    "    \"\"\"Plot the decision boundaries for a classifier.\r\n",
    "\r\n",
    "    Parameters\r\n",
    "    ----------\r\n",
    "    ax: matplotlib axes object\r\n",
    "    clf: a classifier\r\n",
    "    xx: meshgrid ndarray\r\n",
    "    yy: meshgrid ndarray\r\n",
    "    params: dictionary of params to pass to contourf, optional\r\n",
    "    \"\"\"\r\n",
    "    Z = clf.predict(np.c_[xx.ravel(), yy.ravel()])\r\n",
    "    Z = Z.reshape(xx.shape)\r\n",
    "    out = ax.contourf(xx, yy, Z, **params)\r\n",
    "    return out"
   ]
  },
  {
   "cell_type": "code",
   "execution_count": 40,
   "metadata": {
    "collapsed": false
   },
   "outputs": [],
   "source": [
    "from sklearn.decomposition import PCA\r\n",
    "pca = PCA(n_components=2, iterated_power=1)\r\n",
    "train_reduced = pca.fit_transform(X_train)"
   ]
  },
  {
   "cell_type": "code",
   "execution_count": 47,
   "metadata": {
    "collapsed": false
   },
   "outputs": [
    {
     "data": {
      "text/plain": [
       "Text(0.5,1,'LinearSVC (linear kernel)\\nAccuracy:0.96')"
      ]
     },
     "execution_count": 47,
     "metadata": {},
     "output_type": "execute_result"
    },
    {
     "data": {
      "image/png": "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\n",
      "text/plain": [
       "<Figure size 432x288 with 1 Axes>"
      ]
     },
     "metadata": {},
     "output_type": "display_data"
    }
   ],
   "source": [
    "from sklearn import svm\r\n",
    "\r\n",
    "\r\n",
    "linearSvcModel=svm.LinearSVC(C=1, max_iter=10000)\r\n",
    "\r\n",
    "linearSvcModel.fit(train_reduced, y_train)\r\n",
    "\r\n",
    "predicted=linearSvcModel.predict(train_reduced)\r\n",
    "\r\n",
    "accuracy = linearSvcModel.score(train_reduced, y_train)\r\n",
    "\r\n",
    "X0, X1 = train_reduced[:, 0], train_reduced[:, 1]\r\n",
    "xx, yy = make_meshgrid(X0, X1)\r\n",
    "plot_contours(plt, linearSvcModel, xx, yy,\r\n",
    "                  cmap=plt.cm.coolwarm, alpha=0.8)\r\n",
    "plt.scatter(X0, X1, c=y_train, cmap=plt.cm.coolwarm, s=20, edgecolors='k')\r\n",
    "plt.xlabel('Sepal length')\r\n",
    "plt.ylabel('Sepal width')\r\n",
    "plt.title('LinearSVC (linear kernel)'+ '\\n' + 'Accuracy:%.2f'%accuracy)"
   ]
  },
  {
   "cell_type": "code",
   "execution_count": 42,
   "metadata": {
    "collapsed": false
   },
   "outputs": [
    {
     "data": {
      "text/plain": [
       "Text(0.5,1,'SVC with linear kernel\\nAccuracy:0.97')"
      ]
     },
     "execution_count": 42,
     "metadata": {},
     "output_type": "execute_result"
    },
    {
     "data": {
      "image/png": "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\n",
      "text/plain": [
       "<Figure size 432x288 with 1 Axes>"
      ]
     },
     "metadata": {},
     "output_type": "display_data"
    }
   ],
   "source": [
    "from sklearn import svm\r\n",
    "\r\n",
    "\r\n",
    "svcModel=svm.SVC(kernel='linear', C=1)\r\n",
    "\r\n",
    "svcModel.fit(train_reduced, y_train)\r\n",
    "\r\n",
    "predicted=svcModel.predict(train_reduced)\r\n",
    "\r\n",
    "accuracy = svcModel.score(train_reduced, y_train)\r\n",
    "\r\n",
    "X0, X1 = train_reduced[:, 0], train_reduced[:, 1]\r\n",
    "xx, yy = make_meshgrid(X0, X1)\r\n",
    "plot_contours(plt, svcModel, xx, yy,\r\n",
    "                  cmap=plt.cm.coolwarm, alpha=0.8)\r\n",
    "plt.scatter(X0, X1, c=y_train, cmap=plt.cm.coolwarm, s=20, edgecolors='k')\r\n",
    "plt.xlabel('Sepal length')\r\n",
    "plt.ylabel('Sepal width')\r\n",
    "plt.title('SVC with linear kernel'+ '\\n' + 'Accuracy:%.2f'%accuracy)"
   ]
  },
  {
   "cell_type": "code",
   "execution_count": 43,
   "metadata": {
    "collapsed": false
   },
   "outputs": [
    {
     "data": {
      "text/plain": [
       "Text(0.5,1,'SVC with polynomial (degree 3) kernel\\nAccuracy:0.97')"
      ]
     },
     "execution_count": 43,
     "metadata": {},
     "output_type": "execute_result"
    },
    {
     "data": {
      "image/png": "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\n",
      "text/plain": [
       "<Figure size 432x288 with 1 Axes>"
      ]
     },
     "metadata": {},
     "output_type": "display_data"
    }
   ],
   "source": [
    "from sklearn import svm\r\n",
    "\r\n",
    "\r\n",
    "polyModel=svm.SVC(kernel='poly', degree=3, gamma='auto', C=1)\r\n",
    "\r\n",
    "polyModel.fit(train_reduced, y_train)\r\n",
    "\r\n",
    "predicted=polyModel.predict(train_reduced)\r\n",
    "\r\n",
    "accuracy = polyModel.score(train_reduced, y_train)\r\n",
    "\r\n",
    "X0, X1 = train_reduced[:, 0], train_reduced[:, 1]\r\n",
    "xx, yy = make_meshgrid(X0, X1)\r\n",
    "plot_contours(plt, polyModel, xx, yy,\r\n",
    "                  cmap=plt.cm.coolwarm, alpha=0.8)\r\n",
    "plt.scatter(X0, X1, c=y_train, cmap=plt.cm.coolwarm, s=20, edgecolors='k')\r\n",
    "plt.xlabel('Sepal length')\r\n",
    "plt.ylabel('Sepal width')\r\n",
    "plt.title('SVC with polynomial (degree 3) kernel'+ '\\n' + 'Accuracy:%.2f'%accuracy)"
   ]
  },
  {
   "cell_type": "code",
   "execution_count": 44,
   "metadata": {
    "collapsed": false
   },
   "outputs": [
    {
     "data": {
      "text/plain": [
       "Text(0.5,1,'SVC with RBF kernel\\nAccuracy:0.97')"
      ]
     },
     "execution_count": 44,
     "metadata": {},
     "output_type": "execute_result"
    },
    {
     "data": {
      "image/png": "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\n",
      "text/plain": [
       "<Figure size 432x288 with 1 Axes>"
      ]
     },
     "metadata": {},
     "output_type": "display_data"
    }
   ],
   "source": [
    "from sklearn import svm\r\n",
    "\r\n",
    "\r\n",
    "rbfModel=svm.SVC(kernel='rbf', gamma=0.7, C=1)\r\n",
    "\r\n",
    "rbfModel.fit(train_reduced, y_train)\r\n",
    "\r\n",
    "predicted=rbfModel.predict(train_reduced)\r\n",
    "\r\n",
    "accuracy = rbfModel.score(train_reduced, y_train)\r\n",
    "\r\n",
    "X0, X1 = train_reduced[:, 0], train_reduced[:, 1]\r\n",
    "xx, yy = make_meshgrid(X0, X1)\r\n",
    "plot_contours(plt, rbfModel, xx, yy,\r\n",
    "                  cmap=plt.cm.coolwarm, alpha=0.8)\r\n",
    "plt.scatter(X0, X1, c=y_train, cmap=plt.cm.coolwarm, s=20, edgecolors='k')\r\n",
    "plt.xlabel('Sepal length')\r\n",
    "plt.ylabel('Sepal width')\r\n",
    "plt.title('SVC with RBF kernel'+ '\\n' + 'Accuracy:%.2f'%accuracy)"
   ]
  },
  {
   "cell_type": "markdown",
   "metadata": {
    "collapsed": false
   },
   "source": [
    "#  Random Forest,"
   ]
  },
  {
   "cell_type": "code",
   "execution_count": 48,
   "metadata": {
    "collapsed": false
   },
   "outputs": [],
   "source": [
    "from sklearn import datasets"
   ]
  },
  {
   "cell_type": "code",
   "execution_count": 49,
   "metadata": {
    "collapsed": false
   },
   "outputs": [],
   "source": [
    "iris = datasets.load_iris()"
   ]
  },
  {
   "cell_type": "code",
   "execution_count": 50,
   "metadata": {
    "collapsed": false
   },
   "outputs": [
    {
     "name": "stdout",
     "output_type": "stream",
     "text": [
      "{'data': array([[5.1, 3.5, 1.4, 0.2],\n",
      "       [4.9, 3. , 1.4, 0.2],\n",
      "       [4.7, 3.2, 1.3, 0.2],\n",
      "       [4.6, 3.1, 1.5, 0.2],\n",
      "       [5. , 3.6, 1.4, 0.2],\n",
      "       [5.4, 3.9, 1.7, 0.4],\n",
      "       [4.6, 3.4, 1.4, 0.3],\n",
      "       [5. , 3.4, 1.5, 0.2],\n",
      "       [4.4, 2.9, 1.4, 0.2],\n",
      "       [4.9, 3.1, 1.5, 0.1],\n",
      "       [5.4, 3.7, 1.5, 0.2],\n",
      "       [4.8, 3.4, 1.6, 0.2],\n",
      "       [4.8, 3. , 1.4, 0.1],\n",
      "       [4.3, 3. , 1.1, 0.1],\n",
      "       [5.8, 4. , 1.2, 0.2],\n",
      "       [5.7, 4.4, 1.5, 0.4],\n",
      "       [5.4, 3.9, 1.3, 0.4],\n",
      "       [5.1, 3.5, 1.4, 0.3],\n",
      "       [5.7, 3.8, 1.7, 0.3],\n",
      "       [5.1, 3.8, 1.5, 0.3],\n",
      "       [5.4, 3.4, 1.7, 0.2],\n",
      "       [5.1, 3.7, 1.5, 0.4],\n",
      "       [4.6, 3.6, 1. , 0.2],\n",
      "       [5.1, 3.3, 1.7, 0.5],\n",
      "       [4.8, 3.4, 1.9, 0.2],\n",
      "       [5. , 3. , 1.6, 0.2],\n",
      "       [5. , 3.4, 1.6, 0.4],\n",
      "       [5.2, 3.5, 1.5, 0.2],\n",
      "       [5.2, 3.4, 1.4, 0.2],\n",
      "       [4.7, 3.2, 1.6, 0.2],\n",
      "       [4.8, 3.1, 1.6, 0.2],\n",
      "       [5.4, 3.4, 1.5, 0.4],\n",
      "       [5.2, 4.1, 1.5, 0.1],\n",
      "       [5.5, 4.2, 1.4, 0.2],\n",
      "       [4.9, 3.1, 1.5, 0.2],\n",
      "       [5. , 3.2, 1.2, 0.2],\n",
      "       [5.5, 3.5, 1.3, 0.2],\n",
      "       [4.9, 3.6, 1.4, 0.1],\n",
      "       [4.4, 3. , 1.3, 0.2],\n",
      "       [5.1, 3.4, 1.5, 0.2],\n",
      "       [5. , 3.5, 1.3, 0.3],\n",
      "       [4.5, 2.3, 1.3, 0.3],\n",
      "       [4.4, 3.2, 1.3, 0.2],\n",
      "       [5. , 3.5, 1.6, 0.6],\n",
      "       [5.1, 3.8, 1.9, 0.4],\n",
      "       [4.8, 3. , 1.4, 0.3],\n",
      "       [5.1, 3.8, 1.6, 0.2],\n",
      "       [4.6, 3.2, 1.4, 0.2],\n",
      "       [5.3, 3.7, 1.5, 0.2],\n",
      "       [5. , 3.3, 1.4, 0.2],\n",
      "       [7. , 3.2, 4.7, 1.4],\n",
      "       [6.4, 3.2, 4.5, 1.5],\n",
      "       [6.9, 3.1, 4.9, 1.5],\n",
      "       [5.5, 2.3, 4. , 1.3],\n",
      "       [6.5, 2.8, 4.6, 1.5],\n",
      "       [5.7, 2.8, 4.5, 1.3],\n",
      "       [6.3, 3.3, 4.7, 1.6],\n",
      "       [4.9, 2.4, 3.3, 1. ],\n",
      "       [6.6, 2.9, 4.6, 1.3],\n",
      "       [5.2, 2.7, 3.9, 1.4],\n",
      "       [5. , 2. , 3.5, 1. ],\n",
      "       [5.9, 3. , 4.2, 1.5],\n",
      "       [6. , 2.2, 4. , 1. ],\n",
      "       [6.1, 2.9, 4.7, 1.4],\n",
      "       [5.6, 2.9, 3.6, 1.3],\n",
      "       [6.7, 3.1, 4.4, 1.4],\n",
      "       [5.6, 3. , 4.5, 1.5],\n",
      "       [5.8, 2.7, 4.1, 1. ],\n",
      "       [6.2, 2.2, 4.5, 1.5],\n",
      "       [5.6, 2.5, 3.9, 1.1],\n",
      "       [5.9, 3.2, 4.8, 1.8],\n",
      "       [6.1, 2.8, 4. , 1.3],\n",
      "       [6.3, 2.5, 4.9, 1.5],\n",
      "       [6.1, 2.8, 4.7, 1.2],\n",
      "       [6.4, 2.9, 4.3, 1.3],\n",
      "       [6.6, 3. , 4.4, 1.4],\n",
      "       [6.8, 2.8, 4.8, 1.4],\n",
      "       [6.7, 3. , 5. , 1.7],\n",
      "       [6. , 2.9, 4.5, 1.5],\n",
      "       [5.7, 2.6, 3.5, 1. ],\n",
      "       [5.5, 2.4, 3.8, 1.1],\n",
      "       [5.5, 2.4, 3.7, 1. ],\n",
      "       [5.8, 2.7, 3.9, 1.2],\n",
      "       [6. , 2.7, 5.1, 1.6],\n",
      "       [5.4, 3. , 4.5, 1.5],\n",
      "       [6. , 3.4, 4.5, 1.6],\n",
      "       [6.7, 3.1, 4.7, 1.5],\n",
      "       [6.3, 2.3, 4.4, 1.3],\n",
      "       [5.6, 3. , 4.1, 1.3],\n",
      "       [5.5, 2.5, 4. , 1.3],\n",
      "       [5.5, 2.6, 4.4, 1.2],\n",
      "       [6.1, 3. , 4.6, 1.4],\n",
      "       [5.8, 2.6, 4. , 1.2],\n",
      "       [5. , 2.3, 3.3, 1. ],\n",
      "       [5.6, 2.7, 4.2, 1.3],\n",
      "       [5.7, 3. , 4.2, 1.2],\n",
      "       [5.7, 2.9, 4.2, 1.3],\n",
      "       [6.2, 2.9, 4.3, 1.3],\n",
      "       [5.1, 2.5, 3. , 1.1],\n",
      "       [5.7, 2.8, 4.1, 1.3],\n",
      "       [6.3, 3.3, 6. , 2.5],\n",
      "       [5.8, 2.7, 5.1, 1.9],\n",
      "       [7.1, 3. , 5.9, 2.1],\n",
      "       [6.3, 2.9, 5.6, 1.8],\n",
      "       [6.5, 3. , 5.8, 2.2],\n",
      "       [7.6, 3. , 6.6, 2.1],\n",
      "       [4.9, 2.5, 4.5, 1.7],\n",
      "       [7.3, 2.9, 6.3, 1.8],\n",
      "       [6.7, 2.5, 5.8, 1.8],\n",
      "       [7.2, 3.6, 6.1, 2.5],\n",
      "       [6.5, 3.2, 5.1, 2. ],\n",
      "       [6.4, 2.7, 5.3, 1.9],\n",
      "       [6.8, 3. , 5.5, 2.1],\n",
      "       [5.7, 2.5, 5. , 2. ],\n",
      "       [5.8, 2.8, 5.1, 2.4],\n",
      "       [6.4, 3.2, 5.3, 2.3],\n",
      "       [6.5, 3. , 5.5, 1.8],\n",
      "       [7.7, 3.8, 6.7, 2.2],\n",
      "       [7.7, 2.6, 6.9, 2.3],\n",
      "       [6. , 2.2, 5. , 1.5],\n",
      "       [6.9, 3.2, 5.7, 2.3],\n",
      "       [5.6, 2.8, 4.9, 2. ],\n",
      "       [7.7, 2.8, 6.7, 2. ],\n",
      "       [6.3, 2.7, 4.9, 1.8],\n",
      "       [6.7, 3.3, 5.7, 2.1],\n",
      "       [7.2, 3.2, 6. , 1.8],\n",
      "       [6.2, 2.8, 4.8, 1.8],\n",
      "       [6.1, 3. , 4.9, 1.8],\n",
      "       [6.4, 2.8, 5.6, 2.1],\n",
      "       [7.2, 3. , 5.8, 1.6],\n",
      "       [7.4, 2.8, 6.1, 1.9],\n",
      "       [7.9, 3.8, 6.4, 2. ],\n",
      "       [6.4, 2.8, 5.6, 2.2],\n",
      "       [6.3, 2.8, 5.1, 1.5],\n",
      "       [6.1, 2.6, 5.6, 1.4],\n",
      "       [7.7, 3. , 6.1, 2.3],\n",
      "       [6.3, 3.4, 5.6, 2.4],\n",
      "       [6.4, 3.1, 5.5, 1.8],\n",
      "       [6. , 3. , 4.8, 1.8],\n",
      "       [6.9, 3.1, 5.4, 2.1],\n",
      "       [6.7, 3.1, 5.6, 2.4],\n",
      "       [6.9, 3.1, 5.1, 2.3],\n",
      "       [5.8, 2.7, 5.1, 1.9],\n",
      "       [6.8, 3.2, 5.9, 2.3],\n",
      "       [6.7, 3.3, 5.7, 2.5],\n",
      "       [6.7, 3. , 5.2, 2.3],\n",
      "       [6.3, 2.5, 5. , 1.9],\n",
      "       [6.5, 3. , 5.2, 2. ],\n",
      "       [6.2, 3.4, 5.4, 2.3],\n",
      "       [5.9, 3. , 5.1, 1.8]]), 'target': array([0, 0, 0, 0, 0, 0, 0, 0, 0, 0, 0, 0, 0, 0, 0, 0, 0, 0, 0, 0, 0, 0,\n",
      "       0, 0, 0, 0, 0, 0, 0, 0, 0, 0, 0, 0, 0, 0, 0, 0, 0, 0, 0, 0, 0, 0,\n",
      "       0, 0, 0, 0, 0, 0, 1, 1, 1, 1, 1, 1, 1, 1, 1, 1, 1, 1, 1, 1, 1, 1,\n",
      "       1, 1, 1, 1, 1, 1, 1, 1, 1, 1, 1, 1, 1, 1, 1, 1, 1, 1, 1, 1, 1, 1,\n",
      "       1, 1, 1, 1, 1, 1, 1, 1, 1, 1, 1, 1, 2, 2, 2, 2, 2, 2, 2, 2, 2, 2,\n",
      "       2, 2, 2, 2, 2, 2, 2, 2, 2, 2, 2, 2, 2, 2, 2, 2, 2, 2, 2, 2, 2, 2,\n",
      "       2, 2, 2, 2, 2, 2, 2, 2, 2, 2, 2, 2, 2, 2, 2, 2, 2, 2]), 'target_names': array(['setosa', 'versicolor', 'virginica'], dtype='<U10'), 'DESCR': '.. _iris_dataset:\\n\\nIris plants dataset\\n--------------------\\n\\n**Data Set Characteristics:**\\n\\n    :Number of Instances: 150 (50 in each of three classes)\\n    :Number of Attributes: 4 numeric, predictive attributes and the class\\n    :Attribute Information:\\n        - sepal length in cm\\n        - sepal width in cm\\n        - petal length in cm\\n        - petal width in cm\\n        - class:\\n                - Iris-Setosa\\n                - Iris-Versicolour\\n                - Iris-Virginica\\n                \\n    :Summary Statistics:\\n\\n    ============== ==== ==== ======= ===== ====================\\n                    Min  Max   Mean    SD   Class Correlation\\n    ============== ==== ==== ======= ===== ====================\\n    sepal length:   4.3  7.9   5.84   0.83    0.7826\\n    sepal width:    2.0  4.4   3.05   0.43   -0.4194\\n    petal length:   1.0  6.9   3.76   1.76    0.9490  (high!)\\n    petal width:    0.1  2.5   1.20   0.76    0.9565  (high!)\\n    ============== ==== ==== ======= ===== ====================\\n\\n    :Missing Attribute Values: None\\n    :Class Distribution: 33.3% for each of 3 classes.\\n    :Creator: R.A. Fisher\\n    :Donor: Michael Marshall (MARSHALL%PLU@io.arc.nasa.gov)\\n    :Date: July, 1988\\n\\nThe famous Iris database, first used by Sir R.A. Fisher. The dataset is taken\\nfrom Fisher\\'s paper. Note that it\\'s the same as in R, but not as in the UCI\\nMachine Learning Repository, which has two wrong data points.\\n\\nThis is perhaps the best known database to be found in the\\npattern recognition literature.  Fisher\\'s paper is a classic in the field and\\nis referenced frequently to this day.  (See Duda & Hart, for example.)  The\\ndata set contains 3 classes of 50 instances each, where each class refers to a\\ntype of iris plant.  One class is linearly separable from the other 2; the\\nlatter are NOT linearly separable from each other.\\n\\n.. topic:: References\\n\\n   - Fisher, R.A. \"The use of multiple measurements in taxonomic problems\"\\n     Annual Eugenics, 7, Part II, 179-188 (1936); also in \"Contributions to\\n     Mathematical Statistics\" (John Wiley, NY, 1950).\\n   - Duda, R.O., & Hart, P.E. (1973) Pattern Classification and Scene Analysis.\\n     (Q327.D83) John Wiley & Sons.  ISBN 0-471-22361-1.  See page 218.\\n   - Dasarathy, B.V. (1980) \"Nosing Around the Neighborhood: A New System\\n     Structure and Classification Rule for Recognition in Partially Exposed\\n     Environments\".  IEEE Transactions on Pattern Analysis and Machine\\n     Intelligence, Vol. PAMI-2, No. 1, 67-71.\\n   - Gates, G.W. (1972) \"The Reduced Nearest Neighbor Rule\".  IEEE Transactions\\n     on Information Theory, May 1972, 431-433.\\n   - See also: 1988 MLC Proceedings, 54-64.  Cheeseman et al\"s AUTOCLASS II\\n     conceptual clustering system finds 3 classes in the data.\\n   - Many, many more ...', 'feature_names': ['sepal length (cm)', 'sepal width (cm)', 'petal length (cm)', 'petal width (cm)'], 'filename': '/opt/conda/envs/python35-paddle120-env/lib/python3.7/site-packages/sklearn/datasets/data/iris.csv'}\n"
     ]
    }
   ],
   "source": [
    "print(iris)"
   ]
  },
  {
   "cell_type": "code",
   "execution_count": 52,
   "metadata": {
    "collapsed": false
   },
   "outputs": [],
   "source": [
    "import pandas as pd\r\n",
    "set = 'data/data.csv'\r\n",
    "iris_csv = pd.read_csv(set)"
   ]
  },
  {
   "cell_type": "code",
   "execution_count": 53,
   "metadata": {
    "collapsed": false
   },
   "outputs": [
    {
     "data": {
      "text/html": [
       "<div>\n",
       "<style scoped>\n",
       "    .dataframe tbody tr th:only-of-type {\n",
       "        vertical-align: middle;\n",
       "    }\n",
       "\n",
       "    .dataframe tbody tr th {\n",
       "        vertical-align: top;\n",
       "    }\n",
       "\n",
       "    .dataframe thead th {\n",
       "        text-align: right;\n",
       "    }\n",
       "</style>\n",
       "<table border=\"1\" class=\"dataframe\">\n",
       "  <thead>\n",
       "    <tr style=\"text-align: right;\">\n",
       "      <th></th>\n",
       "      <th>sepal_length</th>\n",
       "      <th>sepal_width</th>\n",
       "      <th>petal_length</th>\n",
       "      <th>petal_width</th>\n",
       "      <th>species</th>\n",
       "    </tr>\n",
       "  </thead>\n",
       "  <tbody>\n",
       "    <tr>\n",
       "      <th>0</th>\n",
       "      <td>5.1</td>\n",
       "      <td>3.5</td>\n",
       "      <td>1.4</td>\n",
       "      <td>0.2</td>\n",
       "      <td>setosa</td>\n",
       "    </tr>\n",
       "    <tr>\n",
       "      <th>1</th>\n",
       "      <td>4.9</td>\n",
       "      <td>3.0</td>\n",
       "      <td>1.4</td>\n",
       "      <td>0.2</td>\n",
       "      <td>setosa</td>\n",
       "    </tr>\n",
       "    <tr>\n",
       "      <th>2</th>\n",
       "      <td>4.7</td>\n",
       "      <td>3.2</td>\n",
       "      <td>1.3</td>\n",
       "      <td>0.2</td>\n",
       "      <td>setosa</td>\n",
       "    </tr>\n",
       "    <tr>\n",
       "      <th>3</th>\n",
       "      <td>4.6</td>\n",
       "      <td>3.1</td>\n",
       "      <td>1.5</td>\n",
       "      <td>0.2</td>\n",
       "      <td>setosa</td>\n",
       "    </tr>\n",
       "    <tr>\n",
       "      <th>4</th>\n",
       "      <td>5.0</td>\n",
       "      <td>3.6</td>\n",
       "      <td>1.4</td>\n",
       "      <td>0.2</td>\n",
       "      <td>setosa</td>\n",
       "    </tr>\n",
       "  </tbody>\n",
       "</table>\n",
       "</div>"
      ],
      "text/plain": [
       "   sepal_length  sepal_width  petal_length  petal_width species\n",
       "0           5.1          3.5           1.4          0.2  setosa\n",
       "1           4.9          3.0           1.4          0.2  setosa\n",
       "2           4.7          3.2           1.3          0.2  setosa\n",
       "3           4.6          3.1           1.5          0.2  setosa\n",
       "4           5.0          3.6           1.4          0.2  setosa"
      ]
     },
     "execution_count": 53,
     "metadata": {},
     "output_type": "execute_result"
    }
   ],
   "source": [
    "iris_csv.head()"
   ]
  },
  {
   "cell_type": "code",
   "execution_count": 54,
   "metadata": {
    "collapsed": false
   },
   "outputs": [
    {
     "data": {
      "text/html": [
       "<div>\n",
       "<style scoped>\n",
       "    .dataframe tbody tr th:only-of-type {\n",
       "        vertical-align: middle;\n",
       "    }\n",
       "\n",
       "    .dataframe tbody tr th {\n",
       "        vertical-align: top;\n",
       "    }\n",
       "\n",
       "    .dataframe thead th {\n",
       "        text-align: right;\n",
       "    }\n",
       "</style>\n",
       "<table border=\"1\" class=\"dataframe\">\n",
       "  <thead>\n",
       "    <tr style=\"text-align: right;\">\n",
       "      <th></th>\n",
       "      <th>sepal_length</th>\n",
       "      <th>sepal_width</th>\n",
       "      <th>petal_length</th>\n",
       "      <th>petal_width</th>\n",
       "      <th>species</th>\n",
       "    </tr>\n",
       "  </thead>\n",
       "  <tbody>\n",
       "    <tr>\n",
       "      <th>145</th>\n",
       "      <td>6.7</td>\n",
       "      <td>3.0</td>\n",
       "      <td>5.2</td>\n",
       "      <td>2.3</td>\n",
       "      <td>virginica</td>\n",
       "    </tr>\n",
       "    <tr>\n",
       "      <th>146</th>\n",
       "      <td>6.3</td>\n",
       "      <td>2.5</td>\n",
       "      <td>5.0</td>\n",
       "      <td>1.9</td>\n",
       "      <td>virginica</td>\n",
       "    </tr>\n",
       "    <tr>\n",
       "      <th>147</th>\n",
       "      <td>6.5</td>\n",
       "      <td>3.0</td>\n",
       "      <td>5.2</td>\n",
       "      <td>2.0</td>\n",
       "      <td>virginica</td>\n",
       "    </tr>\n",
       "    <tr>\n",
       "      <th>148</th>\n",
       "      <td>6.2</td>\n",
       "      <td>3.4</td>\n",
       "      <td>5.4</td>\n",
       "      <td>2.3</td>\n",
       "      <td>virginica</td>\n",
       "    </tr>\n",
       "    <tr>\n",
       "      <th>149</th>\n",
       "      <td>5.9</td>\n",
       "      <td>3.0</td>\n",
       "      <td>5.1</td>\n",
       "      <td>1.8</td>\n",
       "      <td>virginica</td>\n",
       "    </tr>\n",
       "  </tbody>\n",
       "</table>\n",
       "</div>"
      ],
      "text/plain": [
       "     sepal_length  sepal_width  petal_length  petal_width    species\n",
       "145           6.7          3.0           5.2          2.3  virginica\n",
       "146           6.3          2.5           5.0          1.9  virginica\n",
       "147           6.5          3.0           5.2          2.0  virginica\n",
       "148           6.2          3.4           5.4          2.3  virginica\n",
       "149           5.9          3.0           5.1          1.8  virginica"
      ]
     },
     "execution_count": 54,
     "metadata": {},
     "output_type": "execute_result"
    }
   ],
   "source": [
    "iris_csv.tail()"
   ]
  },
  {
   "cell_type": "code",
   "execution_count": 55,
   "metadata": {
    "collapsed": false
   },
   "outputs": [
    {
     "data": {
      "text/html": [
       "<div>\n",
       "<style scoped>\n",
       "    .dataframe tbody tr th:only-of-type {\n",
       "        vertical-align: middle;\n",
       "    }\n",
       "\n",
       "    .dataframe tbody tr th {\n",
       "        vertical-align: top;\n",
       "    }\n",
       "\n",
       "    .dataframe thead th {\n",
       "        text-align: right;\n",
       "    }\n",
       "</style>\n",
       "<table border=\"1\" class=\"dataframe\">\n",
       "  <thead>\n",
       "    <tr style=\"text-align: right;\">\n",
       "      <th></th>\n",
       "      <th>sepal length</th>\n",
       "      <th>sepal width</th>\n",
       "      <th>petal length</th>\n",
       "      <th>petal width</th>\n",
       "      <th>species</th>\n",
       "    </tr>\n",
       "  </thead>\n",
       "  <tbody>\n",
       "    <tr>\n",
       "      <th>0</th>\n",
       "      <td>5.1</td>\n",
       "      <td>3.5</td>\n",
       "      <td>1.4</td>\n",
       "      <td>0.2</td>\n",
       "      <td>0</td>\n",
       "    </tr>\n",
       "    <tr>\n",
       "      <th>1</th>\n",
       "      <td>4.9</td>\n",
       "      <td>3.0</td>\n",
       "      <td>1.4</td>\n",
       "      <td>0.2</td>\n",
       "      <td>0</td>\n",
       "    </tr>\n",
       "    <tr>\n",
       "      <th>2</th>\n",
       "      <td>4.7</td>\n",
       "      <td>3.2</td>\n",
       "      <td>1.3</td>\n",
       "      <td>0.2</td>\n",
       "      <td>0</td>\n",
       "    </tr>\n",
       "    <tr>\n",
       "      <th>3</th>\n",
       "      <td>4.6</td>\n",
       "      <td>3.1</td>\n",
       "      <td>1.5</td>\n",
       "      <td>0.2</td>\n",
       "      <td>0</td>\n",
       "    </tr>\n",
       "    <tr>\n",
       "      <th>4</th>\n",
       "      <td>5.0</td>\n",
       "      <td>3.6</td>\n",
       "      <td>1.4</td>\n",
       "      <td>0.2</td>\n",
       "      <td>0</td>\n",
       "    </tr>\n",
       "  </tbody>\n",
       "</table>\n",
       "</div>"
      ],
      "text/plain": [
       "   sepal length  sepal width  petal length  petal width  species\n",
       "0           5.1          3.5           1.4          0.2        0\n",
       "1           4.9          3.0           1.4          0.2        0\n",
       "2           4.7          3.2           1.3          0.2        0\n",
       "3           4.6          3.1           1.5          0.2        0\n",
       "4           5.0          3.6           1.4          0.2        0"
      ]
     },
     "execution_count": 55,
     "metadata": {},
     "output_type": "execute_result"
    }
   ],
   "source": [
    "data = pd.DataFrame({'sepal length':iris.data[:,0],\r\n",
    "    'sepal width':iris.data[:,1],\r\n",
    "    'petal length':iris.data[:,2],\r\n",
    "    'petal width':iris.data[:,3],\r\n",
    "    'species':iris.target})\r\n",
    "data.head()"
   ]
  },
  {
   "cell_type": "code",
   "execution_count": 56,
   "metadata": {
    "collapsed": false
   },
   "outputs": [],
   "source": [
    "from sklearn.model_selection import train_test_split\r\n",
    "X = data[['sepal length', 'sepal width', 'petal length', 'petal width']]  # Features\r\n",
    "y = data['species']  # Labels\r\n",
    "X_train, X_test, y_train, y_test = train_test_split(X, y, test_size=0.3) # 70% training and 30% test"
   ]
  },
  {
   "cell_type": "code",
   "execution_count": 57,
   "metadata": {
    "collapsed": false
   },
   "outputs": [
    {
     "data": {
      "text/html": [
       "<div>\n",
       "<style scoped>\n",
       "    .dataframe tbody tr th:only-of-type {\n",
       "        vertical-align: middle;\n",
       "    }\n",
       "\n",
       "    .dataframe tbody tr th {\n",
       "        vertical-align: top;\n",
       "    }\n",
       "\n",
       "    .dataframe thead th {\n",
       "        text-align: right;\n",
       "    }\n",
       "</style>\n",
       "<table border=\"1\" class=\"dataframe\">\n",
       "  <thead>\n",
       "    <tr style=\"text-align: right;\">\n",
       "      <th></th>\n",
       "      <th>sepal length</th>\n",
       "      <th>sepal width</th>\n",
       "      <th>petal length</th>\n",
       "      <th>petal width</th>\n",
       "    </tr>\n",
       "  </thead>\n",
       "  <tbody>\n",
       "    <tr>\n",
       "      <th>0</th>\n",
       "      <td>5.1</td>\n",
       "      <td>3.5</td>\n",
       "      <td>1.4</td>\n",
       "      <td>0.2</td>\n",
       "    </tr>\n",
       "    <tr>\n",
       "      <th>1</th>\n",
       "      <td>4.9</td>\n",
       "      <td>3.0</td>\n",
       "      <td>1.4</td>\n",
       "      <td>0.2</td>\n",
       "    </tr>\n",
       "    <tr>\n",
       "      <th>2</th>\n",
       "      <td>4.7</td>\n",
       "      <td>3.2</td>\n",
       "      <td>1.3</td>\n",
       "      <td>0.2</td>\n",
       "    </tr>\n",
       "    <tr>\n",
       "      <th>3</th>\n",
       "      <td>4.6</td>\n",
       "      <td>3.1</td>\n",
       "      <td>1.5</td>\n",
       "      <td>0.2</td>\n",
       "    </tr>\n",
       "    <tr>\n",
       "      <th>4</th>\n",
       "      <td>5.0</td>\n",
       "      <td>3.6</td>\n",
       "      <td>1.4</td>\n",
       "      <td>0.2</td>\n",
       "    </tr>\n",
       "  </tbody>\n",
       "</table>\n",
       "</div>"
      ],
      "text/plain": [
       "   sepal length  sepal width  petal length  petal width\n",
       "0           5.1          3.5           1.4          0.2\n",
       "1           4.9          3.0           1.4          0.2\n",
       "2           4.7          3.2           1.3          0.2\n",
       "3           4.6          3.1           1.5          0.2\n",
       "4           5.0          3.6           1.4          0.2"
      ]
     },
     "execution_count": 57,
     "metadata": {},
     "output_type": "execute_result"
    }
   ],
   "source": [
    "X.head()"
   ]
  },
  {
   "cell_type": "code",
   "execution_count": 58,
   "metadata": {
    "collapsed": false
   },
   "outputs": [],
   "source": [
    "from sklearn.ensemble import RandomForestClassifier\r\n",
    "\r\n",
    "#Create a Gaussian Classifier\r\n",
    "clf = RandomForestClassifier(n_estimators=100)"
   ]
  },
  {
   "cell_type": "code",
   "execution_count": 59,
   "metadata": {
    "collapsed": false
   },
   "outputs": [
    {
     "data": {
      "text/plain": [
       "RandomForestClassifier(bootstrap=True, ccp_alpha=0.0, class_weight=None,\n",
       "                       criterion='gini', max_depth=None, max_features='auto',\n",
       "                       max_leaf_nodes=None, max_samples=None,\n",
       "                       min_impurity_decrease=0.0, min_impurity_split=None,\n",
       "                       min_samples_leaf=1, min_samples_split=2,\n",
       "                       min_weight_fraction_leaf=0.0, n_estimators=100,\n",
       "                       n_jobs=None, oob_score=False, random_state=None,\n",
       "                       verbose=0, warm_start=False)"
      ]
     },
     "execution_count": 59,
     "metadata": {},
     "output_type": "execute_result"
    }
   ],
   "source": [
    "clf.fit(X_train, y_train)"
   ]
  },
  {
   "cell_type": "code",
   "execution_count": 61,
   "metadata": {
    "collapsed": false
   },
   "outputs": [],
   "source": [
    "y_pred = clf.predict(X_test)"
   ]
  },
  {
   "cell_type": "code",
   "execution_count": 62,
   "metadata": {
    "collapsed": false
   },
   "outputs": [
    {
     "name": "stdout",
     "output_type": "stream",
     "text": [
      "Accuracy: 0.9555555555555556\n"
     ]
    }
   ],
   "source": [
    "from sklearn import metrics\r\n",
    "print('Accuracy:', metrics.accuracy_score(y_test, y_pred))"
   ]
  },
  {
   "cell_type": "code",
   "execution_count": 63,
   "metadata": {
    "collapsed": false
   },
   "outputs": [
    {
     "data": {
      "text/plain": [
       "array([1])"
      ]
     },
     "execution_count": 63,
     "metadata": {},
     "output_type": "execute_result"
    }
   ],
   "source": [
    "# Prediction for a single item\r\n",
    "clf.predict([[2, 3, 4, 2]])"
   ]
  },
  {
   "cell_type": "code",
   "execution_count": 64,
   "metadata": {
    "collapsed": false
   },
   "outputs": [
    {
     "data": {
      "text/plain": [
       "petal length (cm)    0.449624\n",
       "petal width (cm)     0.425776\n",
       "sepal length (cm)    0.100659\n",
       "sepal width (cm)     0.023941\n",
       "dtype: float64"
      ]
     },
     "execution_count": 64,
     "metadata": {},
     "output_type": "execute_result"
    }
   ],
   "source": [
    "feature_importance = pd.Series(clf.feature_importances_, index=iris.feature_names).sort_values(ascending=False)\r\n",
    "feature_importance"
   ]
  },
  {
   "cell_type": "code",
   "execution_count": 65,
   "metadata": {
    "collapsed": false
   },
   "outputs": [
    {
     "data": {
      "text/plain": [
       "['sepal length (cm)',\n",
       " 'sepal width (cm)',\n",
       " 'petal length (cm)',\n",
       " 'petal width (cm)']"
      ]
     },
     "execution_count": 65,
     "metadata": {},
     "output_type": "execute_result"
    }
   ],
   "source": [
    "iris.feature_names"
   ]
  },
  {
   "cell_type": "code",
   "execution_count": 66,
   "metadata": {
    "collapsed": false
   },
   "outputs": [],
   "source": [
    "import matplotlib.pyplot as plt\r\n",
    "import seaborn as sns"
   ]
  },
  {
   "cell_type": "code",
   "execution_count": 67,
   "metadata": {
    "collapsed": false
   },
   "outputs": [
    {
     "name": "stderr",
     "output_type": "stream",
     "text": [
      "No handles with labels found to put in legend.\n"
     ]
    },
    {
     "data": {
      "image/png": "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\n",
      "text/plain": [
       "<Figure size 432x288 with 1 Axes>"
      ]
     },
     "metadata": {},
     "output_type": "display_data"
    }
   ],
   "source": [
    "%matplotlib inline\r\n",
    "sns.barplot(x=feature_importance, y=feature_importance.index)\r\n",
    "plt.xlabel('Feature Importance Score')\r\n",
    "plt.ylabel('Features')\r\n",
    "plt.title('Importance of Each Feature')\r\n",
    "plt.legend()\r\n",
    "plt.show()"
   ]
  },
  {
   "cell_type": "code",
   "execution_count": 68,
   "metadata": {
    "collapsed": false
   },
   "outputs": [],
   "source": [
    "# let's remove the feature that's almost irrelevant for the prediction \r\n",
    "X = data[['sepal length', 'petal length', 'petal width']]  # Features\r\n",
    "y = data['species']  # Labels"
   ]
  },
  {
   "cell_type": "code",
   "execution_count": 69,
   "metadata": {
    "collapsed": false
   },
   "outputs": [
    {
     "name": "stdout",
     "output_type": "stream",
     "text": [
      "Accuracy 0.9555555555555556\n"
     ]
    }
   ],
   "source": [
    "clf.fit(X_train, y_train)\r\n",
    "y_pred = clf.predict(X_test)\r\n",
    "from sklearn import metrics\r\n",
    "print('Accuracy', metrics.accuracy_score(y_test, y_pred))"
   ]
  },
  {
   "cell_type": "markdown",
   "metadata": {
    "collapsed": false
   },
   "source": [
    "# 3、Use Grid Search with Cross-Validation to select the best parameters."
   ]
  },
  {
   "cell_type": "markdown",
   "metadata": {
    "collapsed": false
   },
   "source": [
    "Corss_validation"
   ]
  },
  {
   "cell_type": "code",
   "execution_count": 63,
   "metadata": {
    "collapsed": false
   },
   "outputs": [
    {
     "data": {
      "text/plain": [
       "(0.96, 0.9066666666666666)"
      ]
     },
     "execution_count": 63,
     "metadata": {},
     "output_type": "execute_result"
    }
   ],
   "source": [
    "from sklearn.model_selection import train_test_split\r\n",
    "from sklearn.datasets import load_iris\r\n",
    "from sklearn.neighbors import KNeighborsClassifier\r\n",
    "from sklearn.metrics import accuracy_score\r\n",
    "\r\n",
    "# Configures k-NN with 1 neighbor\r\n",
    "model = KNeighborsClassifier(n_neighbors=1)\r\n",
    "\r\n",
    "iris = load_iris()\r\n",
    "X = iris.data\r\n",
    "y = iris.target\r\n",
    "\r\n",
    "# divide the original dataset in 2 equal parts\r\n",
    "X1, X2, y1, y2 = train_test_split(X, y, random_state=0, train_size=0.5)\r\n",
    "\r\n",
    "# ajusta e avalia DOIS modelos\r\n",
    "\r\n",
    "y2_model = model.fit(X1, y1).predict(X2)\r\n",
    "\r\n",
    "y1_model = model.fit(X2, y2).predict(X1)\r\n",
    "\r\n",
    "accuracy_score(y1, y1_model), accuracy_score(y2, y2_model)"
   ]
  },
  {
   "cell_type": "code",
   "execution_count": 64,
   "metadata": {
    "collapsed": false
   },
   "outputs": [
    {
     "name": "stdout",
     "output_type": "stream",
     "text": [
      "Scores in each fold:  [1.   0.93 1.   0.93 0.87 1.   0.87 1.   1.   1.  ]\n",
      "Average score:  0.96\n",
      "Std deviation of scores:  0.05333333333333332\n"
     ]
    }
   ],
   "source": [
    "from sklearn.model_selection import cross_val_score\r\n",
    "scores = cross_val_score(model, X, y, cv=10)\r\n",
    "print('Scores in each fold: ', scores)\r\n",
    "print('Average score: ', scores.mean())\r\n",
    "print('Std deviation of scores: ', scores.std())"
   ]
  },
  {
   "cell_type": "code",
   "execution_count": 65,
   "metadata": {
    "collapsed": false
   },
   "outputs": [
    {
     "name": "stdout",
     "output_type": "stream",
     "text": [
      "Average score:  0.96\n",
      "Std deviation of scores:  0.19595917942265423\n"
     ]
    }
   ],
   "source": [
    "from sklearn.model_selection import LeaveOneOut\r\n",
    "\r\n",
    "scores = cross_val_score(model, X, y, cv=LeaveOneOut())\r\n",
    "scores\r\n",
    "print('Average score: ', scores.mean())\r\n",
    "print('Std deviation of scores: ', scores.std())"
   ]
  },
  {
   "cell_type": "code",
   "execution_count": 4,
   "metadata": {
    "collapsed": false
   },
   "outputs": [
    {
     "name": "stdout",
     "output_type": "stream",
     "text": [
      "Test set score: 0.88\n"
     ]
    }
   ],
   "source": [
    "from sklearn.datasets import make_blobs\r\n",
    "from sklearn.linear_model import LogisticRegression\r\n",
    "from sklearn.model_selection import train_test_split\r\n",
    "\r\n",
    "# create a synthetic dataset\r\n",
    "X, y = make_blobs(random_state=0)\r\n",
    "# split data and labels into a training and a test set\r\n",
    "X_train, X_test, y_train, y_test = train_test_split(X, y, random_state=0)\r\n",
    "# instantiate a model and fit it to the training set\r\n",
    "logreg = LogisticRegression().fit(X_train, y_train)\r\n",
    "# evaluate the model on the test set\r\n",
    "print(\"Test set score: {:.2f}\".format(logreg.score(X_test, y_test)))\r\n"
   ]
  },
  {
   "cell_type": "code",
   "execution_count": 11,
   "metadata": {
    "collapsed": false
   },
   "outputs": [
    {
     "data": {
      "image/png": "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\n",
      "text/plain": [
       "<Figure size 864x144 with 1 Axes>"
      ]
     },
     "metadata": {},
     "output_type": "display_data"
    }
   ],
   "source": [
    "import mglearn\r\n",
    "mglearn.plots.plot_cross_validation()"
   ]
  },
  {
   "cell_type": "code",
   "execution_count": 13,
   "metadata": {
    "collapsed": false
   },
   "outputs": [
    {
     "data": {
      "image/png": "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\n",
      "text/plain": [
       "<Figure size 720x144 with 1 Axes>"
      ]
     },
     "metadata": {},
     "output_type": "display_data"
    }
   ],
   "source": [
    "mglearn.plots.plot_shuffle_split()"
   ]
  },
  {
   "cell_type": "markdown",
   "metadata": {
    "collapsed": false
   },
   "source": [
    "# `grid search`"
   ]
  },
  {
   "cell_type": "code",
   "execution_count": 85,
   "metadata": {
    "collapsed": false
   },
   "outputs": [
    {
     "data": {
      "text/html": [
       "<div>\n",
       "<style scoped>\n",
       "    .dataframe tbody tr th:only-of-type {\n",
       "        vertical-align: middle;\n",
       "    }\n",
       "\n",
       "    .dataframe tbody tr th {\n",
       "        vertical-align: top;\n",
       "    }\n",
       "\n",
       "    .dataframe thead th {\n",
       "        text-align: right;\n",
       "    }\n",
       "</style>\n",
       "<table border=\"1\" class=\"dataframe\">\n",
       "  <thead>\n",
       "    <tr style=\"text-align: right;\">\n",
       "      <th></th>\n",
       "      <th>sepal_length</th>\n",
       "      <th>sepal_width</th>\n",
       "      <th>petal_length</th>\n",
       "      <th>petal_width</th>\n",
       "      <th>species</th>\n",
       "    </tr>\n",
       "  </thead>\n",
       "  <tbody>\n",
       "    <tr>\n",
       "      <th>0</th>\n",
       "      <td>5.1</td>\n",
       "      <td>3.5</td>\n",
       "      <td>1.4</td>\n",
       "      <td>0.2</td>\n",
       "      <td>setosa</td>\n",
       "    </tr>\n",
       "    <tr>\n",
       "      <th>1</th>\n",
       "      <td>4.9</td>\n",
       "      <td>3.0</td>\n",
       "      <td>1.4</td>\n",
       "      <td>0.2</td>\n",
       "      <td>setosa</td>\n",
       "    </tr>\n",
       "    <tr>\n",
       "      <th>2</th>\n",
       "      <td>4.7</td>\n",
       "      <td>3.2</td>\n",
       "      <td>1.3</td>\n",
       "      <td>0.2</td>\n",
       "      <td>setosa</td>\n",
       "    </tr>\n",
       "    <tr>\n",
       "      <th>3</th>\n",
       "      <td>4.6</td>\n",
       "      <td>3.1</td>\n",
       "      <td>1.5</td>\n",
       "      <td>0.2</td>\n",
       "      <td>setosa</td>\n",
       "    </tr>\n",
       "    <tr>\n",
       "      <th>4</th>\n",
       "      <td>5.0</td>\n",
       "      <td>3.6</td>\n",
       "      <td>1.4</td>\n",
       "      <td>0.2</td>\n",
       "      <td>setosa</td>\n",
       "    </tr>\n",
       "  </tbody>\n",
       "</table>\n",
       "</div>"
      ],
      "text/plain": [
       "   sepal_length  sepal_width  petal_length  petal_width species\n",
       "0           5.1          3.5           1.4          0.2  setosa\n",
       "1           4.9          3.0           1.4          0.2  setosa\n",
       "2           4.7          3.2           1.3          0.2  setosa\n",
       "3           4.6          3.1           1.5          0.2  setosa\n",
       "4           5.0          3.6           1.4          0.2  setosa"
      ]
     },
     "execution_count": 85,
     "metadata": {},
     "output_type": "execute_result"
    }
   ],
   "source": [
    "import numpy as np\r\n",
    "import pandas as pd\r\n",
    "import seaborn as sns\r\n",
    "import matplotlib.pyplot as plt\r\n",
    "from sklearn import svm, datasets\r\n",
    "data = pd.read_csv(\"data/data.csv\")\r\n",
    "data.head()"
   ]
  },
  {
   "cell_type": "code",
   "execution_count": 86,
   "metadata": {
    "collapsed": false
   },
   "outputs": [
    {
     "name": "stdout",
     "output_type": "stream",
     "text": [
      "<class 'pandas.core.frame.DataFrame'>\n",
      "RangeIndex: 150 entries, 0 to 149\n",
      "Data columns (total 5 columns):\n",
      " #   Column        Non-Null Count  Dtype  \n",
      "---  ------        --------------  -----  \n",
      " 0   sepal_length  150 non-null    float64\n",
      " 1   sepal_width   150 non-null    float64\n",
      " 2   petal_length  150 non-null    float64\n",
      " 3   petal_width   150 non-null    float64\n",
      " 4   species       150 non-null    object \n",
      "dtypes: float64(4), object(1)\n",
      "memory usage: 6.0+ KB\n"
     ]
    }
   ],
   "source": [
    "data.info()"
   ]
  },
  {
   "cell_type": "code",
   "execution_count": 90,
   "metadata": {
    "collapsed": false
   },
   "outputs": [],
   "source": [
    "from sklearn.model_selection import GridSearchCV"
   ]
  },
  {
   "cell_type": "code",
   "execution_count": 91,
   "metadata": {
    "collapsed": false
   },
   "outputs": [],
   "source": [
    "param_grid = {'C':[0.1,1,10,100], 'gamma':[1,0.1,0.01,0.001]}"
   ]
  },
  {
   "cell_type": "code",
   "execution_count": 92,
   "metadata": {
    "collapsed": false
   },
   "outputs": [
    {
     "name": "stdout",
     "output_type": "stream",
     "text": [
      "Fitting 5 folds for each of 16 candidates, totalling 80 fits\n",
      "[CV] C=0.1, gamma=1 ..................................................\n",
      "[CV] ...................... C=0.1, gamma=1, score=1.000, total=   0.0s\n",
      "[CV] C=0.1, gamma=1 ..................................................\n",
      "[CV] ...................... C=0.1, gamma=1, score=0.913, total=   0.0s\n",
      "[CV] C=0.1, gamma=1 ..................................................\n",
      "[CV] ...................... C=0.1, gamma=1, score=1.000, total=   0.0s\n",
      "[CV] C=0.1, gamma=1 ..................................................\n",
      "[CV] ...................... C=0.1, gamma=1, score=0.909, total=   0.0s\n",
      "[CV] C=0.1, gamma=1 ..................................................\n",
      "[CV] ...................... C=0.1, gamma=1, score=0.955, total=   0.0s\n",
      "[CV] C=0.1, gamma=0.1 ................................................\n",
      "[CV] .................... C=0.1, gamma=0.1, score=0.913, total=   0.0s\n",
      "[CV] C=0.1, gamma=0.1 ................................................\n",
      "[CV] .................... C=0.1, gamma=0.1, score=0.913, total=   0.0s\n",
      "[CV] C=0.1, gamma=0.1 ................................................\n",
      "[CV] .................... C=0.1, gamma=0.1, score=0.909, total=   0.0s\n",
      "[CV] C=0.1, gamma=0.1 ................................................\n",
      "[CV] .................... C=0.1, gamma=0.1, score=0.864, total=   0.0s\n",
      "[CV] C=0.1, gamma=0.1 ................................................\n",
      "[CV] .................... C=0.1, gamma=0.1, score=0.909, total=   0.0s\n",
      "[CV] C=0.1, gamma=0.01 ...............................................\n",
      "[CV] ................... C=0.1, gamma=0.01, score=0.696, total=   0.0s\n",
      "[CV] C=0.1, gamma=0.01 ...............................................\n",
      "[CV] ................... C=0.1, gamma=0.01, score=0.696, total=   0.0s\n",
      "[CV] C=0.1, gamma=0.01 ...............................................\n",
      "[CV] ................... C=0.1, gamma=0.01, score=0.682, total=   0.0s\n",
      "[CV] C=0.1, gamma=0.01 ...............................................\n",
      "[CV] ................... C=0.1, gamma=0.01, score=0.682, total=   0.0s\n",
      "[CV] C=0.1, gamma=0.01 ...............................................\n",
      "[CV] ................... C=0.1, gamma=0.01, score=0.727, total=   0.0s\n",
      "[CV] C=0.1, gamma=0.001 ..............................................\n",
      "[CV] .................. C=0.1, gamma=0.001, score=0.348, total=   0.0s\n",
      "[CV] C=0.1, gamma=0.001 ..............................................\n",
      "[CV] .................. C=0.1, gamma=0.001, score=0.348, total=   0.0s\n",
      "[CV] C=0.1, gamma=0.001 ..............................................\n",
      "[CV] .................. C=0.1, gamma=0.001, score=0.364, total=   0.0s\n",
      "[CV] C=0.1, gamma=0.001 ..............................................\n",
      "[CV] .................. C=0.1, gamma=0.001, score=0.364, total=   0.0s\n",
      "[CV] C=0.1, gamma=0.001 ..............................................\n",
      "[CV] .................. C=0.1, gamma=0.001, score=0.409, total=   0.0s\n",
      "[CV] C=1, gamma=1 ....................................................\n",
      "[CV] ........................ C=1, gamma=1, score=0.957, total=   0.0s\n",
      "[CV] C=1, gamma=1 ....................................................\n",
      "[CV] ........................ C=1, gamma=1, score=0.913, total=   0.0s\n",
      "[CV] C=1, gamma=1 ....................................................\n",
      "[CV] ........................ C=1, gamma=1, score=1.000, total=   0.0s\n",
      "[CV] C=1, gamma=1 ....................................................\n",
      "[CV] ........................ C=1, gamma=1, score=0.909, total=   0.0s\n",
      "[CV] C=1, gamma=1 ....................................................\n",
      "[CV] ........................ C=1, gamma=1, score=0.955, total=   0.0s\n",
      "[CV] C=1, gamma=0.1 ..................................................\n",
      "[CV] ...................... C=1, gamma=0.1, score=1.000, total=   0.0s\n",
      "[CV] C=1, gamma=0.1 ..................................................\n",
      "[CV] ...................... C=1, gamma=0.1, score=0.957, total=   0.0s\n",
      "[CV] C=1, gamma=0.1 ..................................................\n",
      "[CV] ...................... C=1, gamma=0.1, score=1.000, total=   0.0s\n",
      "[CV] C=1, gamma=0.1 ..................................................\n",
      "[CV] ...................... C=1, gamma=0.1, score=0.909, total=   0.0s\n",
      "[CV] C=1, gamma=0.1 ..................................................\n",
      "[CV] ...................... C=1, gamma=0.1, score=0.955, total=   0.0s\n",
      "[CV] C=1, gamma=0.01 .................................................\n",
      "[CV] ..................... C=1, gamma=0.01, score=0.913, total=   0.0s\n",
      "[CV] C=1, gamma=0.01 .................................................\n",
      "[CV] ..................... C=1, gamma=0.01, score=0.913, total=   0.0s\n",
      "[CV] C=1, gamma=0.01 .................................................\n",
      "[CV] ..................... C=1, gamma=0.01, score=1.000, total=   0.0s\n",
      "[CV] C=1, gamma=0.01 .................................................\n",
      "[CV] ..................... C=1, gamma=0.01, score=0.909, total=   0.0s\n",
      "[CV] C=1, gamma=0.01 .................................................\n",
      "[CV] ..................... C=1, gamma=0.01, score=0.955, total=   0.0s\n",
      "[CV] C=1, gamma=0.001 ................................................\n",
      "[CV] .................... C=1, gamma=0.001, score=0.696, total=   0.0s\n",
      "[CV] C=1, gamma=0.001 ................................................\n",
      "[CV] .................... C=1, gamma=0.001, score=0.696, total=   0.0s\n",
      "[CV] C=1, gamma=0.001 ................................................\n",
      "[CV] .................... C=1, gamma=0.001, score=0.682, total=   0.0s\n",
      "[CV] C=1, gamma=0.001 ................................................\n",
      "[CV] .................... C=1, gamma=0.001, score=0.682, total=   0.0s\n",
      "[CV] C=1, gamma=0.001 ................................................\n",
      "[CV] .................... C=1, gamma=0.001, score=0.727, total=   0.0s\n",
      "[CV] C=10, gamma=1 ...................................................\n",
      "[CV] ....................... C=10, gamma=1, score=0.957, total=   0.0s\n",
      "[CV] C=10, gamma=1 ...................................................\n",
      "[CV] ....................... C=10, gamma=1, score=0.957, total=   0.0s\n",
      "[CV] C=10, gamma=1 ...................................................\n",
      "[CV] ....................... C=10, gamma=1, score=1.000, total=   0.0s\n",
      "[CV] C=10, gamma=1 ...................................................\n",
      "[CV] ....................... C=10, gamma=1, score=0.864, total=   0.0s\n",
      "[CV] C=10, gamma=1 ...................................................\n",
      "[CV] ....................... C=10, gamma=1, score=0.955, total=   0.0s\n",
      "[CV] C=10, gamma=0.1 .................................................\n",
      "[CV] ..................... C=10, gamma=0.1, score=1.000, total=   0.0s\n",
      "[CV] C=10, gamma=0.1 .................................................\n",
      "[CV] ..................... C=10, gamma=0.1, score=0.957, total=   0.0s\n",
      "[CV] C=10, gamma=0.1 .................................................\n",
      "[CV] ..................... C=10, gamma=0.1, score=1.000, total=   0.0s\n",
      "[CV] C=10, gamma=0.1 .................................................\n",
      "[CV] ..................... C=10, gamma=0.1, score=0.955, total=   0.0s\n",
      "[CV] C=10, gamma=0.1 .................................................\n",
      "[CV] ..................... C=10, gamma=0.1, score=0.955, total=   0.0s\n",
      "[CV] C=10, gamma=0.01 ................................................\n",
      "[CV] .................... C=10, gamma=0.01, score=1.000, total=   0.0s\n",
      "[CV] C=10, gamma=0.01 ................................................\n",
      "[CV] .................... C=10, gamma=0.01, score=0.957, total=   0.0s\n",
      "[CV] C=10, gamma=0.01 ................................................\n",
      "[CV] .................... C=10, gamma=0.01, score=1.000, total=   0.0s\n",
      "[CV] C=10, gamma=0.01 ................................................\n",
      "[CV] .................... C=10, gamma=0.01, score=0.909, total=   0.0s\n",
      "[CV] C=10, gamma=0.01 ................................................\n",
      "[CV] .................... C=10, gamma=0.01, score=0.955, total=   0.0s\n",
      "[CV] C=10, gamma=0.001 ...............................................\n",
      "[CV] ................... C=10, gamma=0.001, score=0.913, total=   0.0s\n",
      "[CV] C=10, gamma=0.001 ...............................................\n",
      "[CV] ................... C=10, gamma=0.001, score=0.913, total=   0.0s\n",
      "[CV] C=10, gamma=0.001 ...............................................\n",
      "[CV] ................... C=10, gamma=0.001, score=1.000, total=   0.0s\n",
      "[CV] C=10, gamma=0.001 ...............................................\n",
      "[CV] ................... C=10, gamma=0.001, score=0.909, total=   0.0s\n",
      "[CV] C=10, gamma=0.001 ...............................................\n",
      "[CV] ................... C=10, gamma=0.001, score=0.955, total=   0.0s\n",
      "[CV] C=100, gamma=1 ..................................................\n",
      "[CV] ...................... C=100, gamma=1, score=0.957, total=   0.0s\n",
      "[CV] C=100, gamma=1 ..................................................\n",
      "[CV] ...................... C=100, gamma=1, score=0.957, total=   0.0s\n",
      "[CV] C=100, gamma=1 ..................................................\n",
      "[CV] ...................... C=100, gamma=1, score=1.000, total=   0.0s\n",
      "[CV] C=100, gamma=1 ..................................................\n",
      "[CV] ...................... C=100, gamma=1, score=0.864, total=   0.0s\n",
      "[CV] C=100, gamma=1 ..................................................\n",
      "[CV] ...................... C=100, gamma=1, score=0.955, total=   0.0s\n",
      "[CV] C=100, gamma=0.1 ................................................\n",
      "[CV] .................... C=100, gamma=0.1, score=1.000, total=   0.0s\n",
      "[CV] C=100, gamma=0.1 ................................................\n",
      "[CV] .................... C=100, gamma=0.1, score=0.957, total=   0.0s\n",
      "[CV] C=100, gamma=0.1 ................................................\n",
      "[CV] .................... C=100, gamma=0.1, score=1.000, total=   0.0s\n",
      "[CV] C=100, gamma=0.1 ................................................\n",
      "[CV] .................... C=100, gamma=0.1, score=0.864, total=   0.0s\n",
      "[CV] C=100, gamma=0.1 ................................................\n",
      "[CV] .................... C=100, gamma=0.1, score=0.955, total=   0.0s\n",
      "[CV] C=100, gamma=0.01 ...............................................\n",
      "[CV] ................... C=100, gamma=0.01, score=1.000, total=   0.0s\n",
      "[CV] C=100, gamma=0.01 ...............................................\n",
      "[CV] ................... C=100, gamma=0.01, score=0.913, total=   0.0s\n",
      "[CV] C=100, gamma=0.01 ...............................................\n",
      "[CV] ................... C=100, gamma=0.01, score=1.000, total=   0.0s\n",
      "[CV] C=100, gamma=0.01 ...............................................\n",
      "[CV] ................... C=100, gamma=0.01, score=0.955, total=   0.0s\n",
      "[CV] C=100, gamma=0.01 ...............................................\n",
      "[CV] ................... C=100, gamma=0.01, score=0.955, total=   0.0s\n",
      "[CV] C=100, gamma=0.001 ..............................................\n",
      "[CV] .................. C=100, gamma=0.001, score=1.000, total=   0.0s\n",
      "[CV] C=100, gamma=0.001 ..............................................\n",
      "[CV] .................. C=100, gamma=0.001, score=0.957, total=   0.0s\n",
      "[CV] C=100, gamma=0.001 ..............................................\n",
      "[CV] .................. C=100, gamma=0.001, score=1.000, total=   0.0s\n",
      "[CV] C=100, gamma=0.001 ..............................................\n",
      "[CV] .................. C=100, gamma=0.001, score=0.909, total=   0.0s\n",
      "[CV] C=100, gamma=0.001 ..............................................\n",
      "[CV] .................. C=100, gamma=0.001, score=0.955, total=   0.0s\n"
     ]
    },
    {
     "name": "stderr",
     "output_type": "stream",
     "text": [
      "[Parallel(n_jobs=1)]: Using backend SequentialBackend with 1 concurrent workers.\n",
      "[Parallel(n_jobs=1)]: Done   1 out of   1 | elapsed:    0.0s remaining:    0.0s\n",
      "[Parallel(n_jobs=1)]: Done   2 out of   2 | elapsed:    0.0s remaining:    0.0s\n",
      "[Parallel(n_jobs=1)]: Done  80 out of  80 | elapsed:    0.1s finished\n"
     ]
    },
    {
     "data": {
      "text/plain": [
       "GridSearchCV(cv=None, error_score=nan,\n",
       "             estimator=SVC(C=1.0, break_ties=False, cache_size=200,\n",
       "                           class_weight=None, coef0=0.0,\n",
       "                           decision_function_shape='ovr', degree=3,\n",
       "                           gamma='scale', kernel='rbf', max_iter=-1,\n",
       "                           probability=False, random_state=None, shrinking=True,\n",
       "                           tol=0.001, verbose=False),\n",
       "             iid='deprecated', n_jobs=None,\n",
       "             param_grid={'C': [0.1, 1, 10, 100],\n",
       "                         'gamma': [1, 0.1, 0.01, 0.001]},\n",
       "             pre_dispatch='2*n_jobs', refit=True, return_train_score=False,\n",
       "             scoring=None, verbose=3)"
      ]
     },
     "execution_count": 92,
     "metadata": {},
     "output_type": "execute_result"
    }
   ],
   "source": [
    "grid = GridSearchCV(SVC(), param_grid, refit = True, verbose=3)\r\n",
    "grid.fit(X_train, y_train)"
   ]
  },
  {
   "cell_type": "code",
   "execution_count": 93,
   "metadata": {
    "collapsed": false
   },
   "outputs": [],
   "source": [
    "pred_grid = grid.predict(X_test)"
   ]
  },
  {
   "cell_type": "code",
   "execution_count": 94,
   "metadata": {
    "collapsed": false
   },
   "outputs": [
    {
     "name": "stdout",
     "output_type": "stream",
     "text": [
      "[[13  0  0]\n",
      " [ 0 15  1]\n",
      " [ 0  0  9]]\n"
     ]
    }
   ],
   "source": [
    "print(confusion_matrix(y_test, pred_grid))"
   ]
  },
  {
   "cell_type": "code",
   "execution_count": 95,
   "metadata": {
    "collapsed": false
   },
   "outputs": [
    {
     "name": "stdout",
     "output_type": "stream",
     "text": [
      "              precision    recall  f1-score   support\n",
      "\n",
      "           0       1.00      1.00      1.00        13\n",
      "           1       1.00      0.94      0.97        16\n",
      "           2       0.90      1.00      0.95         9\n",
      "\n",
      "    accuracy                           0.97        38\n",
      "   macro avg       0.97      0.98      0.97        38\n",
      "weighted avg       0.98      0.97      0.97        38\n",
      "\n"
     ]
    }
   ],
   "source": [
    "print(classification_report(y_test, pred_grid))"
   ]
  },
  {
   "cell_type": "code",
   "execution_count": 18,
   "metadata": {
    "collapsed": false
   },
   "outputs": [
    {
     "name": "stdout",
     "output_type": "stream",
     "text": [
      "Size of training set: 112   size of test set: 38\n",
      "Best score: 0.97\n",
      "Best parameters: {'C': 100, 'gamma': 0.001}\n"
     ]
    }
   ],
   "source": [
    "# naive grid search implementation\r\n",
    "from sklearn.svm import SVC\r\n",
    "from sklearn.datasets import load_iris\r\n",
    "\r\n",
    "X_train, X_test, y_train, y_test = train_test_split(\r\n",
    "    iris.data, iris.target, random_state=0)\r\n",
    "print(\"Size of training set: {}   size of test set: {}\".format(\r\n",
    "      X_train.shape[0], X_test.shape[0]))\r\n",
    "\r\n",
    "best_score = 0\r\n",
    "\r\n",
    "for gamma in [0.001, 0.01, 0.1, 1, 10, 100]:\r\n",
    "    for C in [0.001, 0.01, 0.1, 1, 10, 100]:\r\n",
    "        # for each combination of parameters, train an SVC\r\n",
    "        svm = SVC(gamma=gamma, C=C)\r\n",
    "        svm.fit(X_train, y_train)\r\n",
    "        # evaluate the SVC on the test set\r\n",
    "        score = svm.score(X_test, y_test)\r\n",
    "        # if we got a better score, store the score and parameters\r\n",
    "        if score > best_score:\r\n",
    "            best_score = score\r\n",
    "            best_parameters = {'C': C, 'gamma': gamma}\r\n",
    "\r\n",
    "print(\"Best score: {:.2f}\".format(best_score))\r\n",
    "print(\"Best parameters: {}\".format(best_parameters))"
   ]
  },
  {
   "cell_type": "markdown",
   "metadata": {
    "collapsed": false
   },
   "source": [
    "#### Grid Search with Cross-Validation"
   ]
  },
  {
   "cell_type": "code",
   "execution_count": 74,
   "metadata": {
    "collapsed": false
   },
   "outputs": [
    {
     "name": "stdout",
     "output_type": "stream",
     "text": [
      "Size of training set: 84   size of validation set: 28   size of test set: 38\n",
      "\n",
      "Best score on validation set: 0.96\n",
      "Best parameters:  {'C': 10, 'gamma': 0.001}\n",
      "Test set score with best parameters: 0.92\n"
     ]
    }
   ],
   "source": [
    "from sklearn.model_selection import cross_val_score\r\n",
    "from sklearn.svm import SVC\r\n",
    "from sklearn.datasets import load_iris\r\n",
    "import numpy as np\r\n",
    "# split data into train+validation set and test set\r\n",
    "X_trainval, X_test, y_trainval, y_test = train_test_split(\r\n",
    "    iris.data, iris.target, random_state=0)\r\n",
    "# split train+validation set into training and validation sets\r\n",
    "X_train, X_valid, y_train, y_valid = train_test_split(\r\n",
    "    X_trainval, y_trainval, random_state=1)\r\n",
    "print(\"Size of training set: {}   size of validation set: {}   size of test set:\"\r\n",
    "      \" {}\\n\".format(X_train.shape[0], X_valid.shape[0], X_test.shape[0]))\r\n",
    "\r\n",
    "best_score = 0\r\n",
    "\r\n",
    "for gamma in [0.001, 0.01, 0.1, 1, 10, 100]:\r\n",
    "    for C in [0.001, 0.01, 0.1, 1, 10, 100]:\r\n",
    "        # for each combination of parameters, train an SVC\r\n",
    "        svm = SVC(gamma=gamma, C=C)\r\n",
    "        svm.fit(X_train, y_train)\r\n",
    "        # evaluate the SVC on the validation set\r\n",
    "        score = svm.score(X_valid, y_valid)\r\n",
    "        # if we got a better score, store the score and parameters\r\n",
    "        if score > best_score:\r\n",
    "            best_score = score\r\n",
    "            best_parameters = {'C': C, 'gamma': gamma}\r\n",
    "\r\n",
    "# rebuild a model on the combined training and validation set,\r\n",
    "# and evaluate it on the test set\r\n",
    "svm = SVC(**best_parameters)\r\n",
    "svm.fit(X_trainval, y_trainval)\r\n",
    "test_score = svm.score(X_test, y_test)\r\n",
    "print(\"Best score on validation set: {:.2f}\".format(best_score))\r\n",
    "print(\"Best parameters: \", best_parameters)\r\n",
    "print(\"Test set score with best parameters: {:.2f}\".format(test_score))"
   ]
  },
  {
   "cell_type": "code",
   "execution_count": 75,
   "metadata": {
    "collapsed": false
   },
   "outputs": [
    {
     "data": {
      "text/plain": [
       "SVC(C=10, break_ties=False, cache_size=200, class_weight=None, coef0=0.0,\n",
       "    decision_function_shape='ovr', degree=3, gamma=0.1, kernel='rbf',\n",
       "    max_iter=-1, probability=False, random_state=None, shrinking=True,\n",
       "    tol=0.001, verbose=False)"
      ]
     },
     "execution_count": 75,
     "metadata": {},
     "output_type": "execute_result"
    }
   ],
   "source": [
    "from sklearn.datasets import load_iris\r\n",
    "for gamma in [0.001, 0.01, 0.1, 1, 10, 100]:\r\n",
    "    for C in [0.001, 0.01, 0.1, 1, 10, 100]:\r\n",
    "        # for each combination of parameters,\r\n",
    "        # train an SVC\r\n",
    "        svm = SVC(gamma=gamma, C=C)\r\n",
    "        # perform cross-validation\r\n",
    "        scores = cross_val_score(svm, X_trainval, y_trainval, cv=5)\r\n",
    "        # compute mean cross-validation accuracy\r\n",
    "        score = np.mean(scores)\r\n",
    "        # if we got a better score, store the score and parameters\r\n",
    "        if score > best_score:\r\n",
    "            best_score = score\r\n",
    "            best_parameters = {'C': C, 'gamma': gamma}\r\n",
    "# rebuild a model on the combined training and validation set\r\n",
    "svm = SVC(**best_parameters)\r\n",
    "svm.fit(X_trainval, y_trainval)"
   ]
  },
  {
   "cell_type": "code",
   "execution_count": 76,
   "metadata": {
    "collapsed": false
   },
   "outputs": [
    {
     "data": {
      "image/png": "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\n",
      "text/plain": [
       "<Figure size 720x216 with 1 Axes>"
      ]
     },
     "metadata": {},
     "output_type": "display_data"
    }
   ],
   "source": [
    "mglearn.plots.plot_cross_val_selection()"
   ]
  },
  {
   "cell_type": "code",
   "execution_count": 77,
   "metadata": {
    "collapsed": false
   },
   "outputs": [
    {
     "data": {
      "image/png": "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\n",
      "text/plain": [
       "<Figure size 700x210 with 1 Axes>"
      ]
     },
     "metadata": {},
     "output_type": "display_data"
    }
   ],
   "source": [
    "mglearn.plots.plot_grid_search_overview()"
   ]
  },
  {
   "cell_type": "code",
   "execution_count": 78,
   "metadata": {
    "collapsed": false
   },
   "outputs": [
    {
     "name": "stdout",
     "output_type": "stream",
     "text": [
      "Parameter grid:\n",
      "{'C': [0.001, 0.01, 0.1, 1, 10, 100], 'gamma': [0.001, 0.01, 0.1, 1, 10, 100]}\n"
     ]
    }
   ],
   "source": [
    "param_grid = {'C': [0.001, 0.01, 0.1, 1, 10, 100],\r\n",
    "              'gamma': [0.001, 0.01, 0.1, 1, 10, 100]}\r\n",
    "print(\"Parameter grid:\\n{}\".format(param_grid))"
   ]
  },
  {
   "cell_type": "code",
   "execution_count": 79,
   "metadata": {
    "collapsed": false
   },
   "outputs": [
    {
     "name": "stdout",
     "output_type": "stream",
     "text": [
      "Test set score: 0.97\n",
      "Best parameters: {'C': 10, 'gamma': 0.1}\n",
      "Best cross-validation score: 0.97\n",
      "Best estimator:\n",
      "SVC(C=10, break_ties=False, cache_size=200, class_weight=None, coef0=0.0,\n",
      "    decision_function_shape='ovr', degree=3, gamma=0.1, kernel='rbf',\n",
      "    max_iter=-1, probability=False, random_state=None, shrinking=True,\n",
      "    tol=0.001, verbose=False)\n"
     ]
    },
    {
     "data": {
      "text/html": [
       "<div>\n",
       "<style scoped>\n",
       "    .dataframe tbody tr th:only-of-type {\n",
       "        vertical-align: middle;\n",
       "    }\n",
       "\n",
       "    .dataframe tbody tr th {\n",
       "        vertical-align: top;\n",
       "    }\n",
       "\n",
       "    .dataframe thead th {\n",
       "        text-align: right;\n",
       "    }\n",
       "</style>\n",
       "<table border=\"1\" class=\"dataframe\">\n",
       "  <thead>\n",
       "    <tr style=\"text-align: right;\">\n",
       "      <th></th>\n",
       "      <th>mean_fit_time</th>\n",
       "      <th>std_fit_time</th>\n",
       "      <th>mean_score_time</th>\n",
       "      <th>std_score_time</th>\n",
       "      <th>param_C</th>\n",
       "      <th>param_gamma</th>\n",
       "      <th>params</th>\n",
       "      <th>split0_test_score</th>\n",
       "      <th>split1_test_score</th>\n",
       "      <th>split2_test_score</th>\n",
       "      <th>...</th>\n",
       "      <th>mean_test_score</th>\n",
       "      <th>std_test_score</th>\n",
       "      <th>rank_test_score</th>\n",
       "      <th>split0_train_score</th>\n",
       "      <th>split1_train_score</th>\n",
       "      <th>split2_train_score</th>\n",
       "      <th>split3_train_score</th>\n",
       "      <th>split4_train_score</th>\n",
       "      <th>mean_train_score</th>\n",
       "      <th>std_train_score</th>\n",
       "    </tr>\n",
       "  </thead>\n",
       "  <tbody>\n",
       "    <tr>\n",
       "      <th>0</th>\n",
       "      <td>0.001134</td>\n",
       "      <td>0.000283</td>\n",
       "      <td>0.000450</td>\n",
       "      <td>0.000129</td>\n",
       "      <td>0.001</td>\n",
       "      <td>0.001</td>\n",
       "      <td>{'C': 0.001, 'gamma': 0.001}</td>\n",
       "      <td>0.347826</td>\n",
       "      <td>0.347826</td>\n",
       "      <td>0.363636</td>\n",
       "      <td>...</td>\n",
       "      <td>0.366403</td>\n",
       "      <td>0.022485</td>\n",
       "      <td>22</td>\n",
       "      <td>0.370787</td>\n",
       "      <td>0.370787</td>\n",
       "      <td>0.366667</td>\n",
       "      <td>0.366667</td>\n",
       "      <td>0.355556</td>\n",
       "      <td>0.366092</td>\n",
       "      <td>0.005581</td>\n",
       "    </tr>\n",
       "    <tr>\n",
       "      <th>1</th>\n",
       "      <td>0.000839</td>\n",
       "      <td>0.000094</td>\n",
       "      <td>0.000343</td>\n",
       "      <td>0.000028</td>\n",
       "      <td>0.001</td>\n",
       "      <td>0.01</td>\n",
       "      <td>{'C': 0.001, 'gamma': 0.01}</td>\n",
       "      <td>0.347826</td>\n",
       "      <td>0.347826</td>\n",
       "      <td>0.363636</td>\n",
       "      <td>...</td>\n",
       "      <td>0.366403</td>\n",
       "      <td>0.022485</td>\n",
       "      <td>22</td>\n",
       "      <td>0.370787</td>\n",
       "      <td>0.370787</td>\n",
       "      <td>0.366667</td>\n",
       "      <td>0.366667</td>\n",
       "      <td>0.355556</td>\n",
       "      <td>0.366092</td>\n",
       "      <td>0.005581</td>\n",
       "    </tr>\n",
       "    <tr>\n",
       "      <th>2</th>\n",
       "      <td>0.000913</td>\n",
       "      <td>0.000022</td>\n",
       "      <td>0.000378</td>\n",
       "      <td>0.000010</td>\n",
       "      <td>0.001</td>\n",
       "      <td>0.1</td>\n",
       "      <td>{'C': 0.001, 'gamma': 0.1}</td>\n",
       "      <td>0.347826</td>\n",
       "      <td>0.347826</td>\n",
       "      <td>0.363636</td>\n",
       "      <td>...</td>\n",
       "      <td>0.366403</td>\n",
       "      <td>0.022485</td>\n",
       "      <td>22</td>\n",
       "      <td>0.370787</td>\n",
       "      <td>0.370787</td>\n",
       "      <td>0.366667</td>\n",
       "      <td>0.366667</td>\n",
       "      <td>0.355556</td>\n",
       "      <td>0.366092</td>\n",
       "      <td>0.005581</td>\n",
       "    </tr>\n",
       "    <tr>\n",
       "      <th>3</th>\n",
       "      <td>0.001001</td>\n",
       "      <td>0.000170</td>\n",
       "      <td>0.000397</td>\n",
       "      <td>0.000059</td>\n",
       "      <td>0.001</td>\n",
       "      <td>1</td>\n",
       "      <td>{'C': 0.001, 'gamma': 1}</td>\n",
       "      <td>0.347826</td>\n",
       "      <td>0.347826</td>\n",
       "      <td>0.363636</td>\n",
       "      <td>...</td>\n",
       "      <td>0.366403</td>\n",
       "      <td>0.022485</td>\n",
       "      <td>22</td>\n",
       "      <td>0.370787</td>\n",
       "      <td>0.370787</td>\n",
       "      <td>0.366667</td>\n",
       "      <td>0.366667</td>\n",
       "      <td>0.355556</td>\n",
       "      <td>0.366092</td>\n",
       "      <td>0.005581</td>\n",
       "    </tr>\n",
       "    <tr>\n",
       "      <th>4</th>\n",
       "      <td>0.000906</td>\n",
       "      <td>0.000022</td>\n",
       "      <td>0.000374</td>\n",
       "      <td>0.000015</td>\n",
       "      <td>0.001</td>\n",
       "      <td>10</td>\n",
       "      <td>{'C': 0.001, 'gamma': 10}</td>\n",
       "      <td>0.347826</td>\n",
       "      <td>0.347826</td>\n",
       "      <td>0.363636</td>\n",
       "      <td>...</td>\n",
       "      <td>0.366403</td>\n",
       "      <td>0.022485</td>\n",
       "      <td>22</td>\n",
       "      <td>0.370787</td>\n",
       "      <td>0.370787</td>\n",
       "      <td>0.366667</td>\n",
       "      <td>0.366667</td>\n",
       "      <td>0.355556</td>\n",
       "      <td>0.366092</td>\n",
       "      <td>0.005581</td>\n",
       "    </tr>\n",
       "  </tbody>\n",
       "</table>\n",
       "<p>5 rows × 22 columns</p>\n",
       "</div>"
      ],
      "text/plain": [
       "   mean_fit_time  std_fit_time  mean_score_time  std_score_time param_C  \\\n",
       "0       0.001134      0.000283         0.000450        0.000129   0.001   \n",
       "1       0.000839      0.000094         0.000343        0.000028   0.001   \n",
       "2       0.000913      0.000022         0.000378        0.000010   0.001   \n",
       "3       0.001001      0.000170         0.000397        0.000059   0.001   \n",
       "4       0.000906      0.000022         0.000374        0.000015   0.001   \n",
       "\n",
       "  param_gamma                        params  split0_test_score  \\\n",
       "0       0.001  {'C': 0.001, 'gamma': 0.001}           0.347826   \n",
       "1        0.01   {'C': 0.001, 'gamma': 0.01}           0.347826   \n",
       "2         0.1    {'C': 0.001, 'gamma': 0.1}           0.347826   \n",
       "3           1      {'C': 0.001, 'gamma': 1}           0.347826   \n",
       "4          10     {'C': 0.001, 'gamma': 10}           0.347826   \n",
       "\n",
       "   split1_test_score  split2_test_score  ...  mean_test_score  std_test_score  \\\n",
       "0           0.347826           0.363636  ...         0.366403        0.022485   \n",
       "1           0.347826           0.363636  ...         0.366403        0.022485   \n",
       "2           0.347826           0.363636  ...         0.366403        0.022485   \n",
       "3           0.347826           0.363636  ...         0.366403        0.022485   \n",
       "4           0.347826           0.363636  ...         0.366403        0.022485   \n",
       "\n",
       "   rank_test_score  split0_train_score  split1_train_score  \\\n",
       "0               22            0.370787            0.370787   \n",
       "1               22            0.370787            0.370787   \n",
       "2               22            0.370787            0.370787   \n",
       "3               22            0.370787            0.370787   \n",
       "4               22            0.370787            0.370787   \n",
       "\n",
       "   split2_train_score  split3_train_score  split4_train_score  \\\n",
       "0            0.366667            0.366667            0.355556   \n",
       "1            0.366667            0.366667            0.355556   \n",
       "2            0.366667            0.366667            0.355556   \n",
       "3            0.366667            0.366667            0.355556   \n",
       "4            0.366667            0.366667            0.355556   \n",
       "\n",
       "   mean_train_score  std_train_score  \n",
       "0          0.366092         0.005581  \n",
       "1          0.366092         0.005581  \n",
       "2          0.366092         0.005581  \n",
       "3          0.366092         0.005581  \n",
       "4          0.366092         0.005581  \n",
       "\n",
       "[5 rows x 22 columns]"
      ]
     },
     "metadata": {},
     "output_type": "display_data"
    }
   ],
   "source": [
    "from sklearn.model_selection import GridSearchCV\r\n",
    "from sklearn.datasets import load_iris\r\n",
    "from sklearn.svm import SVC\r\n",
    "grid_search = GridSearchCV(SVC(), param_grid, cv=5,\r\n",
    "                          return_train_score=True)\r\n",
    "X_train, X_test, y_train, y_test = train_test_split(\r\n",
    "    iris.data, iris.target, random_state=0)\r\n",
    "grid_search.fit(X_train, y_train)\r\n",
    "print(\"Test set score: {:.2f}\".format(grid_search.score(X_test, y_test)))\r\n",
    "print(\"Best parameters: {}\".format(grid_search.best_params_))\r\n",
    "print(\"Best cross-validation score: {:.2f}\".format(grid_search.best_score_))\r\n",
    "print(\"Best estimator:\\n{}\".format(grid_search.best_estimator_))\r\n",
    "import pandas as pd\r\n",
    "# convert to Dataframe\r\n",
    "results = pd.DataFrame(grid_search.cv_results_)\r\n",
    "# show the first 5 rows\r\n",
    "display(results.head())"
   ]
  },
  {
   "cell_type": "code",
   "execution_count": 80,
   "metadata": {
    "collapsed": false
   },
   "outputs": [
    {
     "data": {
      "text/plain": [
       "<matplotlib.collections.PolyCollection at 0x7f7374238a10>"
      ]
     },
     "execution_count": 80,
     "metadata": {},
     "output_type": "execute_result"
    },
    {
     "data": {
      "image/png": "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\n",
      "text/plain": [
       "<Figure size 432x288 with 1 Axes>"
      ]
     },
     "metadata": {},
     "output_type": "display_data"
    }
   ],
   "source": [
    "scores = np.array(results.mean_test_score).reshape(6, 6)\r\n",
    "\r\n",
    "# plot the mean cross-validation scores\r\n",
    "mglearn.tools.heatmap(scores, xlabel='gamma', xticklabels=param_grid['gamma'],\r\n",
    "                      ylabel='C', yticklabels=param_grid['C'], cmap=\"viridis\")"
   ]
  },
  {
   "cell_type": "code",
   "execution_count": 82,
   "metadata": {
    "collapsed": false
   },
   "outputs": [
    {
     "data": {
      "text/plain": [
       "<matplotlib.colorbar.Colorbar at 0x7f7361926dd0>"
      ]
     },
     "execution_count": 82,
     "metadata": {},
     "output_type": "execute_result"
    },
    {
     "data": {
      "image/png": "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\n",
      "text/plain": [
       "<Figure size 936x360 with 4 Axes>"
      ]
     },
     "metadata": {},
     "output_type": "display_data"
    }
   ],
   "source": [
    "import matplotlib.pyplot as plt\r\n",
    "from sklearn.datasets import load_iris\r\n",
    "fig, axes = plt.subplots(1, 3, figsize=(13, 5))\r\n",
    "\r\n",
    "param_grid_linear = {'C': np.linspace(1, 2, 6),\r\n",
    "                     'gamma':  np.linspace(1, 2, 6)}\r\n",
    "\r\n",
    "param_grid_one_log = {'C': np.linspace(1, 2, 6),\r\n",
    "                      'gamma':  np.logspace(-3, 2, 6)}\r\n",
    "\r\n",
    "param_grid_range = {'C': np.logspace(-3, 2, 6),\r\n",
    "                    'gamma':  np.logspace(-7, -2, 6)}\r\n",
    "\r\n",
    "for param_grid, ax in zip([param_grid_linear, param_grid_one_log,\r\n",
    "                           param_grid_range], axes):\r\n",
    "    grid_search = GridSearchCV(SVC(), param_grid, cv=5)\r\n",
    "    grid_search.fit(X_train, y_train)\r\n",
    "    scores = grid_search.cv_results_['mean_test_score'].reshape(6, 6)\r\n",
    "\r\n",
    "    # plot the mean cross-validation scores\r\n",
    "    scores_image = mglearn.tools.heatmap(\r\n",
    "        scores, xlabel='gamma', ylabel='C', xticklabels=param_grid['gamma'],\r\n",
    "        yticklabels=param_grid['C'], cmap=\"viridis\", ax=ax)\r\n",
    "\r\n",
    "plt.colorbar(scores_image, ax=axes.tolist())"
   ]
  },
  {
   "cell_type": "markdown",
   "metadata": {
    "collapsed": false
   },
   "source": [
    "# Use at least two metrics other than accuracy to evaluation your models."
   ]
  },
  {
   "cell_type": "markdown",
   "metadata": {
    "collapsed": false
   },
   "source": [
    "# Confusion matrics"
   ]
  },
  {
   "cell_type": "code",
   "execution_count": 59,
   "metadata": {
    "collapsed": false
   },
   "outputs": [
    {
     "name": "stdout",
     "output_type": "stream",
     "text": [
      "[[13  0  0]\n",
      " [ 0 17  2]\n",
      " [ 0  0 18]]\n"
     ]
    },
    {
     "data": {
      "image/png": "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\n",
      "text/plain": [
       "<Figure size 432x288 with 2 Axes>"
      ]
     },
     "metadata": {},
     "output_type": "display_data"
    }
   ],
   "source": [
    "import warnings\r\n",
    "import pandas as pd\r\n",
    "from sklearn import model_selection\r\n",
    "from sklearn.linear_model import LogisticRegression\r\n",
    "from sklearn.metrics import confusion_matrix\r\n",
    "import matplotlib.pyplot as plt\r\n",
    "%matplotlib inline  \r\n",
    "\r\n",
    "#ignore warnings\r\n",
    "warnings.filterwarnings('ignore')\r\n",
    "# Load digits dataset\r\n",
    "url = \"http://archive.ics.uci.edu/ml/machine-learning-databases/iris/iris.data\"\r\n",
    "df = pd.read_csv(url)\r\n",
    "# df = df.values\r\n",
    "X = df.iloc[:,0:4]\r\n",
    "y = df.iloc[:,4]\r\n",
    "#test size\r\n",
    "test_size = 0.33\r\n",
    "#generate the same set of random numbers\r\n",
    "seed = 7\r\n",
    "#Split data into train and test set.\r\n",
    "X_train, X_test, y_train, y_test = model_selection.train_test_split(X, y, test_size=test_size, random_state=seed)\r\n",
    "#Train Model\r\n",
    "model = LogisticRegression()\r\n",
    "model.fit(X_train, y_train)\r\n",
    "pred = model.predict(X_test)\r\n",
    "\r\n",
    "#Construct the Confusion Matrix\r\n",
    "labels = ['Iris-setosa', 'Iris-versicolor', 'Iris-virginica']\r\n",
    "cm = confusion_matrix(y_test, pred, labels)\r\n",
    "print(cm)\r\n",
    "fig = plt.figure()\r\n",
    "ax = fig.add_subplot(111)\r\n",
    "cax = ax.matshow(cm)\r\n",
    "plt.title('Confusion matrix')\r\n",
    "fig.colorbar(cax)\r\n",
    "ax.set_xticklabels([''] + labels)\r\n",
    "ax.set_yticklabels([''] + labels)\r\n",
    "plt.xlabel('Predicted Values')\r\n",
    "plt.ylabel('Actual Values')\r\n",
    "plt.show() "
   ]
  },
  {
   "cell_type": "markdown",
   "metadata": {
    "collapsed": false
   },
   "source": [
    "# Accuracy"
   ]
  },
  {
   "cell_type": "code",
   "execution_count": 68,
   "metadata": {
    "collapsed": false
   },
   "outputs": [
    {
     "name": "stdout",
     "output_type": "stream",
     "text": [
      "Accuracy -val set: 94.67% (0.06)\n",
      "Accuracy - test set: 92.00%\n"
     ]
    }
   ],
   "source": [
    "#import modules\r\n",
    "import warnings\r\n",
    "import pandas as pd\r\n",
    "import numpy as np\r\n",
    "from sklearn import model_selection\r\n",
    "from sklearn.linear_model import LogisticRegression\r\n",
    "from sklearn import datasets\r\n",
    "from sklearn.metrics import accuracy_score\r\n",
    "#ignore warnings\r\n",
    "warnings.filterwarnings('ignore')\r\n",
    "# Load digits dataset\r\n",
    "iris = datasets.load_iris()\r\n",
    "# # Create feature matrix\r\n",
    "X = iris.data\r\n",
    "# Create target vector\r\n",
    "y = iris.target\r\n",
    "#test size\r\n",
    "test_size = 0.33\r\n",
    "#generate the same set of random numbers\r\n",
    "seed = 7\r\n",
    "#cross-validation settings\r\n",
    "kfold = model_selection.KFold(n_splits=10, random_state=seed)\r\n",
    "#Model instance\r\n",
    "model = LogisticRegression()\r\n",
    "#Evaluate model performance\r\n",
    "scoring = 'accuracy'\r\n",
    "results = model_selection.cross_val_score(model, X, y, cv=kfold, scoring=scoring)\r\n",
    "print('Accuracy -val set: %.2f%% (%.2f)' % (results.mean()*100, results.std()))\r\n",
    "#split data\r\n",
    "X_train, X_test, y_train, y_test = model_selection.train_test_split(X, y, test_size=test_size, random_state=seed)\r\n",
    "#fit model\r\n",
    "model.fit(X_train, y_train)\r\n",
    "#accuracy on test set\r\n",
    "result = model.score(X_test, y_test)\r\n",
    "print(\"Accuracy - test set: %.2f%%\" % (result*100.0))"
   ]
  },
  {
   "cell_type": "code",
   "execution_count": 48,
   "metadata": {
    "collapsed": false
   },
   "outputs": [
    {
     "name": "stdout",
     "output_type": "stream",
     "text": [
      "Confusion matrix : \n",
      " [[2 2]\n",
      " [1 5]]\n",
      "Outcome values : \n",
      " 2 2 1 5\n",
      "Classification report : \n",
      "               precision    recall  f1-score   support\n",
      "\n",
      "           1       0.67      0.50      0.57         4\n",
      "           0       0.71      0.83      0.77         6\n",
      "\n",
      "    accuracy                           0.70        10\n",
      "   macro avg       0.69      0.67      0.67        10\n",
      "weighted avg       0.70      0.70      0.69        10\n",
      "\n"
     ]
    }
   ],
   "source": [
    "# confusion matrix in sklearn\r\n",
    "from sklearn.metrics import confusion_matrix\r\n",
    "from sklearn.metrics import classification_report\r\n",
    "\r\n",
    "# actual values\r\n",
    "actual = [1,0,0,1,0,0,1,0,0,1]\r\n",
    "# predicted values\r\n",
    "predicted = [1,0,0,1,0,0,0,1,0,0]\r\n",
    "\r\n",
    "# confusion matrix\r\n",
    "matrix = confusion_matrix(actual,predicted, labels=[1,0])\r\n",
    "print('Confusion matrix : \\n',matrix)\r\n",
    "\r\n",
    "# outcome values order in sklearn\r\n",
    "tp, fn, fp, tn = confusion_matrix(actual,predicted,labels=[1,0]).reshape(-1)\r\n",
    "print('Outcome values : \\n', tp, fn, fp, tn)\r\n",
    "\r\n",
    "# classification report for precision, recall f1-score and accuracy\r\n",
    "matrix = classification_report(actual,predicted,labels=[1,0])\r\n",
    "print('Classification report : \\n',matrix)"
   ]
  },
  {
   "cell_type": "markdown",
   "metadata": {
    "collapsed": false
   },
   "source": [
    "# **Iris (Plots correlation matrics)**"
   ]
  },
  {
   "cell_type": "code",
   "execution_count": 26,
   "metadata": {
    "collapsed": false
   },
   "outputs": [],
   "source": [
    "import pandas as pd\r\n",
    "pd.options.mode.chained_assignment = None \r\n",
    "dataframe = pd.read_csv(\"data/Iris.csv\")\r\n",
    "\r\n",
    "from sklearn.naive_bayes import GaussianNB \r\n",
    "from sklearn import svm \r\n",
    "import seaborn as sns \r\n",
    "import matplotlib.pyplot as plt \r\n",
    "from sklearn.metrics import mean_squared_error \r\n",
    "from math import sqrt "
   ]
  },
  {
   "cell_type": "code",
   "execution_count": 23,
   "metadata": {
    "collapsed": false
   },
   "outputs": [
    {
     "data": {
      "text/html": [
       "<div>\n",
       "<style scoped>\n",
       "    .dataframe tbody tr th:only-of-type {\n",
       "        vertical-align: middle;\n",
       "    }\n",
       "\n",
       "    .dataframe tbody tr th {\n",
       "        vertical-align: top;\n",
       "    }\n",
       "\n",
       "    .dataframe thead th {\n",
       "        text-align: right;\n",
       "    }\n",
       "</style>\n",
       "<table border=\"1\" class=\"dataframe\">\n",
       "  <thead>\n",
       "    <tr style=\"text-align: right;\">\n",
       "      <th></th>\n",
       "      <th>Id</th>\n",
       "      <th>SepalLengthCm</th>\n",
       "      <th>SepalWidthCm</th>\n",
       "      <th>PetalLengthCm</th>\n",
       "      <th>PetalWidthCm</th>\n",
       "      <th>Species</th>\n",
       "    </tr>\n",
       "  </thead>\n",
       "  <tbody>\n",
       "    <tr>\n",
       "      <th>0</th>\n",
       "      <td>1</td>\n",
       "      <td>5.1</td>\n",
       "      <td>3.5</td>\n",
       "      <td>1.4</td>\n",
       "      <td>0.2</td>\n",
       "      <td>Iris-setosa</td>\n",
       "    </tr>\n",
       "    <tr>\n",
       "      <th>1</th>\n",
       "      <td>2</td>\n",
       "      <td>4.9</td>\n",
       "      <td>3.0</td>\n",
       "      <td>1.4</td>\n",
       "      <td>0.2</td>\n",
       "      <td>Iris-setosa</td>\n",
       "    </tr>\n",
       "    <tr>\n",
       "      <th>2</th>\n",
       "      <td>3</td>\n",
       "      <td>4.7</td>\n",
       "      <td>3.2</td>\n",
       "      <td>1.3</td>\n",
       "      <td>0.2</td>\n",
       "      <td>Iris-setosa</td>\n",
       "    </tr>\n",
       "    <tr>\n",
       "      <th>3</th>\n",
       "      <td>4</td>\n",
       "      <td>4.6</td>\n",
       "      <td>3.1</td>\n",
       "      <td>1.5</td>\n",
       "      <td>0.2</td>\n",
       "      <td>Iris-setosa</td>\n",
       "    </tr>\n",
       "    <tr>\n",
       "      <th>4</th>\n",
       "      <td>5</td>\n",
       "      <td>5.0</td>\n",
       "      <td>3.6</td>\n",
       "      <td>1.4</td>\n",
       "      <td>0.2</td>\n",
       "      <td>Iris-setosa</td>\n",
       "    </tr>\n",
       "  </tbody>\n",
       "</table>\n",
       "</div>"
      ],
      "text/plain": [
       "   Id  SepalLengthCm  SepalWidthCm  PetalLengthCm  PetalWidthCm      Species\n",
       "0   1            5.1           3.5            1.4           0.2  Iris-setosa\n",
       "1   2            4.9           3.0            1.4           0.2  Iris-setosa\n",
       "2   3            4.7           3.2            1.3           0.2  Iris-setosa\n",
       "3   4            4.6           3.1            1.5           0.2  Iris-setosa\n",
       "4   5            5.0           3.6            1.4           0.2  Iris-setosa"
      ]
     },
     "execution_count": 23,
     "metadata": {},
     "output_type": "execute_result"
    }
   ],
   "source": [
    "# Lets se how our dataframe looks like\r\n",
    "dataframe.head()"
   ]
  },
  {
   "cell_type": "code",
   "execution_count": 24,
   "metadata": {
    "collapsed": false
   },
   "outputs": [
    {
     "name": "stderr",
     "output_type": "stream",
     "text": [
      "/opt/conda/envs/python35-paddle120-env/lib/python3.7/site-packages/seaborn/axisgrid.py:243: UserWarning: The `size` parameter has been renamed to `height`; please update your code.\n",
      "  warnings.warn(msg, UserWarning)\n"
     ]
    },
    {
     "data": {
      "text/plain": [
       "<seaborn.axisgrid.FacetGrid at 0x7fdd74a2e950>"
      ]
     },
     "execution_count": 24,
     "metadata": {},
     "output_type": "execute_result"
    },
    {
     "data": {
      "image/png": "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\n",
      "text/plain": [
       "<Figure size 463.5x360 with 1 Axes>"
      ]
     },
     "metadata": {},
     "output_type": "display_data"
    }
   ],
   "source": [
    "sns.FacetGrid(dataframe, hue=\"Species\", size=5) \\\r\n",
    "   .map(plt.scatter, \"SepalLengthCm\", \"SepalWidthCm\") \\\r\n",
    "   .add_legend()"
   ]
  },
  {
   "cell_type": "code",
   "execution_count": 32,
   "metadata": {
    "collapsed": false
   },
   "outputs": [],
   "source": [
    "#In order to rus Naive_Bayes classifier we have to replace the \"Species\" values\r\n",
    "dataframe['Species'].replace(\"Iris-setosa\",1,inplace= True)\r\n",
    "dataframe['Species'].replace(\"Iris-virginica\",2,inplace = True)\r\n",
    "dataframe['Species'].replace(\"Iris-versicolor\",3,inplace=True)"
   ]
  },
  {
   "cell_type": "code",
   "execution_count": 33,
   "metadata": {
    "collapsed": false
   },
   "outputs": [
    {
     "data": {
      "text/plain": [
       "array([1, 3, 2])"
      ]
     },
     "execution_count": 33,
     "metadata": {},
     "output_type": "execute_result"
    }
   ],
   "source": [
    "#Now check if everything was changed properly\r\n",
    "dataframe['Species'].unique()"
   ]
  },
  {
   "cell_type": "code",
   "execution_count": 34,
   "metadata": {
    "collapsed": false
   },
   "outputs": [],
   "source": [
    "X = dataframe.iloc[:, 0:4]  \r\n",
    "Y = dataframe['Species']"
   ]
  },
  {
   "cell_type": "code",
   "execution_count": 35,
   "metadata": {
    "collapsed": false
   },
   "outputs": [
    {
     "name": "stdout",
     "output_type": "stream",
     "text": [
      " X_train       Id  SepalLengthCm  SepalWidthCm  PetalLengthCm\n",
      "85    86            6.0           3.4            4.5\n",
      "30    31            4.8           3.1            1.6\n",
      "101  102            5.8           2.7            5.1\n",
      "94    95            5.6           2.7            4.2\n",
      "64    65            5.6           2.9            3.6\n",
      "..   ...            ...           ...            ...\n",
      "9     10            4.9           3.1            1.5\n",
      "103  104            6.3           2.9            5.6\n",
      "67    68            5.8           2.7            4.1\n",
      "117  118            7.7           3.8            6.7\n",
      "47    48            4.6           3.2            1.4\n",
      "\n",
      "[90 rows x 4 columns]\n",
      "x_test       Id  SepalLengthCm  SepalWidthCm  PetalLengthCm\n",
      "114  115            5.8           2.8            5.1\n",
      "62    63            6.0           2.2            4.0\n",
      "33    34            5.5           4.2            1.4\n",
      "107  108            7.3           2.9            6.3\n",
      "7      8            5.0           3.4            1.5\n",
      "100  101            6.3           3.3            6.0\n",
      "40    41            5.0           3.5            1.3\n",
      "86    87            6.7           3.1            4.7\n",
      "76    77            6.8           2.8            4.8\n",
      "71    72            6.1           2.8            4.0\n",
      "134  135            6.1           2.6            5.6\n",
      "51    52            6.4           3.2            4.5\n",
      "73    74            6.1           2.8            4.7\n",
      "54    55            6.5           2.8            4.6\n",
      "63    64            6.1           2.9            4.7\n",
      "37    38            4.9           3.1            1.5\n",
      "78    79            6.0           2.9            4.5\n",
      "90    91            5.5           2.6            4.4\n",
      "45    46            4.8           3.0            1.4\n",
      "16    17            5.4           3.9            1.3\n",
      "121  122            5.6           2.8            4.9\n",
      "66    67            5.6           3.0            4.5\n",
      "24    25            4.8           3.4            1.9\n",
      "8      9            4.4           2.9            1.4\n",
      "126  127            6.2           2.8            4.8\n",
      "22    23            4.6           3.6            1.0\n",
      "44    45            5.1           3.8            1.9\n",
      "97    98            6.2           2.9            4.3\n",
      "93    94            5.0           2.3            3.3\n",
      "26    27            5.0           3.4            1.6\n",
      "137  138            6.4           3.1            5.5\n",
      "84    85            5.4           3.0            4.5\n",
      "27    28            5.2           3.5            1.5\n",
      "127  128            6.1           3.0            4.9\n",
      "132  133            6.4           2.8            5.6\n",
      "59    60            5.2           2.7            3.9\n",
      "18    19            5.7           3.8            1.7\n",
      "83    84            6.0           2.7            5.1\n",
      "61    62            5.9           3.0            4.2\n",
      "92    93            5.8           2.6            4.0\n",
      "112  113            6.8           3.0            5.5\n",
      "2      3            4.7           3.2            1.3\n",
      "141  142            6.9           3.1            5.1\n",
      "43    44            5.0           3.5            1.6\n",
      "10    11            5.4           3.7            1.5\n",
      "60    61            5.0           2.0            3.5\n",
      "116  117            6.5           3.0            5.5\n",
      "144  145            6.7           3.3            5.7\n",
      "119  120            6.0           2.2            5.0\n",
      "108  109            6.7           2.5            5.8\n",
      "69    70            5.6           2.5            3.9\n",
      "135  136            7.7           3.0            6.1\n",
      "56    57            6.3           3.3            4.7\n",
      "80    81            5.5           2.4            3.8\n",
      "123  124            6.3           2.7            4.9\n",
      "133  134            6.3           2.8            5.1\n",
      "106  107            4.9           2.5            4.5\n",
      "146  147            6.3           2.5            5.0\n",
      "50    51            7.0           3.2            4.7\n",
      "147  148            6.5           3.0            5.2\n",
      "y_train 85     3\n",
      "30     1\n",
      "101    2\n",
      "94     3\n",
      "64     3\n",
      "      ..\n",
      "9      1\n",
      "103    2\n",
      "67     3\n",
      "117    2\n",
      "47     1\n",
      "Name: Species, Length: 90, dtype: int64\n",
      "y_test 114    2\n",
      "62     3\n",
      "33     1\n",
      "107    2\n",
      "7      1\n",
      "100    2\n",
      "40     1\n",
      "86     3\n",
      "76     3\n",
      "71     3\n",
      "134    2\n",
      "51     3\n",
      "73     3\n",
      "54     3\n",
      "63     3\n",
      "37     1\n",
      "78     3\n",
      "90     3\n",
      "45     1\n",
      "16     1\n",
      "121    2\n",
      "66     3\n",
      "24     1\n",
      "8      1\n",
      "126    2\n",
      "22     1\n",
      "44     1\n",
      "97     3\n",
      "93     3\n",
      "26     1\n",
      "137    2\n",
      "84     3\n",
      "27     1\n",
      "127    2\n",
      "132    2\n",
      "59     3\n",
      "18     1\n",
      "83     3\n",
      "61     3\n",
      "92     3\n",
      "112    2\n",
      "2      1\n",
      "141    2\n",
      "43     1\n",
      "10     1\n",
      "60     3\n",
      "116    2\n",
      "144    2\n",
      "119    2\n",
      "108    2\n",
      "69     3\n",
      "135    2\n",
      "56     3\n",
      "80     3\n",
      "123    2\n",
      "133    2\n",
      "106    2\n",
      "146    2\n",
      "50     3\n",
      "147    2\n",
      "Name: Species, dtype: int64\n"
     ]
    }
   ],
   "source": [
    "# I prefer to use train_test_split for cross-validation\r\n",
    "# This peace will prove us if we have overfitting \r\n",
    "X_train, X_test, y_train, y_test = train_test_split(\r\n",
    "  X, Y, test_size=0.4, random_state=0)\r\n",
    "print(\" X_train\",X_train)\r\n",
    "print(\"x_test\",X_test)\r\n",
    "print(\"y_train\",y_train)\r\n",
    "print(\"y_test\",y_test)"
   ]
  },
  {
   "cell_type": "code",
   "execution_count": 36,
   "metadata": {
    "collapsed": false
   },
   "outputs": [
    {
     "data": {
      "text/plain": [
       "0.9833333333333333"
      ]
     },
     "execution_count": 36,
     "metadata": {},
     "output_type": "execute_result"
    }
   ],
   "source": [
    "#Train and test model\r\n",
    "clf = GaussianNB()\r\n",
    "clf = clf.fit(X_train ,y_train)\r\n",
    "clf.score(X_test, y_test) "
   ]
  },
  {
   "cell_type": "markdown",
   "metadata": {
    "collapsed": false
   },
   "source": [
    "# Regression metrics"
   ]
  },
  {
   "cell_type": "code",
   "execution_count": 43,
   "metadata": {
    "collapsed": false
   },
   "outputs": [],
   "source": [
    "import pandas as pd\r\n",
    "# used to read the data set\r\n",
    "import numpy as np\r\n",
    "# used to do some operations with the arrays\r\n",
    "import os\r\n",
    "# used handle some files\r\n",
    "import matplotlib.pyplot as plt\r\n",
    "# used to visualize the data using graphs\r\n",
    "import seaborn as sns\r\n",
    "# plotting the chart in a single line"
   ]
  },
  {
   "cell_type": "code",
   "execution_count": 44,
   "metadata": {
    "collapsed": false
   },
   "outputs": [],
   "source": [
    "df = pd.read_csv(\"data/Iris.csv\")"
   ]
  },
  {
   "cell_type": "code",
   "execution_count": 45,
   "metadata": {
    "collapsed": false
   },
   "outputs": [
    {
     "data": {
      "text/html": [
       "<div>\n",
       "<style scoped>\n",
       "    .dataframe tbody tr th:only-of-type {\n",
       "        vertical-align: middle;\n",
       "    }\n",
       "\n",
       "    .dataframe tbody tr th {\n",
       "        vertical-align: top;\n",
       "    }\n",
       "\n",
       "    .dataframe thead th {\n",
       "        text-align: right;\n",
       "    }\n",
       "</style>\n",
       "<table border=\"1\" class=\"dataframe\">\n",
       "  <thead>\n",
       "    <tr style=\"text-align: right;\">\n",
       "      <th></th>\n",
       "      <th>Id</th>\n",
       "      <th>SepalLengthCm</th>\n",
       "      <th>SepalWidthCm</th>\n",
       "      <th>PetalLengthCm</th>\n",
       "      <th>PetalWidthCm</th>\n",
       "      <th>Species</th>\n",
       "    </tr>\n",
       "  </thead>\n",
       "  <tbody>\n",
       "    <tr>\n",
       "      <th>0</th>\n",
       "      <td>1</td>\n",
       "      <td>5.1</td>\n",
       "      <td>3.5</td>\n",
       "      <td>1.4</td>\n",
       "      <td>0.2</td>\n",
       "      <td>Iris-setosa</td>\n",
       "    </tr>\n",
       "    <tr>\n",
       "      <th>1</th>\n",
       "      <td>2</td>\n",
       "      <td>4.9</td>\n",
       "      <td>3.0</td>\n",
       "      <td>1.4</td>\n",
       "      <td>0.2</td>\n",
       "      <td>Iris-setosa</td>\n",
       "    </tr>\n",
       "    <tr>\n",
       "      <th>2</th>\n",
       "      <td>3</td>\n",
       "      <td>4.7</td>\n",
       "      <td>3.2</td>\n",
       "      <td>1.3</td>\n",
       "      <td>0.2</td>\n",
       "      <td>Iris-setosa</td>\n",
       "    </tr>\n",
       "    <tr>\n",
       "      <th>3</th>\n",
       "      <td>4</td>\n",
       "      <td>4.6</td>\n",
       "      <td>3.1</td>\n",
       "      <td>1.5</td>\n",
       "      <td>0.2</td>\n",
       "      <td>Iris-setosa</td>\n",
       "    </tr>\n",
       "    <tr>\n",
       "      <th>4</th>\n",
       "      <td>5</td>\n",
       "      <td>5.0</td>\n",
       "      <td>3.6</td>\n",
       "      <td>1.4</td>\n",
       "      <td>0.2</td>\n",
       "      <td>Iris-setosa</td>\n",
       "    </tr>\n",
       "  </tbody>\n",
       "</table>\n",
       "</div>"
      ],
      "text/plain": [
       "   Id  SepalLengthCm  SepalWidthCm  PetalLengthCm  PetalWidthCm      Species\n",
       "0   1            5.1           3.5            1.4           0.2  Iris-setosa\n",
       "1   2            4.9           3.0            1.4           0.2  Iris-setosa\n",
       "2   3            4.7           3.2            1.3           0.2  Iris-setosa\n",
       "3   4            4.6           3.1            1.5           0.2  Iris-setosa\n",
       "4   5            5.0           3.6            1.4           0.2  Iris-setosa"
      ]
     },
     "execution_count": 45,
     "metadata": {},
     "output_type": "execute_result"
    }
   ],
   "source": [
    "df.head(5)"
   ]
  },
  {
   "cell_type": "code",
   "execution_count": 46,
   "metadata": {
    "collapsed": false
   },
   "outputs": [
    {
     "data": {
      "text/html": [
       "<div>\n",
       "<style scoped>\n",
       "    .dataframe tbody tr th:only-of-type {\n",
       "        vertical-align: middle;\n",
       "    }\n",
       "\n",
       "    .dataframe tbody tr th {\n",
       "        vertical-align: top;\n",
       "    }\n",
       "\n",
       "    .dataframe thead th {\n",
       "        text-align: right;\n",
       "    }\n",
       "</style>\n",
       "<table border=\"1\" class=\"dataframe\">\n",
       "  <thead>\n",
       "    <tr style=\"text-align: right;\">\n",
       "      <th></th>\n",
       "      <th>SepalLengthCm</th>\n",
       "      <th>SepalWidthCm</th>\n",
       "      <th>PetalLengthCm</th>\n",
       "      <th>PetalWidthCm</th>\n",
       "      <th>Species</th>\n",
       "    </tr>\n",
       "  </thead>\n",
       "  <tbody>\n",
       "    <tr>\n",
       "      <th>0</th>\n",
       "      <td>5.1</td>\n",
       "      <td>3.5</td>\n",
       "      <td>1.4</td>\n",
       "      <td>0.2</td>\n",
       "      <td>Iris-setosa</td>\n",
       "    </tr>\n",
       "    <tr>\n",
       "      <th>1</th>\n",
       "      <td>4.9</td>\n",
       "      <td>3.0</td>\n",
       "      <td>1.4</td>\n",
       "      <td>0.2</td>\n",
       "      <td>Iris-setosa</td>\n",
       "    </tr>\n",
       "    <tr>\n",
       "      <th>2</th>\n",
       "      <td>4.7</td>\n",
       "      <td>3.2</td>\n",
       "      <td>1.3</td>\n",
       "      <td>0.2</td>\n",
       "      <td>Iris-setosa</td>\n",
       "    </tr>\n",
       "    <tr>\n",
       "      <th>3</th>\n",
       "      <td>4.6</td>\n",
       "      <td>3.1</td>\n",
       "      <td>1.5</td>\n",
       "      <td>0.2</td>\n",
       "      <td>Iris-setosa</td>\n",
       "    </tr>\n",
       "    <tr>\n",
       "      <th>4</th>\n",
       "      <td>5.0</td>\n",
       "      <td>3.6</td>\n",
       "      <td>1.4</td>\n",
       "      <td>0.2</td>\n",
       "      <td>Iris-setosa</td>\n",
       "    </tr>\n",
       "  </tbody>\n",
       "</table>\n",
       "</div>"
      ],
      "text/plain": [
       "   SepalLengthCm  SepalWidthCm  PetalLengthCm  PetalWidthCm      Species\n",
       "0            5.1           3.5            1.4           0.2  Iris-setosa\n",
       "1            4.9           3.0            1.4           0.2  Iris-setosa\n",
       "2            4.7           3.2            1.3           0.2  Iris-setosa\n",
       "3            4.6           3.1            1.5           0.2  Iris-setosa\n",
       "4            5.0           3.6            1.4           0.2  Iris-setosa"
      ]
     },
     "execution_count": 46,
     "metadata": {},
     "output_type": "execute_result"
    }
   ],
   "source": [
    "df = df.drop(columns = ['Id'])\r\n",
    "df.head(5)"
   ]
  },
  {
   "cell_type": "code",
   "execution_count": 47,
   "metadata": {
    "collapsed": false
   },
   "outputs": [
    {
     "name": "stdout",
     "output_type": "stream",
     "text": [
      "<class 'pandas.core.frame.DataFrame'>\n",
      "RangeIndex: 150 entries, 0 to 149\n",
      "Data columns (total 5 columns):\n",
      " #   Column         Non-Null Count  Dtype  \n",
      "---  ------         --------------  -----  \n",
      " 0   SepalLengthCm  150 non-null    float64\n",
      " 1   SepalWidthCm   150 non-null    float64\n",
      " 2   PetalLengthCm  150 non-null    float64\n",
      " 3   PetalWidthCm   150 non-null    float64\n",
      " 4   Species        150 non-null    object \n",
      "dtypes: float64(4), object(1)\n",
      "memory usage: 6.0+ KB\n"
     ]
    }
   ],
   "source": [
    "df.info()"
   ]
  },
  {
   "cell_type": "code",
   "execution_count": 48,
   "metadata": {
    "collapsed": false
   },
   "outputs": [
    {
     "data": {
      "text/plain": [
       "Iris-virginica     50\n",
       "Iris-versicolor    50\n",
       "Iris-setosa        50\n",
       "Name: Species, dtype: int64"
      ]
     },
     "execution_count": 48,
     "metadata": {},
     "output_type": "execute_result"
    }
   ],
   "source": [
    "df['Species'].value_counts()"
   ]
  },
  {
   "cell_type": "code",
   "execution_count": 49,
   "metadata": {
    "collapsed": false
   },
   "outputs": [
    {
     "data": {
      "text/plain": [
       "SepalLengthCm    0\n",
       "SepalWidthCm     0\n",
       "PetalLengthCm    0\n",
       "PetalWidthCm     0\n",
       "Species          0\n",
       "dtype: int64"
      ]
     },
     "execution_count": 49,
     "metadata": {},
     "output_type": "execute_result"
    }
   ],
   "source": [
    "df.isnull().sum()"
   ]
  },
  {
   "cell_type": "code",
   "execution_count": 50,
   "metadata": {
    "collapsed": false
   },
   "outputs": [
    {
     "data": {
      "text/plain": [
       "<matplotlib.axes._subplots.AxesSubplot at 0x7fdd4667e890>"
      ]
     },
     "execution_count": 50,
     "metadata": {},
     "output_type": "execute_result"
    },
    {
     "data": {
      "image/png": "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\n",
      "text/plain": [
       "<Figure size 432x288 with 1 Axes>"
      ]
     },
     "metadata": {},
     "output_type": "display_data"
    }
   ],
   "source": [
    "df['SepalLengthCm'].hist()\r\n",
    "df['SepalWidthCm'].hist()"
   ]
  },
  {
   "cell_type": "code",
   "execution_count": 51,
   "metadata": {
    "collapsed": false
   },
   "outputs": [
    {
     "data": {
      "text/plain": [
       "<matplotlib.axes._subplots.AxesSubplot at 0x7fdd46685bd0>"
      ]
     },
     "execution_count": 51,
     "metadata": {},
     "output_type": "execute_result"
    },
    {
     "data": {
      "image/png": "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\n",
      "text/plain": [
       "<Figure size 432x288 with 1 Axes>"
      ]
     },
     "metadata": {},
     "output_type": "display_data"
    }
   ],
   "source": [
    "df['PetalLengthCm'].hist()\r\n",
    "df['PetalWidthCm'].hist()"
   ]
  },
  {
   "cell_type": "code",
   "execution_count": 52,
   "metadata": {
    "collapsed": false
   },
   "outputs": [
    {
     "data": {
      "text/html": [
       "<div>\n",
       "<style scoped>\n",
       "    .dataframe tbody tr th:only-of-type {\n",
       "        vertical-align: middle;\n",
       "    }\n",
       "\n",
       "    .dataframe tbody tr th {\n",
       "        vertical-align: top;\n",
       "    }\n",
       "\n",
       "    .dataframe thead th {\n",
       "        text-align: right;\n",
       "    }\n",
       "</style>\n",
       "<table border=\"1\" class=\"dataframe\">\n",
       "  <thead>\n",
       "    <tr style=\"text-align: right;\">\n",
       "      <th></th>\n",
       "      <th>SepalLengthCm</th>\n",
       "      <th>SepalWidthCm</th>\n",
       "      <th>PetalLengthCm</th>\n",
       "      <th>PetalWidthCm</th>\n",
       "    </tr>\n",
       "  </thead>\n",
       "  <tbody>\n",
       "    <tr>\n",
       "      <th>SepalLengthCm</th>\n",
       "      <td>1.000000</td>\n",
       "      <td>-0.109369</td>\n",
       "      <td>0.871754</td>\n",
       "      <td>0.817954</td>\n",
       "    </tr>\n",
       "    <tr>\n",
       "      <th>SepalWidthCm</th>\n",
       "      <td>-0.109369</td>\n",
       "      <td>1.000000</td>\n",
       "      <td>-0.420516</td>\n",
       "      <td>-0.356544</td>\n",
       "    </tr>\n",
       "    <tr>\n",
       "      <th>PetalLengthCm</th>\n",
       "      <td>0.871754</td>\n",
       "      <td>-0.420516</td>\n",
       "      <td>1.000000</td>\n",
       "      <td>0.962757</td>\n",
       "    </tr>\n",
       "    <tr>\n",
       "      <th>PetalWidthCm</th>\n",
       "      <td>0.817954</td>\n",
       "      <td>-0.356544</td>\n",
       "      <td>0.962757</td>\n",
       "      <td>1.000000</td>\n",
       "    </tr>\n",
       "  </tbody>\n",
       "</table>\n",
       "</div>"
      ],
      "text/plain": [
       "               SepalLengthCm  SepalWidthCm  PetalLengthCm  PetalWidthCm\n",
       "SepalLengthCm       1.000000     -0.109369       0.871754      0.817954\n",
       "SepalWidthCm       -0.109369      1.000000      -0.420516     -0.356544\n",
       "PetalLengthCm       0.871754     -0.420516       1.000000      0.962757\n",
       "PetalWidthCm        0.817954     -0.356544       0.962757      1.000000"
      ]
     },
     "execution_count": 52,
     "metadata": {},
     "output_type": "execute_result"
    }
   ],
   "source": [
    "df.corr()"
   ]
  },
  {
   "cell_type": "code",
   "execution_count": 53,
   "metadata": {
    "collapsed": false
   },
   "outputs": [
    {
     "data": {
      "text/html": [
       "<div>\n",
       "<style scoped>\n",
       "    .dataframe tbody tr th:only-of-type {\n",
       "        vertical-align: middle;\n",
       "    }\n",
       "\n",
       "    .dataframe tbody tr th {\n",
       "        vertical-align: top;\n",
       "    }\n",
       "\n",
       "    .dataframe thead th {\n",
       "        text-align: right;\n",
       "    }\n",
       "</style>\n",
       "<table border=\"1\" class=\"dataframe\">\n",
       "  <thead>\n",
       "    <tr style=\"text-align: right;\">\n",
       "      <th></th>\n",
       "      <th>SepalLengthCm</th>\n",
       "      <th>SepalWidthCm</th>\n",
       "      <th>PetalLengthCm</th>\n",
       "      <th>PetalWidthCm</th>\n",
       "      <th>Species</th>\n",
       "    </tr>\n",
       "  </thead>\n",
       "  <tbody>\n",
       "    <tr>\n",
       "      <th>0</th>\n",
       "      <td>5.1</td>\n",
       "      <td>3.5</td>\n",
       "      <td>1.4</td>\n",
       "      <td>0.2</td>\n",
       "      <td>0</td>\n",
       "    </tr>\n",
       "    <tr>\n",
       "      <th>1</th>\n",
       "      <td>4.9</td>\n",
       "      <td>3.0</td>\n",
       "      <td>1.4</td>\n",
       "      <td>0.2</td>\n",
       "      <td>0</td>\n",
       "    </tr>\n",
       "    <tr>\n",
       "      <th>2</th>\n",
       "      <td>4.7</td>\n",
       "      <td>3.2</td>\n",
       "      <td>1.3</td>\n",
       "      <td>0.2</td>\n",
       "      <td>0</td>\n",
       "    </tr>\n",
       "    <tr>\n",
       "      <th>3</th>\n",
       "      <td>4.6</td>\n",
       "      <td>3.1</td>\n",
       "      <td>1.5</td>\n",
       "      <td>0.2</td>\n",
       "      <td>0</td>\n",
       "    </tr>\n",
       "    <tr>\n",
       "      <th>4</th>\n",
       "      <td>5.0</td>\n",
       "      <td>3.6</td>\n",
       "      <td>1.4</td>\n",
       "      <td>0.2</td>\n",
       "      <td>0</td>\n",
       "    </tr>\n",
       "    <tr>\n",
       "      <th>...</th>\n",
       "      <td>...</td>\n",
       "      <td>...</td>\n",
       "      <td>...</td>\n",
       "      <td>...</td>\n",
       "      <td>...</td>\n",
       "    </tr>\n",
       "    <tr>\n",
       "      <th>95</th>\n",
       "      <td>5.7</td>\n",
       "      <td>3.0</td>\n",
       "      <td>4.2</td>\n",
       "      <td>1.2</td>\n",
       "      <td>1</td>\n",
       "    </tr>\n",
       "    <tr>\n",
       "      <th>96</th>\n",
       "      <td>5.7</td>\n",
       "      <td>2.9</td>\n",
       "      <td>4.2</td>\n",
       "      <td>1.3</td>\n",
       "      <td>1</td>\n",
       "    </tr>\n",
       "    <tr>\n",
       "      <th>97</th>\n",
       "      <td>6.2</td>\n",
       "      <td>2.9</td>\n",
       "      <td>4.3</td>\n",
       "      <td>1.3</td>\n",
       "      <td>1</td>\n",
       "    </tr>\n",
       "    <tr>\n",
       "      <th>98</th>\n",
       "      <td>5.1</td>\n",
       "      <td>2.5</td>\n",
       "      <td>3.0</td>\n",
       "      <td>1.1</td>\n",
       "      <td>1</td>\n",
       "    </tr>\n",
       "    <tr>\n",
       "      <th>99</th>\n",
       "      <td>5.7</td>\n",
       "      <td>2.8</td>\n",
       "      <td>4.1</td>\n",
       "      <td>1.3</td>\n",
       "      <td>1</td>\n",
       "    </tr>\n",
       "  </tbody>\n",
       "</table>\n",
       "<p>100 rows × 5 columns</p>\n",
       "</div>"
      ],
      "text/plain": [
       "    SepalLengthCm  SepalWidthCm  PetalLengthCm  PetalWidthCm  Species\n",
       "0             5.1           3.5            1.4           0.2        0\n",
       "1             4.9           3.0            1.4           0.2        0\n",
       "2             4.7           3.2            1.3           0.2        0\n",
       "3             4.6           3.1            1.5           0.2        0\n",
       "4             5.0           3.6            1.4           0.2        0\n",
       "..            ...           ...            ...           ...      ...\n",
       "95            5.7           3.0            4.2           1.2        1\n",
       "96            5.7           2.9            4.2           1.3        1\n",
       "97            6.2           2.9            4.3           1.3        1\n",
       "98            5.1           2.5            3.0           1.1        1\n",
       "99            5.7           2.8            4.1           1.3        1\n",
       "\n",
       "[100 rows x 5 columns]"
      ]
     },
     "execution_count": 53,
     "metadata": {},
     "output_type": "execute_result"
    }
   ],
   "source": [
    "from sklearn.preprocessing import LabelEncoder\r\n",
    "le = LabelEncoder()\r\n",
    "df['Species'] = le.fit_transform(df['Species'])\r\n",
    "df.head(100)"
   ]
  },
  {
   "cell_type": "code",
   "execution_count": 54,
   "metadata": {
    "collapsed": false
   },
   "outputs": [],
   "source": [
    "from sklearn.model_selection import train_test_split"
   ]
  },
  {
   "cell_type": "code",
   "execution_count": 57,
   "metadata": {
    "collapsed": false
   },
   "outputs": [
    {
     "data": {
      "text/plain": [
       "LogisticRegression()"
      ]
     },
     "execution_count": 57,
     "metadata": {},
     "output_type": "execute_result"
    }
   ],
   "source": [
    "X = df.drop(columns = ['Species'])\r\n",
    "Y = df['Species']\r\n",
    "X_train, X_test, Y_train, Y_test = train_test_split(X, Y, test_size = 0.25)\r\n",
    "from sklearn.linear_model import LogisticRegression\r\n",
    "model = LogisticRegression()\r\n",
    "model.fit(X_train, Y_train)"
   ]
  },
  {
   "cell_type": "code",
   "execution_count": 58,
   "metadata": {
    "collapsed": false
   },
   "outputs": [
    {
     "name": "stdout",
     "output_type": "stream",
     "text": [
      "Accuracy:  97.36842105263158\n"
     ]
    }
   ],
   "source": [
    "print(\"Accuracy: \", model.score(X_test, Y_test) * 100)"
   ]
  }
 ],
 "metadata": {
  "kernelspec": {
   "display_name": "Python 3",
   "language": "python",
   "name": "py35-paddle1.2.0"
  },
  "language_info": {
   "codemirror_mode": {
    "name": "ipython",
    "version": 3
   },
   "file_extension": ".py",
   "mimetype": "text/x-python",
   "name": "python",
   "nbconvert_exporter": "python",
   "pygments_lexer": "ipython3",
   "version": "3.7.4"
  }
 },
 "nbformat": 4,
 "nbformat_minor": 1
}
